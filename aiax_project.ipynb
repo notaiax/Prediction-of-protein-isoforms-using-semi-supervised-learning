{
 "cells": [
  {
   "cell_type": "markdown",
   "metadata": {},
   "source": [
    "Imports"
   ]
  },
  {
   "cell_type": "code",
   "execution_count": 5,
   "metadata": {},
   "outputs": [],
   "source": [
    "import pandas as pd\n",
    "import numpy as np\n",
    "import matplotlib.pyplot as plt\n",
    "import seaborn as sns"
   ]
  },
  {
   "cell_type": "markdown",
   "metadata": {},
   "source": [
    "Helper functions"
   ]
  },
  {
   "cell_type": "code",
   "execution_count": 6,
   "metadata": {},
   "outputs": [],
   "source": [
    "def load_data_chunk(filename, chunk_size=1000):\n",
    "    \"\"\" Load a chunk of data from a gzipped TSV file. \"\"\"\n",
    "    return pd.read_csv(filename, sep='\\t', compression='gzip', chunksize=chunk_size)"
   ]
  },
  {
   "cell_type": "markdown",
   "metadata": {},
   "source": [
    "Load data"
   ]
  },
  {
   "cell_type": "code",
   "execution_count": 7,
   "metadata": {},
   "outputs": [],
   "source": [
    "# Define the file paths\n",
    "archs4_path = \"/dtu-compute/datasets/iso_02456/archs4_gene_expression_norm_transposed.tsv.gz\"\n",
    "gtex_gene_path = \"/dtu-compute/datasets/iso_02456/gtex_gene_expression_norm_transposed.tsv.gz\"\n",
    "gtex_isoform_path = \"/dtu-compute/datasets/iso_02456/gtex_isoform_expression_norm_transposed.tsv.gz\"\n",
    "gtex_anno_path = \"/dtu-compute/datasets/iso_02456/gtex_gene_isoform_annoation.tsv.gz\"\n",
    "gtex_tissue_path = \"/dtu-compute/datasets/iso_02456/gtex_annot.tsv.gz\"\n",
    "\n",
    "\n",
    "archs4_chunk = next(load_data_chunk(archs4_path, chunk_size=10))\n",
    "gtex_gene_chunk = next(load_data_chunk(gtex_gene_path, chunk_size=10))\n",
    "gtex_isoform_chunk = next(load_data_chunk(gtex_isoform_path, chunk_size=10))\n",
    "gtex_anno_chunk = next(load_data_chunk(gtex_anno_path, chunk_size=10))\n",
    "gtex_tissue_chunk = next(load_data_chunk(gtex_tissue_path, chunk_size=10))"
   ]
  },
  {
   "cell_type": "markdown",
   "metadata": {},
   "source": [
    "Data exploration"
   ]
  },
  {
   "cell_type": "code",
   "execution_count": 8,
   "metadata": {},
   "outputs": [
    {
     "name": "stdout",
     "output_type": "stream",
     "text": [
      "(10, 18966)\n",
      "    sample_id      A1BG      A1CF       A2M     A2ML1   A3GALT2    A4GALT  \\\n",
      "0  GSM4747249  2.808001  0.146667  1.522200  1.951247  0.000000  0.761953   \n",
      "1  GSM4063503  2.392233  0.036178  7.570420  0.699714  0.152128  2.384229   \n",
      "2  GSM4631135  4.288390  0.777380  1.597797  1.297746  0.000000  1.765906   \n",
      "3  GSM5374404  2.644249  0.092517  0.094436  0.924249  0.000000  0.045038   \n",
      "4  GSM4891113  4.136538  0.000000  6.873902  0.000000  0.000000  1.854200   \n",
      "\n",
      "      A4GNT      AAAS      AACS  ...    ZWILCH     ZWINT      ZXDA      ZXDB  \\\n",
      "0  0.000000  2.180121  3.665097  ...  2.573919  1.071359  0.498314  0.000000   \n",
      "1  0.000000  3.093951  2.633251  ...  1.647097  2.084497  0.074117  0.335072   \n",
      "2  0.072869  7.404695  5.880534  ...  5.007085  7.096970  1.015069  2.342714   \n",
      "3  0.033435  6.204663  3.079830  ...  4.087812  6.756117  0.212525  1.424847   \n",
      "4  0.000000  4.083567  5.713674  ...  2.979250  2.514846  1.253094  1.885699   \n",
      "\n",
      "       ZXDC    ZYG11A    ZYG11B       ZYX     ZZEF1      ZZZ3  \n",
      "0  0.000000  1.010470  1.089335  7.949528  1.231341  2.523598  \n",
      "1  1.391557  0.141328  1.224800  6.773719  1.199932  2.207346  \n",
      "2  4.492950  1.202727  2.276278  6.418164  4.442671  4.773526  \n",
      "3  3.084751  2.289747  2.489499  6.583049  2.835447  4.189276  \n",
      "4  2.702891  0.089266  2.387202  6.009069  2.705997  3.915401  \n",
      "\n",
      "[5 rows x 18966 columns]\n"
     ]
    },
    {
     "data": {
      "text/html": [
       "<div>\n",
       "<style scoped>\n",
       "    .dataframe tbody tr th:only-of-type {\n",
       "        vertical-align: middle;\n",
       "    }\n",
       "\n",
       "    .dataframe tbody tr th {\n",
       "        vertical-align: top;\n",
       "    }\n",
       "\n",
       "    .dataframe thead th {\n",
       "        text-align: right;\n",
       "    }\n",
       "</style>\n",
       "<table border=\"1\" class=\"dataframe\">\n",
       "  <thead>\n",
       "    <tr style=\"text-align: right;\">\n",
       "      <th></th>\n",
       "      <th>A1BG</th>\n",
       "      <th>A1CF</th>\n",
       "      <th>A2M</th>\n",
       "      <th>A2ML1</th>\n",
       "      <th>A3GALT2</th>\n",
       "      <th>A4GALT</th>\n",
       "      <th>A4GNT</th>\n",
       "      <th>AAAS</th>\n",
       "      <th>AACS</th>\n",
       "      <th>AADAC</th>\n",
       "      <th>...</th>\n",
       "      <th>ZWILCH</th>\n",
       "      <th>ZWINT</th>\n",
       "      <th>ZXDA</th>\n",
       "      <th>ZXDB</th>\n",
       "      <th>ZXDC</th>\n",
       "      <th>ZYG11A</th>\n",
       "      <th>ZYG11B</th>\n",
       "      <th>ZYX</th>\n",
       "      <th>ZZEF1</th>\n",
       "      <th>ZZZ3</th>\n",
       "    </tr>\n",
       "  </thead>\n",
       "  <tbody>\n",
       "    <tr>\n",
       "      <th>count</th>\n",
       "      <td>10.000000</td>\n",
       "      <td>10.000000</td>\n",
       "      <td>10.000000</td>\n",
       "      <td>10.000000</td>\n",
       "      <td>10.000000</td>\n",
       "      <td>10.000000</td>\n",
       "      <td>10.000000</td>\n",
       "      <td>10.000000</td>\n",
       "      <td>10.000000</td>\n",
       "      <td>10.000000</td>\n",
       "      <td>...</td>\n",
       "      <td>10.000000</td>\n",
       "      <td>10.000000</td>\n",
       "      <td>10.000000</td>\n",
       "      <td>10.000000</td>\n",
       "      <td>10.000000</td>\n",
       "      <td>10.000000</td>\n",
       "      <td>10.000000</td>\n",
       "      <td>10.000000</td>\n",
       "      <td>10.000000</td>\n",
       "      <td>10.000000</td>\n",
       "    </tr>\n",
       "    <tr>\n",
       "      <th>mean</th>\n",
       "      <td>2.914253</td>\n",
       "      <td>1.161985</td>\n",
       "      <td>2.736391</td>\n",
       "      <td>0.733740</td>\n",
       "      <td>0.028405</td>\n",
       "      <td>1.467521</td>\n",
       "      <td>0.032041</td>\n",
       "      <td>4.885823</td>\n",
       "      <td>4.532398</td>\n",
       "      <td>0.816950</td>\n",
       "      <td>...</td>\n",
       "      <td>3.810000</td>\n",
       "      <td>4.703844</td>\n",
       "      <td>0.866003</td>\n",
       "      <td>1.793644</td>\n",
       "      <td>2.774589</td>\n",
       "      <td>1.005060</td>\n",
       "      <td>2.289029</td>\n",
       "      <td>6.502139</td>\n",
       "      <td>2.915470</td>\n",
       "      <td>4.316298</td>\n",
       "    </tr>\n",
       "    <tr>\n",
       "      <th>std</th>\n",
       "      <td>1.634860</td>\n",
       "      <td>1.656881</td>\n",
       "      <td>2.746807</td>\n",
       "      <td>0.587558</td>\n",
       "      <td>0.060072</td>\n",
       "      <td>1.049281</td>\n",
       "      <td>0.057955</td>\n",
       "      <td>1.499184</td>\n",
       "      <td>1.155333</td>\n",
       "      <td>1.863849</td>\n",
       "      <td>...</td>\n",
       "      <td>1.500157</td>\n",
       "      <td>2.532367</td>\n",
       "      <td>0.586458</td>\n",
       "      <td>1.098272</td>\n",
       "      <td>1.717009</td>\n",
       "      <td>0.992893</td>\n",
       "      <td>0.890759</td>\n",
       "      <td>2.155059</td>\n",
       "      <td>1.270440</td>\n",
       "      <td>1.212484</td>\n",
       "    </tr>\n",
       "    <tr>\n",
       "      <th>min</th>\n",
       "      <td>0.281666</td>\n",
       "      <td>0.000000</td>\n",
       "      <td>0.000000</td>\n",
       "      <td>0.000000</td>\n",
       "      <td>0.000000</td>\n",
       "      <td>0.000000</td>\n",
       "      <td>0.000000</td>\n",
       "      <td>2.180121</td>\n",
       "      <td>2.633251</td>\n",
       "      <td>0.000000</td>\n",
       "      <td>...</td>\n",
       "      <td>1.528099</td>\n",
       "      <td>1.071359</td>\n",
       "      <td>0.074117</td>\n",
       "      <td>0.000000</td>\n",
       "      <td>0.000000</td>\n",
       "      <td>0.014633</td>\n",
       "      <td>1.089335</td>\n",
       "      <td>0.782139</td>\n",
       "      <td>1.199932</td>\n",
       "      <td>2.207346</td>\n",
       "    </tr>\n",
       "    <tr>\n",
       "      <th>25%</th>\n",
       "      <td>2.455237</td>\n",
       "      <td>0.065392</td>\n",
       "      <td>0.736515</td>\n",
       "      <td>0.348123</td>\n",
       "      <td>0.000000</td>\n",
       "      <td>0.619001</td>\n",
       "      <td>0.000000</td>\n",
       "      <td>4.215482</td>\n",
       "      <td>3.673877</td>\n",
       "      <td>0.000000</td>\n",
       "      <td>...</td>\n",
       "      <td>2.675252</td>\n",
       "      <td>2.192084</td>\n",
       "      <td>0.303721</td>\n",
       "      <td>1.270832</td>\n",
       "      <td>1.404825</td>\n",
       "      <td>0.164078</td>\n",
       "      <td>1.570809</td>\n",
       "      <td>6.459385</td>\n",
       "      <td>1.981903</td>\n",
       "      <td>3.962455</td>\n",
       "    </tr>\n",
       "    <tr>\n",
       "      <th>50%</th>\n",
       "      <td>2.776604</td>\n",
       "      <td>0.147519</td>\n",
       "      <td>1.559998</td>\n",
       "      <td>0.695602</td>\n",
       "      <td>0.000000</td>\n",
       "      <td>1.810053</td>\n",
       "      <td>0.000000</td>\n",
       "      <td>5.171919</td>\n",
       "      <td>5.074258</td>\n",
       "      <td>0.032164</td>\n",
       "      <td>...</td>\n",
       "      <td>4.447917</td>\n",
       "      <td>5.870054</td>\n",
       "      <td>0.993472</td>\n",
       "      <td>1.776932</td>\n",
       "      <td>2.893821</td>\n",
       "      <td>0.700390</td>\n",
       "      <td>2.331740</td>\n",
       "      <td>6.867337</td>\n",
       "      <td>2.848284</td>\n",
       "      <td>4.481401</td>\n",
       "    </tr>\n",
       "    <tr>\n",
       "      <th>75%</th>\n",
       "      <td>4.061326</td>\n",
       "      <td>2.184477</td>\n",
       "      <td>4.221820</td>\n",
       "      <td>0.921204</td>\n",
       "      <td>0.000000</td>\n",
       "      <td>2.268435</td>\n",
       "      <td>0.033175</td>\n",
       "      <td>5.491801</td>\n",
       "      <td>5.296099</td>\n",
       "      <td>0.403799</td>\n",
       "      <td>...</td>\n",
       "      <td>4.988178</td>\n",
       "      <td>6.733668</td>\n",
       "      <td>1.247133</td>\n",
       "      <td>2.588420</td>\n",
       "      <td>4.286638</td>\n",
       "      <td>1.906778</td>\n",
       "      <td>2.680037</td>\n",
       "      <td>7.557019</td>\n",
       "      <td>3.817250</td>\n",
       "      <td>5.022024</td>\n",
       "    </tr>\n",
       "    <tr>\n",
       "      <th>max</th>\n",
       "      <td>5.504408</td>\n",
       "      <td>4.484502</td>\n",
       "      <td>7.570420</td>\n",
       "      <td>1.951247</td>\n",
       "      <td>0.152128</td>\n",
       "      <td>2.984220</td>\n",
       "      <td>0.181709</td>\n",
       "      <td>7.404695</td>\n",
       "      <td>5.880534</td>\n",
       "      <td>5.962025</td>\n",
       "      <td>...</td>\n",
       "      <td>5.525404</td>\n",
       "      <td>7.382543</td>\n",
       "      <td>1.873337</td>\n",
       "      <td>3.303075</td>\n",
       "      <td>5.034469</td>\n",
       "      <td>2.538329</td>\n",
       "      <td>3.637858</td>\n",
       "      <td>8.633802</td>\n",
       "      <td>4.833084</td>\n",
       "      <td>5.927927</td>\n",
       "    </tr>\n",
       "  </tbody>\n",
       "</table>\n",
       "<p>8 rows × 18965 columns</p>\n",
       "</div>"
      ],
      "text/plain": [
       "            A1BG       A1CF        A2M      A2ML1    A3GALT2     A4GALT  \\\n",
       "count  10.000000  10.000000  10.000000  10.000000  10.000000  10.000000   \n",
       "mean    2.914253   1.161985   2.736391   0.733740   0.028405   1.467521   \n",
       "std     1.634860   1.656881   2.746807   0.587558   0.060072   1.049281   \n",
       "min     0.281666   0.000000   0.000000   0.000000   0.000000   0.000000   \n",
       "25%     2.455237   0.065392   0.736515   0.348123   0.000000   0.619001   \n",
       "50%     2.776604   0.147519   1.559998   0.695602   0.000000   1.810053   \n",
       "75%     4.061326   2.184477   4.221820   0.921204   0.000000   2.268435   \n",
       "max     5.504408   4.484502   7.570420   1.951247   0.152128   2.984220   \n",
       "\n",
       "           A4GNT       AAAS       AACS      AADAC  ...     ZWILCH      ZWINT  \\\n",
       "count  10.000000  10.000000  10.000000  10.000000  ...  10.000000  10.000000   \n",
       "mean    0.032041   4.885823   4.532398   0.816950  ...   3.810000   4.703844   \n",
       "std     0.057955   1.499184   1.155333   1.863849  ...   1.500157   2.532367   \n",
       "min     0.000000   2.180121   2.633251   0.000000  ...   1.528099   1.071359   \n",
       "25%     0.000000   4.215482   3.673877   0.000000  ...   2.675252   2.192084   \n",
       "50%     0.000000   5.171919   5.074258   0.032164  ...   4.447917   5.870054   \n",
       "75%     0.033175   5.491801   5.296099   0.403799  ...   4.988178   6.733668   \n",
       "max     0.181709   7.404695   5.880534   5.962025  ...   5.525404   7.382543   \n",
       "\n",
       "            ZXDA       ZXDB       ZXDC     ZYG11A     ZYG11B        ZYX  \\\n",
       "count  10.000000  10.000000  10.000000  10.000000  10.000000  10.000000   \n",
       "mean    0.866003   1.793644   2.774589   1.005060   2.289029   6.502139   \n",
       "std     0.586458   1.098272   1.717009   0.992893   0.890759   2.155059   \n",
       "min     0.074117   0.000000   0.000000   0.014633   1.089335   0.782139   \n",
       "25%     0.303721   1.270832   1.404825   0.164078   1.570809   6.459385   \n",
       "50%     0.993472   1.776932   2.893821   0.700390   2.331740   6.867337   \n",
       "75%     1.247133   2.588420   4.286638   1.906778   2.680037   7.557019   \n",
       "max     1.873337   3.303075   5.034469   2.538329   3.637858   8.633802   \n",
       "\n",
       "           ZZEF1       ZZZ3  \n",
       "count  10.000000  10.000000  \n",
       "mean    2.915470   4.316298  \n",
       "std     1.270440   1.212484  \n",
       "min     1.199932   2.207346  \n",
       "25%     1.981903   3.962455  \n",
       "50%     2.848284   4.481401  \n",
       "75%     3.817250   5.022024  \n",
       "max     4.833084   5.927927  \n",
       "\n",
       "[8 rows x 18965 columns]"
      ]
     },
     "execution_count": 8,
     "metadata": {},
     "output_type": "execute_result"
    }
   ],
   "source": [
    "# Example for one dataset\n",
    "print(archs4_chunk.shape)\n",
    "print(archs4_chunk.head())\n",
    "archs4_chunk.describe()"
   ]
  },
  {
   "cell_type": "code",
   "execution_count": 9,
   "metadata": {},
   "outputs": [
    {
     "data": {
      "image/png": "[encoded data removed]",
      "text/plain": [
       "<Figure size 432x288 with 1 Axes>"
      ]
     },
     "metadata": {
      "needs_background": "light"
     },
     "output_type": "display_data"
    }
   ],
   "source": [
    "# Histogram for a selected column in archs4_chunk\n",
    "archs4_chunk.iloc[:, 1].hist(bins=50)\n",
    "plt.title('Distribution of a Selected Gene Expression')\n",
    "plt.xlabel('Expression Level')\n",
    "plt.ylabel('Frequency')\n",
    "plt.show()\n"
   ]
  },
  {
   "cell_type": "markdown",
   "metadata": {},
   "source": [
    "PCA analysis"
   ]
  },
  {
   "cell_type": "code",
   "execution_count": 10,
   "metadata": {},
   "outputs": [],
   "source": [
    "from sklearn.decomposition import PCA\n",
    "from sklearn.preprocessing import StandardScaler"
   ]
  },
  {
   "cell_type": "code",
   "execution_count": 12,
   "metadata": {},
   "outputs": [],
   "source": [
    "# Assuming the first column in gtex_gene_chunk is non-numeric data like sample identifiers\n",
    "features = gtex_gene_chunk.columns[1:]\n",
    "\n",
    "# Separating out the features (gene expression levels)\n",
    "x = gtex_gene_chunk.loc[:, features].values\n",
    "\n",
    "# Standardizing the features\n",
    "x_standardized = StandardScaler().fit_transform(x)\n"
   ]
  },
  {
   "cell_type": "code",
   "execution_count": 13,
   "metadata": {},
   "outputs": [],
   "source": [
    "pca = PCA(n_components=2)\n",
    "principal_components = pca.fit_transform(x_standardized)\n",
    "\n",
    "# Creating a DataFrame for the principal components\n",
    "principal_df = pd.DataFrame(data=principal_components, columns=['PC1', 'PC2'])\n"
   ]
  },
  {
   "cell_type": "code",
   "execution_count": 14,
   "metadata": {},
   "outputs": [
    {
     "data": {
      "image/png": "[encoded data removed]",
      "text/plain": [
       "<Figure size 576x432 with 1 Axes>"
      ]
     },
     "metadata": {
      "needs_background": "light"
     },
     "output_type": "display_data"
    }
   ],
   "source": [
    "plt.figure(figsize=(8,6))\n",
    "plt.scatter(principal_df['PC1'], principal_df['PC2'], s=50)\n",
    "plt.title('PCA of GTEx Gene Expression Data')\n",
    "plt.xlabel('Principal Component 1')\n",
    "plt.ylabel('Principal Component 2')\n",
    "plt.show()\n"
   ]
  },
  {
   "cell_type": "code",
   "execution_count": 15,
   "metadata": {},
   "outputs": [
    {
     "name": "stdout",
     "output_type": "stream",
     "text": [
      "Explained variance by PC1: 0.33\n",
      "Explained variance by PC2: 0.16\n"
     ]
    }
   ],
   "source": [
    "print(f\"Explained variance by PC1: {pca.explained_variance_ratio_[0]:.2f}\")\n",
    "print(f\"Explained variance by PC2: {pca.explained_variance_ratio_[1]:.2f}\")\n"
   ]
  }
 ],
 "metadata": {
  "kernelspec": {
   "display_name": "Python 3",
   "language": "python",
   "name": "python3"
  },
  "language_info": {
   "codemirror_mode": {
    "name": "ipython",
    "version": 3
   },
   "file_extension": ".py",
   "mimetype": "text/x-python",
   "name": "python",
   "nbconvert_exporter": "python",
   "pygments_lexer": "ipython3",
   "version": "3.6.8"
  }
 },
 "nbformat": 4,
 "nbformat_minor": 2
}
