{
  "cells": [
    {
      "cell_type": "code",
      "execution_count": 18,
      "metadata": {
        "id": "-LbQC9Wc6dmg"
      },
      "outputs": [],
      "source": [
        "from typing import *\n",
        "import matplotlib\n",
        "import matplotlib.pyplot as plt\n",
        "from IPython.display import Image, display, clear_output\n",
        "import numpy as np\n",
        "import seaborn as sns\n",
        "import pandas as pd\n",
        "sns.set_style(\"whitegrid\")\n",
        "import requests\n",
        "\n",
        "import math\n",
        "import torch\n",
        "from torch import nn, Tensor\n",
        "from torch.nn.functional import softplus\n",
        "from torch.distributions import Distribution\n",
        "\n",
        "\n",
        "from torch.utils.data import Dataset, DataLoader\n",
        "from torch.utils.data.sampler import SubsetRandomSampler\n",
        "from torchvision.datasets import MNIST\n",
        "from torchvision.transforms import ToTensor\n",
        "from functools import reduce\n",
        "from torch.distributions.bernoulli import Bernoulli\n",
        "\n",
        "import gzip\n",
        "from sklearn.preprocessing import LabelEncoder\n",
        "from sklearn.model_selection import train_test_split\n",
        "\n",
        "\n",
        "\n",
        "try:\n",
        "    from plotting import make_vae_plots\n",
        "except:\n",
        "    try:\n",
        "        # Download the file\n",
        "        url = \"https://raw.githubusercontent.com/DeepLearningDTU/02456-deep-learning-with-PyTorch/master/7_Unsupervised/plotting.py\"\n",
        "        response = requests.get(url)\n",
        "        with open(\"plotting.py\", \"w\") as file:\n",
        "            file.write(response.text)\n",
        "\n",
        "        # Try importing again\n",
        "        from plotting import make_vae_plots\n",
        "    except Exception as ex:\n",
        "        print(f\"If using Colab, you may need to upload `plotting.py`. \\\n",
        "              \\nIn the left pannel, click `Files > upload to session storage` and select the file `plotting.py` from your computer \\\n",
        "              \\n---------------------------------------------\")\n",
        "        print(ex)"
      ]
    },
    {
      "cell_type": "markdown",
      "metadata": {},
      "source": [
        "## Helper functions"
      ]
    },
    {
      "cell_type": "code",
      "execution_count": 2,
      "metadata": {},
      "outputs": [],
      "source": [
        "def load_data_chunk(filename, chunk_size=1000):\n",
        "    \"\"\" Load a chunk of data from a gzipped TSV file. \"\"\"\n",
        "    return pd.read_csv(filename, sep='\\t', compression='gzip', chunksize=chunk_size)\n",
        "\n",
        "def separate_ids_and_data(data):\n",
        "    ids = data.iloc[:, 0]\n",
        "    data = data.iloc[:, 1:]\n",
        "    return ids, data\n",
        "\n",
        "class ReparameterizedDiagonalGaussian(Distribution):\n",
        "    \"\"\"\n",
        "    A distribution `N(y | mu, sigma I)` compatible with the reparameterization trick given `epsilon ~ N(0, 1)`.\n",
        "    \"\"\"\n",
        "    def __init__(self, mu: Tensor, log_sigma:Tensor):\n",
        "        assert mu.shape == log_sigma.shape, f\"Tensors `mu` : {mu.shape} and ` log_sigma` : {log_sigma.shape} must be of the same shape\"\n",
        "        self.mu = mu\n",
        "        self.sigma = log_sigma.exp()\n",
        "\n",
        "    def sample_epsilon(self) -> Tensor:\n",
        "        \"\"\"`\\eps ~ N(0, I)`\"\"\"\n",
        "        return torch.empty_like(self.mu).normal_()\n",
        "\n",
        "    def sample(self) -> Tensor:\n",
        "        \"\"\"sample `z ~ N(z | mu, sigma)` (without gradients)\"\"\"\n",
        "        with torch.no_grad():\n",
        "            return self.rsample()\n",
        "\n",
        "    def rsample(self) -> Tensor:\n",
        "        \"\"\"sample `z ~ N(z | mu, sigma)` (with the reparameterization trick) \"\"\"\n",
        "        # z = mu + sigma * epsilon\n",
        "        return self.mu + self.sigma * self.sample_epsilon()\n",
        "\n",
        "    def log_prob(self, z: Tensor) -> Tensor:\n",
        "        \"\"\"return the log probability: log `p(z)`\"\"\"\n",
        "        # Log probability for Gaussian distribution\n",
        "        # log p(z) = -1/2 * [log(2*pi) + 2*log(sigma) + (z - mu)^2/sigma^2]\n",
        "        return -0.5 * (torch.log(2 * torch.tensor(math.pi)) + 2 * torch.log(self.sigma) +\n",
        "                       torch.pow(z - self.mu, 2) / torch.pow(self.sigma, 2))\n",
        "    \n",
        "    def count_csv_rows(filename):\n",
        "        # If the file is gzip-compressed, decompress it first\n",
        "        if filename.endswith('.gz'):\n",
        "            with gzip.open(filename, 'rt', newline='') as csvfile:\n",
        "                row_count = sum(1 for row in csvfile)\n",
        "        else:\n",
        "            # Specify the correct encoding (e.g., 'utf-8', 'latin-1', etc.)\n",
        "            encoding = 'utf-8'  # Change to the appropriate encoding if needed\n",
        "            with open(filename, 'r', newline='', encoding=encoding) as csvfile:\n",
        "                row_count = sum(1 for row in csvfile)\n",
        "        return row_count"
      ]
    },
    {
      "cell_type": "markdown",
      "metadata": {
        "id": "XbMPs6aIq267",
        "pycharm": {
          "name": "#%% md\n"
        }
      },
      "source": [
        "## Load Data"
      ]
    },
    {
      "cell_type": "code",
      "execution_count": 3,
      "metadata": {
        "colab": {
          "base_uri": "https://localhost:8080/"
        },
        "id": "gKE6MiTPq267",
        "outputId": "a22fa10f-d1fd-473b-bb30-70ddff0601fe",
        "pycharm": {
          "name": "#%%\n"
        }
      },
      "outputs": [
        {
          "data": {
            "text/plain": [
              "(18965, 156958)"
            ]
          },
          "execution_count": 3,
          "metadata": {},
          "output_type": "execute_result"
        }
      ],
      "source": [
        "# Define the file paths\n",
        "archs4_path = \"/dtu-compute/datasets/iso_02456/archs4_gene_expression_norm_transposed.tsv.gz\"\n",
        "gtex_gene_path = \"/dtu-compute/datasets/iso_02456/gtex_gene_expression_norm_transposed.tsv.gz\"\n",
        "gtex_isoform_path = \"/dtu-compute/datasets/iso_02456/gtex_isoform_expression_norm_transposed.tsv.gz\"\n",
        "gtex_anno_path = \"/dtu-compute/datasets/iso_02456/gtex_gene_isoform_annoation.tsv.gz\"\n",
        "gtex_tissue_path = \"/dtu-compute/datasets/iso_02456/gtex_annot.tsv.gz\"\n",
        "\n",
        "\n",
        "gtex_gene_chunk = next(load_data_chunk(gtex_gene_path, chunk_size=10))\n",
        "gtex_isoform_chunk = next(load_data_chunk(gtex_isoform_path, chunk_size=10))\n",
        "\n",
        "gene_ids, gene_data = separate_ids_and_data(gtex_gene_chunk)\n",
        "isoform_ids, isoform_data = separate_ids_and_data(gtex_isoform_chunk)\n",
        "\n",
        "num_genes = gene_data.shape[1]\n",
        "num_isoforms = isoform_data.shape[1]\n",
        "\n",
        "num_genes, num_isoforms"
      ]
    },
    {
      "cell_type": "code",
      "execution_count": 4,
      "metadata": {},
      "outputs": [
        {
          "name": "stdout",
          "output_type": "stream",
          "text": [
            "gtex_gene_path num rows: 17357\n"
          ]
        },
        {
          "data": {
            "text/plain": [
              "8.6785"
            ]
          },
          "execution_count": 4,
          "metadata": {},
          "output_type": "execute_result"
        }
      ],
      "source": [
        "# count_csv_rows(gtex_gene_path)\n",
        "print(\"gtex_gene_path num rows: 17357\")\n",
        "percentage_calc = 17357 * 0.0005\n",
        "percentage_calc"
      ]
    },
    {
      "cell_type": "markdown",
      "metadata": {},
      "source": [
        "Using percentage 0.001 should load 17 samples, and 0.01 170. We use 0.005 for 86 samples"
      ]
    },
    {
      "cell_type": "markdown",
      "metadata": {},
      "source": [
        "### Data Loader"
      ]
    },
    {
      "cell_type": "markdown",
      "metadata": {},
      "source": [
        "- Label Encoding: This converts each unique label into a unique integer. If you have a large number of classes, be aware of memory usage.\n",
        "- Inverse Transformation: If you need to get back the original labels from the encoded ones, you can use self.label_encoder.inverse_transform().\n",
        "- Data Types: Labels are converted to torch.long since they are now integers, which is a common practice for categorical labels in classification tasks."
      ]
    },
    {
      "cell_type": "code",
      "execution_count": 25,
      "metadata": {},
      "outputs": [],
      "source": [
        "class GeneExpressionDataset(Dataset):\n",
        "    \"\"\" # Old dataLoader with no TestSet\n",
        "    def __init__(self, filepath, percentage=0.1):\n",
        "        self.data = self.load_data_percentage(filepath, percentage)\n",
        "        # Assuming the first column is the label\n",
        "        self.labels = self.data.iloc[:, 0]\n",
        "        self.genes = self.data.iloc[:, 1:]\n",
        "\n",
        "        # Encode the labels\n",
        "        self.label_encoder = LabelEncoder()\n",
        "        self.encoded_labels = self.label_encoder.fit_transform(self.labels)\n",
        "    \"\"\"\n",
        "\n",
        "    def __init__(self, data, labels):\n",
        "        self.labels = labels\n",
        "        self.genes = data\n",
        "        self.label_encoder = LabelEncoder()\n",
        "        self.encoded_labels = self.label_encoder.fit_transform(self.labels)\n",
        "\n",
        "    def __len__(self):\n",
        "        return len(self.genes)\n",
        "\n",
        "    def __getitem__(self, idx):\n",
        "        if torch.is_tensor(idx):\n",
        "            idx = idx.tolist()\n",
        "\n",
        "        label = self.encoded_labels[idx]\n",
        "        genes = self.genes.iloc[idx]\n",
        "        return torch.tensor(genes.values, dtype=torch.float32), torch.tensor(label, dtype=torch.long)\n",
        "\n",
        "    def get_original_labels(self, encoded_labels):\n",
        "        return self.label_encoder.inverse_transform(encoded_labels)\n",
        "\n",
        "    @staticmethod\n",
        "    def load_data_percentage(filepath, percentage=0.1):\n",
        "        # Load a percentage of the data as shown previously\n",
        "        cols = pd.read_csv(filepath, sep='\\t', compression='gzip', nrows=0).columns\n",
        "        n_total_rows = sum(1 for row in open(filepath, 'rb'))\n",
        "        n_rows_to_load = int(n_total_rows * percentage)\n",
        "        skip_rows = np.random.choice(np.arange(1, n_total_rows), size=n_total_rows - n_rows_to_load, replace=False)\n",
        "        return pd.read_csv(filepath, sep='\\t', compression='gzip', usecols=cols, skiprows=skip_rows)\n"
      ]
    },
    {
      "cell_type": "code",
      "execution_count": 26,
      "metadata": {},
      "outputs": [],
      "source": [
        "load_percentage = 0.0005\n",
        "\n",
        "# Load the entire dataset\n",
        "full_data = GeneExpressionDataset.load_data_percentage(gtex_gene_path, percentage=load_percentage)\n",
        "\n",
        "# Split the data into training and testing sets\n",
        "train_data, test_data = train_test_split(full_data, test_size=0.2, random_state=42)\n",
        "\n",
        "# Create dataset instances for training and testing\n",
        "gene_train_dataset = GeneExpressionDataset(train_data.iloc[:, 1:], train_data.iloc[:, 0])\n",
        "gene_test_dataset = GeneExpressionDataset(test_data.iloc[:, 1:], test_data.iloc[:, 0])\n",
        "\n",
        "gene_train_loader = DataLoader(gene_train_dataset, batch_size=64, shuffle=True)\n",
        "gene_test_loader = DataLoader(gene_test_dataset, batch_size=64, shuffle=False)  # Usually, shuffling is not needed for testing\n"
      ]
    },
    {
      "cell_type": "code",
      "execution_count": 29,
      "metadata": {},
      "outputs": [
        {
          "data": {
            "text/html": [
              "<div>\n",
              "<style scoped>\n",
              "    .dataframe tbody tr th:only-of-type {\n",
              "        vertical-align: middle;\n",
              "    }\n",
              "\n",
              "    .dataframe tbody tr th {\n",
              "        vertical-align: top;\n",
              "    }\n",
              "\n",
              "    .dataframe thead th {\n",
              "        text-align: right;\n",
              "    }\n",
              "</style>\n",
              "<table border=\"1\" class=\"dataframe\">\n",
              "  <thead>\n",
              "    <tr style=\"text-align: right;\">\n",
              "      <th></th>\n",
              "      <th>sample_id</th>\n",
              "      <th>TMEM38B</th>\n",
              "      <th>SLC24A3</th>\n",
              "      <th>AXDND1</th>\n",
              "      <th>DUXA</th>\n",
              "      <th>ZCCHC13</th>\n",
              "      <th>FGF18</th>\n",
              "      <th>INPP5D</th>\n",
              "      <th>MAP2K4</th>\n",
              "      <th>BCAR1</th>\n",
              "      <th>...</th>\n",
              "      <th>MARCH10</th>\n",
              "      <th>EVL</th>\n",
              "      <th>CYP1A2</th>\n",
              "      <th>ZNF782</th>\n",
              "      <th>LIMCH1</th>\n",
              "      <th>WDR24</th>\n",
              "      <th>ANGPTL4</th>\n",
              "      <th>UGT2B7</th>\n",
              "      <th>PIPOX</th>\n",
              "      <th>CD1B</th>\n",
              "    </tr>\n",
              "  </thead>\n",
              "  <tbody>\n",
              "    <tr>\n",
              "      <th>0</th>\n",
              "      <td>GTEX-11ZVC-2926-SM-5986H</td>\n",
              "      <td>4.361066</td>\n",
              "      <td>4.869378</td>\n",
              "      <td>0.000000</td>\n",
              "      <td>0.070389</td>\n",
              "      <td>0.000000</td>\n",
              "      <td>1.687061</td>\n",
              "      <td>2.580145</td>\n",
              "      <td>3.304511</td>\n",
              "      <td>6.147103</td>\n",
              "      <td>...</td>\n",
              "      <td>0.000000</td>\n",
              "      <td>5.787380</td>\n",
              "      <td>0.000000</td>\n",
              "      <td>1.257011</td>\n",
              "      <td>5.947666</td>\n",
              "      <td>2.538538</td>\n",
              "      <td>3.044394</td>\n",
              "      <td>0.000000</td>\n",
              "      <td>0.632268</td>\n",
              "      <td>0.000000</td>\n",
              "    </tr>\n",
              "    <tr>\n",
              "      <th>1</th>\n",
              "      <td>GTEX-13N2G-0826-SM-5IJE6</td>\n",
              "      <td>2.516015</td>\n",
              "      <td>2.709291</td>\n",
              "      <td>0.815575</td>\n",
              "      <td>0.000000</td>\n",
              "      <td>0.000000</td>\n",
              "      <td>1.220330</td>\n",
              "      <td>5.249825</td>\n",
              "      <td>3.275007</td>\n",
              "      <td>5.359662</td>\n",
              "      <td>...</td>\n",
              "      <td>2.970854</td>\n",
              "      <td>7.426097</td>\n",
              "      <td>0.189034</td>\n",
              "      <td>0.903038</td>\n",
              "      <td>6.569856</td>\n",
              "      <td>3.193772</td>\n",
              "      <td>1.922198</td>\n",
              "      <td>0.443607</td>\n",
              "      <td>0.765535</td>\n",
              "      <td>0.042644</td>\n",
              "    </tr>\n",
              "    <tr>\n",
              "      <th>2</th>\n",
              "      <td>GTEX-1497J-2426-SM-7IGNX</td>\n",
              "      <td>1.847997</td>\n",
              "      <td>3.181103</td>\n",
              "      <td>0.056584</td>\n",
              "      <td>0.000000</td>\n",
              "      <td>0.000000</td>\n",
              "      <td>0.226509</td>\n",
              "      <td>3.397803</td>\n",
              "      <td>3.058316</td>\n",
              "      <td>4.450221</td>\n",
              "      <td>...</td>\n",
              "      <td>0.925999</td>\n",
              "      <td>6.256633</td>\n",
              "      <td>0.214125</td>\n",
              "      <td>0.992768</td>\n",
              "      <td>2.599318</td>\n",
              "      <td>3.252476</td>\n",
              "      <td>5.314334</td>\n",
              "      <td>0.163499</td>\n",
              "      <td>1.321928</td>\n",
              "      <td>0.807355</td>\n",
              "    </tr>\n",
              "    <tr>\n",
              "      <th>3</th>\n",
              "      <td>GTEX-14LZ3-0626-SM-5ZZWP</td>\n",
              "      <td>4.386811</td>\n",
              "      <td>3.683696</td>\n",
              "      <td>0.189034</td>\n",
              "      <td>0.000000</td>\n",
              "      <td>0.137504</td>\n",
              "      <td>0.704872</td>\n",
              "      <td>2.090853</td>\n",
              "      <td>3.212569</td>\n",
              "      <td>5.851249</td>\n",
              "      <td>...</td>\n",
              "      <td>0.000000</td>\n",
              "      <td>4.695994</td>\n",
              "      <td>0.000000</td>\n",
              "      <td>0.799087</td>\n",
              "      <td>6.023034</td>\n",
              "      <td>2.584963</td>\n",
              "      <td>3.552131</td>\n",
              "      <td>0.137504</td>\n",
              "      <td>0.111031</td>\n",
              "      <td>0.084064</td>\n",
              "    </tr>\n",
              "    <tr>\n",
              "      <th>4</th>\n",
              "      <td>GTEX-1EMGI-0326-SM-9MQM5</td>\n",
              "      <td>4.507795</td>\n",
              "      <td>4.412104</td>\n",
              "      <td>0.000000</td>\n",
              "      <td>0.000000</td>\n",
              "      <td>0.000000</td>\n",
              "      <td>0.321928</td>\n",
              "      <td>2.087463</td>\n",
              "      <td>3.250962</td>\n",
              "      <td>4.794936</td>\n",
              "      <td>...</td>\n",
              "      <td>0.000000</td>\n",
              "      <td>4.671859</td>\n",
              "      <td>0.000000</td>\n",
              "      <td>0.807355</td>\n",
              "      <td>6.060264</td>\n",
              "      <td>2.347666</td>\n",
              "      <td>2.327687</td>\n",
              "      <td>0.000000</td>\n",
              "      <td>0.214125</td>\n",
              "      <td>0.042644</td>\n",
              "    </tr>\n",
              "    <tr>\n",
              "      <th>5</th>\n",
              "      <td>GTEX-1GZ2Q-0011-R7b-SM-9OSWN</td>\n",
              "      <td>2.659925</td>\n",
              "      <td>2.475085</td>\n",
              "      <td>0.042644</td>\n",
              "      <td>0.000000</td>\n",
              "      <td>0.000000</td>\n",
              "      <td>0.584963</td>\n",
              "      <td>2.490570</td>\n",
              "      <td>3.185867</td>\n",
              "      <td>5.395748</td>\n",
              "      <td>...</td>\n",
              "      <td>0.956057</td>\n",
              "      <td>6.493135</td>\n",
              "      <td>0.000000</td>\n",
              "      <td>0.584963</td>\n",
              "      <td>5.518850</td>\n",
              "      <td>2.531069</td>\n",
              "      <td>6.651626</td>\n",
              "      <td>0.014355</td>\n",
              "      <td>3.472488</td>\n",
              "      <td>0.000000</td>\n",
              "    </tr>\n",
              "    <tr>\n",
              "      <th>6</th>\n",
              "      <td>GTEX-1GZHY-2426-SM-9JGGK</td>\n",
              "      <td>2.829850</td>\n",
              "      <td>3.526069</td>\n",
              "      <td>0.214125</td>\n",
              "      <td>0.000000</td>\n",
              "      <td>0.000000</td>\n",
              "      <td>0.985500</td>\n",
              "      <td>3.134221</td>\n",
              "      <td>3.671293</td>\n",
              "      <td>4.718636</td>\n",
              "      <td>...</td>\n",
              "      <td>0.565597</td>\n",
              "      <td>6.738633</td>\n",
              "      <td>0.042644</td>\n",
              "      <td>2.414136</td>\n",
              "      <td>5.114367</td>\n",
              "      <td>3.324811</td>\n",
              "      <td>3.212569</td>\n",
              "      <td>0.056584</td>\n",
              "      <td>0.933573</td>\n",
              "      <td>0.000000</td>\n",
              "    </tr>\n",
              "    <tr>\n",
              "      <th>7</th>\n",
              "      <td>GTEX-1H3O1-1326-SM-9MQLD</td>\n",
              "      <td>1.673556</td>\n",
              "      <td>2.498251</td>\n",
              "      <td>0.000000</td>\n",
              "      <td>0.000000</td>\n",
              "      <td>0.000000</td>\n",
              "      <td>0.201634</td>\n",
              "      <td>3.249445</td>\n",
              "      <td>3.950468</td>\n",
              "      <td>3.378512</td>\n",
              "      <td>...</td>\n",
              "      <td>0.124328</td>\n",
              "      <td>6.328047</td>\n",
              "      <td>0.807355</td>\n",
              "      <td>1.275007</td>\n",
              "      <td>3.419539</td>\n",
              "      <td>3.051372</td>\n",
              "      <td>2.855990</td>\n",
              "      <td>0.111031</td>\n",
              "      <td>0.731183</td>\n",
              "      <td>0.545968</td>\n",
              "    </tr>\n",
              "    <tr>\n",
              "      <th>8</th>\n",
              "      <td>GTEX-1I1HK-0011-R10b-SM-CJI3M</td>\n",
              "      <td>1.726831</td>\n",
              "      <td>3.060047</td>\n",
              "      <td>0.344828</td>\n",
              "      <td>0.000000</td>\n",
              "      <td>0.000000</td>\n",
              "      <td>1.104337</td>\n",
              "      <td>2.606442</td>\n",
              "      <td>5.662775</td>\n",
              "      <td>4.746313</td>\n",
              "      <td>...</td>\n",
              "      <td>0.855990</td>\n",
              "      <td>8.132731</td>\n",
              "      <td>0.000000</td>\n",
              "      <td>1.117695</td>\n",
              "      <td>4.879706</td>\n",
              "      <td>3.226509</td>\n",
              "      <td>3.237258</td>\n",
              "      <td>0.000000</td>\n",
              "      <td>3.397803</td>\n",
              "      <td>0.000000</td>\n",
              "    </tr>\n",
              "    <tr>\n",
              "      <th>9</th>\n",
              "      <td>GTEX-SIU8-0006-SM-2XCE5</td>\n",
              "      <td>0.722466</td>\n",
              "      <td>0.411426</td>\n",
              "      <td>0.000000</td>\n",
              "      <td>0.000000</td>\n",
              "      <td>0.000000</td>\n",
              "      <td>0.097611</td>\n",
              "      <td>6.572890</td>\n",
              "      <td>1.782409</td>\n",
              "      <td>0.516015</td>\n",
              "      <td>...</td>\n",
              "      <td>0.263034</td>\n",
              "      <td>7.710669</td>\n",
              "      <td>0.000000</td>\n",
              "      <td>0.263034</td>\n",
              "      <td>0.432959</td>\n",
              "      <td>1.899176</td>\n",
              "      <td>1.007196</td>\n",
              "      <td>0.000000</td>\n",
              "      <td>0.298658</td>\n",
              "      <td>0.176323</td>\n",
              "    </tr>\n",
              "    <tr>\n",
              "      <th>10</th>\n",
              "      <td>GTEX-SJXC-0726-SM-2XCFJ</td>\n",
              "      <td>3.935460</td>\n",
              "      <td>2.843984</td>\n",
              "      <td>2.157044</td>\n",
              "      <td>0.056584</td>\n",
              "      <td>0.000000</td>\n",
              "      <td>0.887525</td>\n",
              "      <td>3.144046</td>\n",
              "      <td>4.656496</td>\n",
              "      <td>4.516646</td>\n",
              "      <td>...</td>\n",
              "      <td>0.000000</td>\n",
              "      <td>6.406843</td>\n",
              "      <td>0.739848</td>\n",
              "      <td>2.867896</td>\n",
              "      <td>5.960002</td>\n",
              "      <td>3.260026</td>\n",
              "      <td>4.424250</td>\n",
              "      <td>0.150560</td>\n",
              "      <td>0.411426</td>\n",
              "      <td>0.263034</td>\n",
              "    </tr>\n",
              "    <tr>\n",
              "      <th>11</th>\n",
              "      <td>GTEX-WFG7-2326-SM-3GIKV</td>\n",
              "      <td>4.746313</td>\n",
              "      <td>4.139142</td>\n",
              "      <td>0.000000</td>\n",
              "      <td>0.097611</td>\n",
              "      <td>0.000000</td>\n",
              "      <td>1.070389</td>\n",
              "      <td>1.823749</td>\n",
              "      <td>4.136684</td>\n",
              "      <td>5.556123</td>\n",
              "      <td>...</td>\n",
              "      <td>0.000000</td>\n",
              "      <td>4.939697</td>\n",
              "      <td>0.028569</td>\n",
              "      <td>1.748461</td>\n",
              "      <td>6.468909</td>\n",
              "      <td>2.881665</td>\n",
              "      <td>3.513491</td>\n",
              "      <td>0.000000</td>\n",
              "      <td>0.823749</td>\n",
              "      <td>0.000000</td>\n",
              "    </tr>\n",
              "    <tr>\n",
              "      <th>12</th>\n",
              "      <td>GTEX-XMK1-2026-SM-4B65K</td>\n",
              "      <td>4.605257</td>\n",
              "      <td>1.400538</td>\n",
              "      <td>5.135863</td>\n",
              "      <td>0.275007</td>\n",
              "      <td>4.362470</td>\n",
              "      <td>1.056584</td>\n",
              "      <td>2.914565</td>\n",
              "      <td>3.920293</td>\n",
              "      <td>6.172127</td>\n",
              "      <td>...</td>\n",
              "      <td>7.441616</td>\n",
              "      <td>6.102658</td>\n",
              "      <td>0.111031</td>\n",
              "      <td>2.575312</td>\n",
              "      <td>3.795975</td>\n",
              "      <td>4.527946</td>\n",
              "      <td>3.347666</td>\n",
              "      <td>0.070389</td>\n",
              "      <td>1.356144</td>\n",
              "      <td>0.226509</td>\n",
              "    </tr>\n",
              "  </tbody>\n",
              "</table>\n",
              "<p>13 rows × 18966 columns</p>\n",
              "</div>"
            ],
            "text/plain": [
              "                        sample_id   TMEM38B   SLC24A3    AXDND1      DUXA  \\\n",
              "0        GTEX-11ZVC-2926-SM-5986H  4.361066  4.869378  0.000000  0.070389   \n",
              "1        GTEX-13N2G-0826-SM-5IJE6  2.516015  2.709291  0.815575  0.000000   \n",
              "2        GTEX-1497J-2426-SM-7IGNX  1.847997  3.181103  0.056584  0.000000   \n",
              "3        GTEX-14LZ3-0626-SM-5ZZWP  4.386811  3.683696  0.189034  0.000000   \n",
              "4        GTEX-1EMGI-0326-SM-9MQM5  4.507795  4.412104  0.000000  0.000000   \n",
              "5    GTEX-1GZ2Q-0011-R7b-SM-9OSWN  2.659925  2.475085  0.042644  0.000000   \n",
              "6        GTEX-1GZHY-2426-SM-9JGGK  2.829850  3.526069  0.214125  0.000000   \n",
              "7        GTEX-1H3O1-1326-SM-9MQLD  1.673556  2.498251  0.000000  0.000000   \n",
              "8   GTEX-1I1HK-0011-R10b-SM-CJI3M  1.726831  3.060047  0.344828  0.000000   \n",
              "9         GTEX-SIU8-0006-SM-2XCE5  0.722466  0.411426  0.000000  0.000000   \n",
              "10        GTEX-SJXC-0726-SM-2XCFJ  3.935460  2.843984  2.157044  0.056584   \n",
              "11        GTEX-WFG7-2326-SM-3GIKV  4.746313  4.139142  0.000000  0.097611   \n",
              "12        GTEX-XMK1-2026-SM-4B65K  4.605257  1.400538  5.135863  0.275007   \n",
              "\n",
              "     ZCCHC13     FGF18    INPP5D    MAP2K4     BCAR1  ...   MARCH10       EVL  \\\n",
              "0   0.000000  1.687061  2.580145  3.304511  6.147103  ...  0.000000  5.787380   \n",
              "1   0.000000  1.220330  5.249825  3.275007  5.359662  ...  2.970854  7.426097   \n",
              "2   0.000000  0.226509  3.397803  3.058316  4.450221  ...  0.925999  6.256633   \n",
              "3   0.137504  0.704872  2.090853  3.212569  5.851249  ...  0.000000  4.695994   \n",
              "4   0.000000  0.321928  2.087463  3.250962  4.794936  ...  0.000000  4.671859   \n",
              "5   0.000000  0.584963  2.490570  3.185867  5.395748  ...  0.956057  6.493135   \n",
              "6   0.000000  0.985500  3.134221  3.671293  4.718636  ...  0.565597  6.738633   \n",
              "7   0.000000  0.201634  3.249445  3.950468  3.378512  ...  0.124328  6.328047   \n",
              "8   0.000000  1.104337  2.606442  5.662775  4.746313  ...  0.855990  8.132731   \n",
              "9   0.000000  0.097611  6.572890  1.782409  0.516015  ...  0.263034  7.710669   \n",
              "10  0.000000  0.887525  3.144046  4.656496  4.516646  ...  0.000000  6.406843   \n",
              "11  0.000000  1.070389  1.823749  4.136684  5.556123  ...  0.000000  4.939697   \n",
              "12  4.362470  1.056584  2.914565  3.920293  6.172127  ...  7.441616  6.102658   \n",
              "\n",
              "      CYP1A2    ZNF782    LIMCH1     WDR24   ANGPTL4    UGT2B7     PIPOX  \\\n",
              "0   0.000000  1.257011  5.947666  2.538538  3.044394  0.000000  0.632268   \n",
              "1   0.189034  0.903038  6.569856  3.193772  1.922198  0.443607  0.765535   \n",
              "2   0.214125  0.992768  2.599318  3.252476  5.314334  0.163499  1.321928   \n",
              "3   0.000000  0.799087  6.023034  2.584963  3.552131  0.137504  0.111031   \n",
              "4   0.000000  0.807355  6.060264  2.347666  2.327687  0.000000  0.214125   \n",
              "5   0.000000  0.584963  5.518850  2.531069  6.651626  0.014355  3.472488   \n",
              "6   0.042644  2.414136  5.114367  3.324811  3.212569  0.056584  0.933573   \n",
              "7   0.807355  1.275007  3.419539  3.051372  2.855990  0.111031  0.731183   \n",
              "8   0.000000  1.117695  4.879706  3.226509  3.237258  0.000000  3.397803   \n",
              "9   0.000000  0.263034  0.432959  1.899176  1.007196  0.000000  0.298658   \n",
              "10  0.739848  2.867896  5.960002  3.260026  4.424250  0.150560  0.411426   \n",
              "11  0.028569  1.748461  6.468909  2.881665  3.513491  0.000000  0.823749   \n",
              "12  0.111031  2.575312  3.795975  4.527946  3.347666  0.070389  1.356144   \n",
              "\n",
              "        CD1B  \n",
              "0   0.000000  \n",
              "1   0.042644  \n",
              "2   0.807355  \n",
              "3   0.084064  \n",
              "4   0.042644  \n",
              "5   0.000000  \n",
              "6   0.000000  \n",
              "7   0.545968  \n",
              "8   0.000000  \n",
              "9   0.176323  \n",
              "10  0.263034  \n",
              "11  0.000000  \n",
              "12  0.226509  \n",
              "\n",
              "[13 rows x 18966 columns]"
            ]
          },
          "execution_count": 29,
          "metadata": {},
          "output_type": "execute_result"
        }
      ],
      "source": [
        "full_data"
      ]
    },
    {
      "cell_type": "code",
      "execution_count": 27,
      "metadata": {},
      "outputs": [
        {
          "data": {
            "text/plain": [
              "(tensor([[3.9355, 2.8440, 2.1570,  ..., 0.1506, 0.4114, 0.2630],\n",
              "         [4.5078, 4.4121, 0.0000,  ..., 0.0000, 0.2141, 0.0426],\n",
              "         [1.8480, 3.1811, 0.0566,  ..., 0.1635, 1.3219, 0.8074],\n",
              "         ...,\n",
              "         [4.3868, 3.6837, 0.1890,  ..., 0.1375, 0.1110, 0.0841],\n",
              "         [1.7268, 3.0600, 0.3448,  ..., 0.0000, 3.3978, 0.0000],\n",
              "         [2.6599, 2.4751, 0.0426,  ..., 0.0144, 3.4725, 0.0000]]),\n",
              " tensor([8, 3, 1, 0, 9, 5, 6, 2, 7, 4]))"
            ]
          },
          "execution_count": 27,
          "metadata": {},
          "output_type": "execute_result"
        }
      ],
      "source": [
        "genes, labels = next(iter(gene_train_loader))\n",
        "genes, labels"
      ]
    },
    {
      "cell_type": "code",
      "execution_count": 28,
      "metadata": {},
      "outputs": [
        {
          "data": {
            "text/plain": [
              "(tensor([[4.7463, 4.1391, 0.0000,  ..., 0.0000, 0.8237, 0.0000],\n",
              "         [0.7225, 0.4114, 0.0000,  ..., 0.0000, 0.2987, 0.1763],\n",
              "         [4.3611, 4.8694, 0.0000,  ..., 0.0000, 0.6323, 0.0000]]),\n",
              " tensor([2, 1, 0]))"
            ]
          },
          "execution_count": 28,
          "metadata": {},
          "output_type": "execute_result"
        }
      ],
      "source": [
        "test_genes, test_labels = next(iter(gene_test_loader))\n",
        "test_genes, test_labels"
      ]
    },
    {
      "cell_type": "markdown",
      "metadata": {},
      "source": [
        "Get original labels"
      ]
    },
    {
      "cell_type": "code",
      "execution_count": 30,
      "metadata": {},
      "outputs": [
        {
          "data": {
            "text/plain": [
              "array(['GTEX-SJXC-0726-SM-2XCFJ', 'GTEX-1EMGI-0326-SM-9MQM5',\n",
              "       'GTEX-1497J-2426-SM-7IGNX', 'GTEX-13N2G-0826-SM-5IJE6',\n",
              "       'GTEX-XMK1-2026-SM-4B65K', 'GTEX-1GZHY-2426-SM-9JGGK',\n",
              "       'GTEX-1H3O1-1326-SM-9MQLD', 'GTEX-14LZ3-0626-SM-5ZZWP',\n",
              "       'GTEX-1I1HK-0011-R10b-SM-CJI3M', 'GTEX-1GZ2Q-0011-R7b-SM-9OSWN'],\n",
              "      dtype=object)"
            ]
          },
          "execution_count": 30,
          "metadata": {},
          "output_type": "execute_result"
        }
      ],
      "source": [
        "# Convert encoded labels back to original string labels\n",
        "original_labels = gene_train_dataset.get_original_labels(labels.numpy())\n",
        "original_labels"
      ]
    },
    {
      "cell_type": "markdown",
      "metadata": {
        "id": "2DuRG3tVq268",
        "pycharm": {
          "name": "#%% md\n"
        }
      },
      "source": [
        "## Building the model\n",
        "When defining the model the latent layer must act as a bottleneck of information, so that we ensure that we find a strong internal representation. We initialize the VAE with 1 hidden layer in the encoder and decoder using relu units as non-linearity."
      ]
    },
    {
      "cell_type": "code",
      "execution_count": 31,
      "metadata": {
        "colab": {
          "base_uri": "https://localhost:8080/"
        },
        "id": "tRRu-aq7q268",
        "outputId": "f769477a-51a5-4325-934a-89edcdb4ff54",
        "pycharm": {
          "name": "#%%\n"
        }
      },
      "outputs": [
        {
          "name": "stdout",
          "output_type": "stream",
          "text": [
            "VariationalAutoencoder(\n",
            "  (encoder): Sequential(\n",
            "    (0): Linear(in_features=18965, out_features=256, bias=True)\n",
            "    (1): ReLU()\n",
            "    (2): Linear(in_features=256, out_features=128, bias=True)\n",
            "    (3): ReLU()\n",
            "    (4): Linear(in_features=128, out_features=200, bias=True)\n",
            "  )\n",
            "  (decoder): Sequential(\n",
            "    (0): Linear(in_features=100, out_features=128, bias=True)\n",
            "    (1): ReLU()\n",
            "    (2): Linear(in_features=128, out_features=256, bias=True)\n",
            "    (3): ReLU()\n",
            "    (4): Linear(in_features=256, out_features=18965, bias=True)\n",
            "  )\n",
            ")\n"
          ]
        }
      ],
      "source": [
        "class VariationalAutoencoder(nn.Module):\n",
        "    \"\"\"A Variational Autoencoder with\n",
        "    * a Bernoulli observation model `p_\\theta(x | z) = B(x | g_\\theta(z))`\n",
        "    * a Gaussian prior `p(z) = N(z | 0, I)`\n",
        "    * a Gaussian posterior `q_\\phi(z|x) = N(z | \\mu(x), \\sigma(x))`\n",
        "    \"\"\"\n",
        "\n",
        "    def __init__(self, input_shape:torch.Size, latent_features:int) -> None:\n",
        "        super(VariationalAutoencoder, self).__init__()\n",
        "\n",
        "        self.input_shape = input_shape\n",
        "        self.latent_features = latent_features\n",
        "        self.observation_features = np.prod(input_shape)\n",
        "\n",
        "\n",
        "        # Inference Network\n",
        "        # Encode the observation `x` into the parameters of the posterior distribution\n",
        "        # `q_\\phi(z|x) = N(z | \\mu(x), \\sigma(x)), \\mu(x),\\log\\sigma(x) = h_\\phi(x)`\n",
        "        self.encoder = nn.Sequential(\n",
        "            nn.Linear(in_features=self.observation_features, out_features=256),\n",
        "            nn.ReLU(),\n",
        "            nn.Linear(in_features=256, out_features=128),\n",
        "            nn.ReLU(),\n",
        "            # A Gaussian is fully characterised by its mean \\mu and variance \\sigma**2\n",
        "            nn.Linear(in_features=128, out_features=2*latent_features) # <- note the 2*latent_features\n",
        "        )\n",
        "\n",
        "        # Generative Model\n",
        "        # Decode the latent sample `z` into the parameters of the observation model\n",
        "        # `p_\\theta(x | z) = \\prod_i B(x_i | g_\\theta(x))`\n",
        "        self.decoder = nn.Sequential(\n",
        "            nn.Linear(in_features=latent_features, out_features=128),\n",
        "            nn.ReLU(),\n",
        "            nn.Linear(in_features=128, out_features=256),\n",
        "            nn.ReLU(),\n",
        "            nn.Linear(in_features=256, out_features=self.observation_features)\n",
        "        )\n",
        "\n",
        "        # define the parameters of the prior, chosen as p(z) = N(0, I)\n",
        "        self.register_buffer('prior_params', torch.zeros(torch.Size([1, 2*latent_features])))\n",
        "\n",
        "    def posterior(self, x:Tensor) -> Distribution:\n",
        "        \"\"\"return the distribution `q(x|x) = N(z | \\mu(x), \\sigma(x))`\"\"\"\n",
        "\n",
        "        # compute the parameters of the posterior\n",
        "        h_x = self.encoder(x)\n",
        "        mu, log_sigma =  h_x.chunk(2, dim=-1)\n",
        "\n",
        "        # return a distribution `q(x|x) = N(z | \\mu(x), \\sigma(x))`\n",
        "        return ReparameterizedDiagonalGaussian(mu, log_sigma)\n",
        "\n",
        "    def prior(self, batch_size:int=1)-> Distribution:\n",
        "        \"\"\"return the distribution `p(z)`\"\"\"\n",
        "        prior_params = self.prior_params.expand(batch_size, *self.prior_params.shape[-1:])\n",
        "        mu, log_sigma = prior_params.chunk(2, dim=-1)\n",
        "\n",
        "        # return the distribution `p(z)`\n",
        "        return ReparameterizedDiagonalGaussian(mu, log_sigma)\n",
        "\n",
        "    def observation_model(self, z:Tensor) -> Distribution:\n",
        "        \"\"\"return the distribution `p(x|z)`\"\"\"\n",
        "        px_logits = self.decoder(z)\n",
        "        px_logits = px_logits.view(-1, *self.input_shape) # reshape the output\n",
        "        return Bernoulli(logits=px_logits, validate_args=False)\n",
        "\n",
        "\n",
        "    def forward(self, x) -> Dict[str, Any]:\n",
        "        \"\"\"compute the posterior q(z|x) (encoder), sample z~q(z|x) and return the distribution p(x|z) (decoder)\"\"\"\n",
        "\n",
        "        # flatten the input\n",
        "        x = x.view(x.size(0), -1)\n",
        "\n",
        "        # define the posterior q(z|x) / encode x into q(z|x)\n",
        "        qz = self.posterior(x)\n",
        "\n",
        "        # define the prior p(z)\n",
        "        pz = self.prior(batch_size=x.size(0))\n",
        "\n",
        "        # sample the posterior using the reparameterization trick: z ~ q(z | x)\n",
        "        z = qz.rsample()\n",
        "\n",
        "        # define the observation model p(x|z) = B(x | g(z))\n",
        "        px = self.observation_model(z)\n",
        "\n",
        "        return {'px': px, 'pz': pz, 'qz': qz, 'z': z}\n",
        "\n",
        "\n",
        "    def sample_from_prior(self, batch_size:int=100):\n",
        "        \"\"\"sample z~p(z) and return p(x|z)\"\"\"\n",
        "\n",
        "        # degine the prior p(z)\n",
        "        pz = self.prior(batch_size=batch_size)\n",
        "\n",
        "        # sample the prior\n",
        "        z = pz.rsample()\n",
        "\n",
        "        # define the observation model p(x|z) = B(x | g(z))\n",
        "        px = self.observation_model(z)\n",
        "\n",
        "        return {'px': px, 'pz': pz, 'z': z}\n",
        "\n",
        "\n",
        "latent_features = 100\n",
        "vae = VariationalAutoencoder(genes[0].shape, latent_features)\n",
        "print(vae)"
      ]
    },
    {
      "cell_type": "markdown",
      "metadata": {
        "id": "oBiGYcCOq268",
        "pycharm": {
          "name": "#%% md\n"
        }
      },
      "source": [
        "## Implement a module for Variational Inference\n",
        "\n",
        "**Exercise 1**: implement `elbo` ($\\mathcal{L}$) and `beta_elbo` ($\\mathcal{L}^\\beta$)"
      ]
    },
    {
      "cell_type": "code",
      "execution_count": 32,
      "metadata": {
        "id": "rDM3tYQsq268",
        "pycharm": {
          "name": "#%%\n"
        }
      },
      "outputs": [],
      "source": [
        "def reduce(x:Tensor) -> Tensor:\n",
        "    \"\"\"for each datapoint: sum over all dimensions\"\"\"\n",
        "    return x.view(x.size(0), -1).sum(dim=1)\n",
        "\n",
        "class VariationalInference(nn.Module):\n",
        "    def __init__(self, beta:float=1.):\n",
        "        super().__init__()\n",
        "        self.beta = beta\n",
        "\n",
        "    def forward(self, model:nn.Module, x:Tensor) -> Tuple[Tensor, Dict]:\n",
        "\n",
        "        # forward pass through the model\n",
        "        outputs = model(x)\n",
        "\n",
        "        # unpack outputs\n",
        "        px, pz, qz, z = [outputs[k] for k in [\"px\", \"pz\", \"qz\", \"z\"]]\n",
        "\n",
        "        # evaluate log probabilities\n",
        "        log_px = reduce(px.log_prob(x))\n",
        "        log_pz = reduce(pz.log_prob(z))\n",
        "        log_qz = reduce(qz.log_prob(z))\n",
        "\n",
        "        # compute the ELBO with and without the beta parameter:\n",
        "        # `L^\\beta = E_q [ log p(x|z) ] - \\beta * D_KL(q(z|x) | p(z))`\n",
        "        # where `D_KL(q(z|x) | p(z)) = log q(z|x) - log p(z)`\n",
        "        kl = log_qz - log_pz\n",
        "        elbo = log_px - kl # <- your code here\n",
        "        beta_elbo = log_px - self.beta * kl # <- your code here\n",
        "\n",
        "        # loss\n",
        "        loss = -beta_elbo.mean()\n",
        "\n",
        "        # prepare the output\n",
        "        with torch.no_grad():\n",
        "            diagnostics = {'elbo': elbo, 'log_px':log_px, 'kl': kl}\n",
        "\n",
        "        return loss, diagnostics, outputs\n"
      ]
    },
    {
      "cell_type": "code",
      "execution_count": 33,
      "metadata": {
        "colab": {
          "base_uri": "https://localhost:8080/"
        },
        "id": "amy31U7Dq269",
        "outputId": "ce16e4b6-c236-4066-a43a-105e82b502b1",
        "pycharm": {
          "name": "#%%\n"
        }
      },
      "outputs": [
        {
          "name": "stdout",
          "output_type": "stream",
          "text": [
            "loss   | mean =  13217.131, shape: []\n",
            "elbo   | mean = -13217.131, shape: [10]\n",
            "log_px | mean = -13192.667, shape: [10]\n",
            "kl     | mean =     24.463, shape: [10]\n"
          ]
        }
      ],
      "source": [
        "vi = VariationalInference(beta=1.0)\n",
        "loss, diagnostics, outputs = vi(vae, genes)\n",
        "print(f\"{'loss':6} | mean = {loss:10.3f}, shape: {list(loss.shape)}\")\n",
        "for key, tensor in diagnostics.items():\n",
        "    print(f\"{key:6} | mean = {tensor.mean():10.3f}, shape: {list(tensor.shape)}\")"
      ]
    },
    {
      "cell_type": "markdown",
      "metadata": {
        "id": "HO5NZoEyq269",
        "pycharm": {
          "name": "#%% md\n"
        }
      },
      "source": [
        "## Training and Evaluation\n",
        "\n",
        "### Initialize the model, evaluator and optimizer"
      ]
    },
    {
      "cell_type": "code",
      "execution_count": 35,
      "metadata": {
        "id": "xzfM_yWWq269",
        "pycharm": {
          "name": "#%%\n"
        }
      },
      "outputs": [],
      "source": [
        "from collections import defaultdict\n",
        "# define the models, evaluator and optimizer\n",
        "\n",
        "# VAE\n",
        "latent_features = 100\n",
        "vae = VariationalAutoencoder(genes[0].shape, latent_features)\n",
        "\n",
        "# Evaluator: Variational Inference\n",
        "beta = 1\n",
        "vi = VariationalInference(beta=beta)\n",
        "\n",
        "# The Adam optimizer works really well with VAEs.\n",
        "optimizer = torch.optim.Adam(vae.parameters(), lr=1e-3)\n",
        "\n",
        "# define dictionary to store the training curves\n",
        "training_data = defaultdict(list)\n",
        "validation_data = defaultdict(list)\n",
        "\n",
        "epoch = 0"
      ]
    },
    {
      "cell_type": "markdown",
      "metadata": {
        "id": "rl-NPl9xSo32"
      },
      "source": [
        "### Training Loop\n",
        "\n",
        "#### Plotting Guide\n",
        "\n",
        "- **1st Row**: Reproducing the figure from the beginning of the Notebook.\n",
        "  - (Left) Data.\n",
        "  - (Middle) Latent space: the large gray disk represents the prior (radius = $2\\sigma$), each point represents a latent sample $\\mathbf{z}$. The smaller ellipses represent the distributions $q_\\phi(\\mathbf{z} | \\mathbf{x})$ (radius = $2\\sigma$). When using $\\geq 2$ latent features, dimensionality reduction is applied using t-SNE, and only samples $\\mathbf{z} \\sim q_\\phi(\\mathbf{z} | \\mathbf{x})$ are displayed.\n",
        "  - (Right) Samples from $p_\\theta(\\mathbf{x} | \\mathbf{z}$).\n",
        "\n",
        "- **2nd Row**: Training curves.\n",
        "\n",
        "- **3rd Row**: Latent samples.\n",
        "  - (Left) Prior samples $\\mathbf{x} \\sim p_\\theta(\\mathbf{x} | \\mathbf{z}), \\mathbf{z} \\sim p(\\mathbf{z})$.\n",
        "  - (Middle) Latent Interpolations. For each row: $\\mathbf{x} \\sim p_\\theta(\\mathbf{x} | t \\cdot \\mathbf{z}_1 + (1-t) \\cdot \\mathbf{z}_2), \\mathbf{z}_1, \\mathbf{z}_2 \\sim p(\\mathbf{z}), t=0 \\dots 1$.\n",
        "  - (Right): Sampling $\\mathbf{z}$ from a grid [-3:3, -3:3] $\\mathbf{x} \\sim p_\\theta(\\mathbf{x} | \\mathbf{z}), \\mathbf{z} \\sim \\text{grid}(-3:3, -3:3)$ (only available for 2D latent space).\n",
        "\n",
        "**NOTE**: This may take a while on CPU.\n"
      ]
    },
    {
      "cell_type": "code",
      "execution_count": 36,
      "metadata": {},
      "outputs": [
        {
          "name": "stdout",
          "output_type": "stream",
          "text": [
            "1.10.2+cu102\n",
            "10.2\n",
            ">> Using device: cpu\n"
          ]
        }
      ],
      "source": [
        "print(torch.__version__)\n",
        "print(torch.version.cuda)\n",
        "\n",
        "device = torch.device(\"cuda:0\" if torch.cuda.is_available() else \"cpu\")\n",
        "print(f\">> Using device: {device}\")"
      ]
    },
    {
      "cell_type": "code",
      "execution_count": 37,
      "metadata": {},
      "outputs": [],
      "source": [
        "train_loader = gene_train_loader\n",
        "test_loader = gene_test_loader"
      ]
    },
    {
      "cell_type": "code",
      "execution_count": 39,
      "metadata": {
        "colab": {
          "base_uri": "https://localhost:8080/",
          "height": 1000
        },
        "id": "E1eeqrcvtnWf",
        "outputId": "91d1a533-5896-4cb8-8c12-ad0d958175f9",
        "pycharm": {
          "name": "#%%\n"
        }
      },
      "outputs": [
        {
          "name": "stdout",
          "output_type": "stream",
          "text": [
            ">> Using device: cpu\n"
          ]
        }
      ],
      "source": [
        "num_epochs = 5 # 100\n",
        "\n",
        "device = torch.device(\"cuda:0\" if torch.cuda.is_available() else \"cpu\")\n",
        "print(f\">> Using device: {device}\")\n",
        "\n",
        "# move the model to the device\n",
        "vae = vae.to(device)\n",
        "\n",
        "# training..\n",
        "while epoch < num_epochs:\n",
        "    epoch+= 1\n",
        "    training_epoch_data = defaultdict(list)\n",
        "    vae.train()\n",
        "\n",
        "    # Go through each batch in the training dataset using the loader\n",
        "    # Note that y is not necessarily known as it is here\n",
        "    for x, y in train_loader:\n",
        "        x = x.to(device)\n",
        "\n",
        "        # perform a forward pass through the model and compute the ELBO\n",
        "        loss, diagnostics, outputs = vi(vae, x)\n",
        "\n",
        "        optimizer.zero_grad()\n",
        "        loss.backward()\n",
        "        optimizer.step()\n",
        "\n",
        "        # gather data for the current bach\n",
        "        for k, v in diagnostics.items():\n",
        "            training_epoch_data[k] += [v.mean().item()]\n",
        "\n",
        "\n",
        "    # gather data for the full epoch\n",
        "    for k, v in training_epoch_data.items():\n",
        "        training_data[k] += [np.mean(training_epoch_data[k])]\n",
        "\n",
        "    # Evaluate on a single batch, do not propagate gradients\n",
        "    with torch.no_grad():\n",
        "        vae.eval()\n",
        "\n",
        "        # Just load a single batch from the test loader\n",
        "        x, y = next(iter(test_loader))\n",
        "        x = x.to(device)\n",
        "\n",
        "        # perform a forward pass through the model and compute the ELBO\n",
        "        loss, diagnostics, outputs = vi(vae, x)\n",
        "\n",
        "        # gather data for the validation step\n",
        "        for k, v in diagnostics.items():\n",
        "            validation_data[k] += [v.mean().item()]\n"
      ]
    },
    {
      "cell_type": "markdown",
      "metadata": {},
      "source": [
        "## Evaluate model"
      ]
    },
    {
      "cell_type": "code",
      "execution_count": 60,
      "metadata": {},
      "outputs": [
        {
          "data": {
            "image/png": "[encoded data removed]",
            "text/plain": [
              "<Figure size 864x432 with 2 Axes>"
            ]
          },
          "metadata": {},
          "output_type": "display_data"
        }
      ],
      "source": [
        "# Set up a figure and axis for the plots\n",
        "plt.figure(figsize=(12, 6))\n",
        "\n",
        "# Plot ELBO\n",
        "plt.subplot(1, 2, 1)\n",
        "plt.plot(training_data['elbo'], label='Training ELBO', color='blue')\n",
        "plt.plot(validation_data['elbo'], label='Validation ELBO', color='red')\n",
        "plt.xlabel('Epochs')\n",
        "plt.ylabel('ELBO')\n",
        "plt.title('ELBO over Epochs')\n",
        "plt.legend()\n",
        "\n",
        "# Plot KL Divergence\n",
        "plt.subplot(1, 2, 2)\n",
        "plt.plot(training_data['kl'], label='Training KL Divergence', color='blue')\n",
        "plt.plot(validation_data['kl'], label='Validation KL Divergence', color='red')\n",
        "plt.xlabel('Epochs')\n",
        "plt.ylabel('KL Divergence')\n",
        "plt.title('KL Divergence over Epochs')\n",
        "plt.legend()\n",
        "\n",
        "# Display the plot\n",
        "plt.show()\n"
      ]
    },
    {
      "cell_type": "code",
      "execution_count": 62,
      "metadata": {},
      "outputs": [
        {
          "data": {
            "text/plain": [
              "torch.Size([10, 18965])"
            ]
          },
          "execution_count": 62,
          "metadata": {},
          "output_type": "execute_result"
        }
      ],
      "source": [
        "# Sample from the prior\n",
        "sampled_data = vae.sample_from_prior(batch_size=10)\n",
        "generated_samples = sampled_data['px'].mean  # Assuming Bernoulli distribution\n",
        "\n",
        "generated_samples.shape\n"
      ]
    },
    {
      "cell_type": "code",
      "execution_count": 63,
      "metadata": {},
      "outputs": [
        {
          "name": "stdout",
          "output_type": "stream",
          "text": [
            "Latent space size: 100\n"
          ]
        },
        {
          "data": {
            "image/png": "[encoded data removed]",
            "text/plain": [
              "<Figure size 432x288 with 1 Axes>"
            ]
          },
          "metadata": {},
          "output_type": "display_data"
        }
      ],
      "source": [
        "from sklearn.manifold import TSNE\n",
        "\n",
        "# Sample a batch from your data\n",
        "x, _ = next(iter(test_loader))\n",
        "x = x.to(device)\n",
        "\n",
        "# Forward pass through the VAE\n",
        "outputs = vae(x)\n",
        "z = outputs['z'].cpu().detach().numpy() # z is the latent space\n",
        "print(f\"Latent space size: {z.shape[1]}\")\n",
        "\n",
        "# Use t-SNE for dimensionality reduction\n",
        "z_embedded = TSNE(n_components=2).fit_transform(z)\n",
        "\n",
        "# Plot\n",
        "plt.scatter(z_embedded[:, 0], z_embedded[:, 1])\n",
        "plt.xlabel('Dimension 1')\n",
        "plt.ylabel('Dimension 2')\n",
        "plt.title('Latent Space Visualization')\n",
        "plt.show()\n"
      ]
    },
    {
      "cell_type": "code",
      "execution_count": 65,
      "metadata": {},
      "outputs": [
        {
          "data": {
            "text/plain": [
              "torch.Size([3, 18965])"
            ]
          },
          "execution_count": 65,
          "metadata": {},
          "output_type": "execute_result"
        }
      ],
      "source": [
        "# Forward pass through the VAE\n",
        "reconstructed_data = outputs['px'].mean  # Assuming Bernoulli distribution\n",
        "\n",
        "# Compare original 'x' and 'reconstructed_data' visually or with a metric\n",
        "reconstructed_data.shape"
      ]
    },
    {
      "cell_type": "markdown",
      "metadata": {
        "id": "WNmxAP4ZasMB"
      },
      "source": [
        "Summary:\n",
        "- Subplots using posterior samples:\n",
        " - Latent Samples (Row 1, Column 2)\n",
        " - Reconstruction (Row 1, Column 3)\n",
        "- Subplots using prior samples:\n",
        " - Samples (Row 3, Column 1)\n",
        " - Latent Interpolations (Row 3, Column 2)\n",
        " - Samples from a grid (Row 3, Column 3)"
      ]
    },
    {
      "cell_type": "markdown",
      "metadata": {
        "id": "tQVNsTCBCgQq"
      },
      "source": [
        "Define training function to avoid repeating code:"
      ]
    },
    {
      "cell_type": "code",
      "execution_count": 68,
      "metadata": {
        "id": "jK5oVJgTCfur"
      },
      "outputs": [],
      "source": [
        "def train_vae_model(vae, train_loader, test_loader, optimizer, num_epochs=100, device=\"cpu\", beta=1.0):\n",
        "    \"\"\"\n",
        "    Train the VAE model and evaluate.\n",
        "\n",
        "    Parameters:\n",
        "    - vae: The VAE model to train.\n",
        "    - train_loader: DataLoader for the training data.\n",
        "    - test_loader: DataLoader for the test data.\n",
        "    - optimizer: Optimizer to use for training.\n",
        "    - num_epochs: Number of epochs to train for.\n",
        "    - device: Device to train on. Either \"cpu\" or \"cuda\".\n",
        "\n",
        "    Returns:\n",
        "    - training_data: Dictionary containing training diagnostics.\n",
        "    - validation_data: Dictionary containing validation diagnostics.\n",
        "    \"\"\"\n",
        "\n",
        "    # Initialize the evaluator and data storage for diagnostics\n",
        "    vi = VariationalInference(beta=beta)\n",
        "    training_data = defaultdict(list)\n",
        "    validation_data = defaultdict(list)\n",
        "    epoch = 0\n",
        "\n",
        "    # Move the model to the desired device\n",
        "    vae = vae.to(device)\n",
        "\n",
        "    # Training loop\n",
        "    while epoch < num_epochs:\n",
        "        epoch += 1\n",
        "        training_epoch_data = defaultdict(list)\n",
        "        vae.train()\n",
        "\n",
        "        # Training step\n",
        "        for x, y in train_loader:\n",
        "            x = x.to(device)\n",
        "            loss, diagnostics, outputs = vi(vae, x)\n",
        "\n",
        "            optimizer.zero_grad()\n",
        "            loss.backward()\n",
        "            optimizer.step()\n",
        "\n",
        "            for k, v in diagnostics.items():\n",
        "                training_epoch_data[k] += [v.mean().item()]\n",
        "\n",
        "        for k, v in training_epoch_data.items():\n",
        "            training_data[k] += [np.mean(training_epoch_data[k])]\n",
        "\n",
        "        # Validation step\n",
        "        with torch.no_grad():\n",
        "            vae.eval()\n",
        "            x, y = next(iter(test_loader))\n",
        "            x = x.to(device)\n",
        "            loss, diagnostics, outputs = vi(vae, x)\n",
        "            for k, v in diagnostics.items():\n",
        "                validation_data[k] += [v.mean().item()]\n",
        "\n",
        "        # Reproduce the figure from the begining of the notebook, plot the training curves and show latent samples\n",
        "\n",
        "    ## Plot metrics\n",
        "    # Set up a figure and axis for the plots\n",
        "    plt.figure(figsize=(12, 6))\n",
        "\n",
        "    # Plot ELBO\n",
        "    plt.subplot(1, 2, 1)\n",
        "    plt.plot(training_data['elbo'], label='Training ELBO', color='blue')\n",
        "    plt.plot(validation_data['elbo'], label='Validation ELBO', color='red')\n",
        "    plt.xlabel('Epochs')\n",
        "    plt.ylabel('ELBO')\n",
        "    plt.title('ELBO over Epochs')\n",
        "    plt.legend()\n",
        "\n",
        "    # Plot KL Divergence\n",
        "    plt.subplot(1, 2, 2)\n",
        "    plt.plot(training_data['kl'], label='Training KL Divergence', color='blue')\n",
        "    plt.plot(validation_data['kl'], label='Validation KL Divergence', color='red')\n",
        "    plt.xlabel('Epochs')\n",
        "    plt.ylabel('KL Divergence')\n",
        "    plt.title('KL Divergence over Epochs')\n",
        "    plt.legend()\n",
        "\n",
        "    # Display the plot\n",
        "    plt.show()\n",
        "\n",
        "    return training_data, validation_data\n",
        "\n",
        "latent_features = 100\n",
        "vae = VariationalAutoencoder(genes[0].shape, latent_features)\n",
        "optimizer = torch.optim.Adam(vae.parameters(), lr=1e-3)\n",
        "device = torch.device(\"cuda:0\" if torch.cuda.is_available() else \"cpu\")\n",
        "\n",
        "# training_data, validation_data = train_vae_model(vae, train_loader, test_loader, optimizer, num_epochs=100, device=device, beta=1.0)"
      ]
    },
    {
      "cell_type": "code",
      "execution_count": 69,
      "metadata": {},
      "outputs": [
        {
          "data": {
            "image/png": "[encoded data removed]",
            "text/plain": [
              "<Figure size 864x432 with 2 Axes>"
            ]
          },
          "metadata": {},
          "output_type": "display_data"
        }
      ],
      "source": [
        "training_data, validation_data = train_vae_model(vae, train_loader, test_loader, optimizer, num_epochs=10, device=device, beta=1.0)"
      ]
    },
    {
      "cell_type": "markdown",
      "metadata": {
        "id": "0PWnLMrHq269"
      },
      "source": [
        "# Analyzing the VAE\n",
        "\n",
        "## Mandatory Exercises\n",
        "\n",
        "### Exercise 1.\n",
        "\n",
        "1. Implement the class `ReparameterizedDiagonalGaussian` (`log_prob()` and `rsample()`).\n",
        "2. Import the class `Bernoulli`\n",
        "3. Implement the class `VariationalInference` (computation of the `elbo` and `beta_elbo`).\n",
        "\n",
        "### Exercise 2.\n",
        "\n",
        "**Trainnig and Evaluating a VAE model**\n",
        "\n",
        "1. Why do we use the reparameterization trick?\n",
        "2. What available metric can you use to estimate the marginal likelihood ($p_\\theta(\\mathbf{x})$) ?\n",
        "3. In the above plots, we display numerous model samples. If you had to pick one plot, which one would you pick to evaluate the quality of a VAE (i.e. using posterior samples $\\mathbf{z} \\sim q_\\phi(\\mathbf{z} | \\mathbf{x})$ or prior samples $\\mathbf{z} \\sim p(\\mathbf{z})$) ? Why?.\n",
        "4. How could you exploit the VAE model for classification?\n",
        "\n",
        "**Answers**:\n",
        "1. The reparameterization trick is used to make the variational autoencoder's latent variables differentiable, allowing for backpropagation during the training process.\n",
        "2. Monte-Carlo estimate is computationally challenging due to its high variance and the numerically instability, so we can use ELBO.\n",
        "3.  The choice between the two depends on the primary goal of using the VAE:\n",
        " - If the primary goal is data reconstruction, then evaluating using the posterior samples would be more relevant. The quality and fidelity of reconstructed images would be the focus.\n",
        " - If the primary goal is data generation (e.g., generating new images that resemble the training data distribution), then evaluating using the prior samples would be more appropriate. The diversity, novelty, and quality of generated images would be the focus.\n",
        "\n",
        " However, for a holistic evaluation of a VAE, which aims to both encode and decode data efficiently, I would lean towards the posterior samples. This is because the core functionality of a VAE is its ability to encode data into a latent space and then decode it back. If this reconstruction is poor, then even if it generates reasonable outputs from the prior, it's not effectively serving its dual purpose. So I would pick the reconstruction plot (Row 1, Column 3). However, I personally really like the plot (Row 3, Column 3) to get an idea of the latent space.\n",
        "4. A couple ways to leverage a VAE for classification tasks are:\n",
        " - Latent Space Classification for Dimensionality Reduction: Once the VAE is trained, we can encode the data into the latent space and then train a classifier (like an SVM or neural network) on the latent representations. This dimensionality reduction could help reduce overfitting and model complexity.\n",
        " - Semi-supervised Learning: VAEs can be particularly beneficial in semi-supervised scenarios, where labeled data is limited. The generative aspect of the VAE can leverage unlabeled data to improve the quality of the latent space, which can then aid classification on the small labeled dataset.\n",
        "  \n"
      ]
    },
    {
      "cell_type": "markdown",
      "metadata": {
        "id": "GYQxM0tsdt7W"
      },
      "source": [
        "### Exercise 3.\n",
        "\n",
        "**Experiment with the VAE model.**\n",
        "\n",
        "1. Experiment with the number of layers and activation functions in order to improve the reconstructions and latent representation. What solution did you find the best and why?\n",
        "2. Try to increase the number of digit classes in the training set and analyze the learning curves, latent space and reconstructions. For which classes and why does the VAE fail in reconstructing?  *HINT: Try the combination: `classes=[0, 1, 4, 9]`, to see how well VAE can separate these digits in the latent representation and reconstructions.*\n",
        "3. Increase the number of units in the latent layer. Does it increase the models representational power and how can you see and explain this? How does this affect the quality of the reconstructions?\n",
        "\n",
        "**Answers**:\n",
        "\n",
        "1. We tried going deeper by adding 1 and 2 layers without seeing much difference. However, if we go shallower by removing one layer both the reconstruction and generative results get worse, though we can still recongnize some digits.\n",
        "As for the activation functions we tried LeakyRelu with pretty much the same results, maybe slightly worst. The plots are available at the end of the notebook.\n",
        "2. The VAE struggles reconstructing the digit 9 and while some generated digits look correct, others don't. Again, the results for this and further tests are available in the Annex at the end of the notebook.\n",
        "3. Increasing the number of units in the latent layer to 4 improved the model reconstruction and generation capabilities, where it still has some trouble differentiating between 9 and 4 but it performs better than before. This happens because when we increase the units, the latent space becomes capable of capturing more complex patterns and nuances in the data."
      ]
    },
    {
      "cell_type": "markdown",
      "metadata": {
        "id": "pK2sDSOUdqKS"
      },
      "source": [
        "### Exercise 4.\n",
        "\n",
        "**Analyze the purpose of the KL-term and the $\\beta$ parameter.**\n",
        "\n",
        "1. How does the KL-term, $\\mathcal{D}_{\\operatorname{KL}}\\left(q_\\phi(\\mathbf{z}|\\mathbf{x})\\ |\\ p(\\mathbf{z})\\right)$, work as a regulariser on the distributions over latent variables? *HINT*: When maximising the ELBO, the probability-distance measure is minimised $\\operatorname{KL} \\rightarrow 0$ so that $q(z|x) \\rightarrow p(z) = \\mathcal{N}(z|0,I)$ for all examples, x. At $\\operatorname{KL} = 0$ variations in x stops having an affect on the latent distribution and latent units are all described by the same distribution, $\\mathcal{N}(z|0,I)$, so they produce a noisy output without signal (i.e. $\\mathbf{z}=\\epsilon \\sim \\mathcal{N}(0,I)$) to the decoder.\n",
        "2. Try removing the KL-term (using the $\\beta$ parameter) and analyze what happens during training, in the learning curves, latent representation and reconstructions compared to before removing it.\n",
        "3. What does the loss reduces to? Explain how this can affect a VAE. *HINT*: Compare loss function for AE and VAE, and remember that we can use the pixel-wise binary crossentropy error as the loss in the AEs and for the reconstruction error, $\\log p_\\theta(\\mathbf{x}|\\mathbf{z}) = \\log \\mathcal{B}(\\mathbf{x} | g_\\theta(z))$, in VAEs.\n",
        "4. Experiment with different $\\beta$ values (e.g. [0.1, 10, 50]) and explain how this affects the reconstruction quality and the latent representations. *HINT* what is the tradeoff between reconstruction error ($\\log p_\\theta(\\mathbf{x} | \\mathbf{z})$) and the KL term?\n",
        "\n",
        "**Answers**:\n",
        "\n",
        "1. The KL-term, measures the divergence between two distributions: the approximate posterior and the prior, which is typically a standard normal distribution N(0,I). As the ELBO is maximized, the KL-term aims to be minimized. When it reaches 0, it indicates that the approximate posterior is the same as the prior. This means that the latent variables are not being influenced by the input data x and are essentially just noise sampled from N(0,I). Thus, the KL-term acts as a regularizer by ensuring that the latent representations don't stray too far from a prior belief (which is the standard normal distribution in most VAEs). Without this term, the latent variables might fit too closely to the training data, leading to overfitting.\n",
        "2. By removing the KL-term (setting $\\beta$=0), the VAE doesn't have any regularization on the latent space. This means the model focuses solely on the reconstruction error. We can observe:\n",
        " - The latent representation is probably more overfitted to the training data.\n",
        " - The reconstructions might be sharper initially but could lead to overfitting, where it performs well on training data but poorly on unseen data.\n",
        "\n",
        " Also for this part we experimented errors during the execution, only for beta=0. When we went above 40 epochs, most of the times we got a Cuda error that can be seen in the Annex. Not sure of why this happens and if the student reading this have any idea I would appreciate the feedback.\n",
        "3. Without the KL-term, the VAE loss reduces to just the reconstruction error. In this scenario, the VAE becomes more like a traditional autoencoder (AE). This can lead to overfitting more easily just like an AE.\n",
        "4. We can see the following differences:\n",
        " - A smaller $\\beta$ (e.g., 0.1): Puts less emphasis on the KL-term, leading to better reconstructions but poorer generalization and more complex latent representations.\n",
        " - $\\beta$ =1: This is the standard VAE, which balances reconstruction with regularization from the KL-term.\n",
        " - A larger $\\beta$ (e.g., 10, 50): Puts more emphasis on the KL-term, leading to simpler latent representations but potentially worse reconstructions. But for $\\beta$=50 specifically, both reconstructions and generations are diffuse and bad.\n",
        "\n",
        " The trade-off is that As $\\beta$ increases, the model prioritizes making the approximate posterior close to the prior, often at the expense of reconstruction quality. Conversely, as $\\beta$ decreases, the model prioritizes reconstruction, potentially at the expense of generalization.\n",
        "\n"
      ]
    }
  ],
  "metadata": {
    "accelerator": "GPU",
    "colab": {
      "gpuType": "T4",
      "provenance": []
    },
    "kernelspec": {
      "display_name": "Python 3",
      "name": "python3"
    },
    "language_info": {
      "codemirror_mode": {
        "name": "ipython",
        "version": 3
      },
      "file_extension": ".py",
      "mimetype": "text/x-python",
      "name": "python",
      "nbconvert_exporter": "python",
      "pygments_lexer": "ipython3",
      "version": "3.6.8"
    }
  },
  "nbformat": 4,
  "nbformat_minor": 0
}
