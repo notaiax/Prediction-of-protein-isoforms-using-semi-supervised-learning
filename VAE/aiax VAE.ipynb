{
  "cells": [
    {
      "cell_type": "code",
      "execution_count": 11,
      "metadata": {
        "id": "-LbQC9Wc6dmg"
      },
      "outputs": [],
      "source": [
        "from typing import *\n",
        "import matplotlib\n",
        "import matplotlib.pyplot as plt\n",
        "from IPython.display import Image, display, clear_output\n",
        "import numpy as np\n",
        "import seaborn as sns\n",
        "import pandas as pd\n",
        "sns.set_style(\"whitegrid\")\n",
        "import requests\n",
        "\n",
        "import math\n",
        "import torch\n",
        "from torch import nn, Tensor\n",
        "from torch.nn.functional import softplus\n",
        "from torch.distributions import Distribution\n",
        "\n",
        "\n",
        "from torch.utils.data import Dataset, DataLoader\n",
        "from torch.utils.data.sampler import SubsetRandomSampler\n",
        "from torchvision.datasets import MNIST\n",
        "from torchvision.transforms import ToTensor\n",
        "from functools import reduce\n",
        "from torch.distributions.bernoulli import Bernoulli\n",
        "\n",
        "import gzip\n",
        "from sklearn.preprocessing import LabelEncoder\n",
        "from sklearn.model_selection import train_test_split\n"
      ]
    },
    {
      "cell_type": "markdown",
      "metadata": {},
      "source": [
        "## Helper functions"
      ]
    },
    {
      "cell_type": "code",
      "execution_count": 12,
      "metadata": {},
      "outputs": [],
      "source": [
        "def load_data_chunk(filename, chunk_size=1000):\n",
        "    \"\"\" Load a chunk of data from a gzipped TSV file. \"\"\"\n",
        "    return pd.read_csv(filename, sep='\\t', compression='gzip', chunksize=chunk_size)\n",
        "\n",
        "def separate_ids_and_data(data):\n",
        "    ids = data.iloc[:, 0]\n",
        "    data = data.iloc[:, 1:]\n",
        "    return ids, data\n",
        "\n",
        "class ReparameterizedDiagonalGaussian(Distribution):\n",
        "    \"\"\"\n",
        "    A distribution `N(y | mu, sigma I)` compatible with the reparameterization trick given `epsilon ~ N(0, 1)`.\n",
        "    \"\"\"\n",
        "    def __init__(self, mu: Tensor, log_sigma:Tensor):\n",
        "        assert mu.shape == log_sigma.shape, f\"Tensors `mu` : {mu.shape} and ` log_sigma` : {log_sigma.shape} must be of the same shape\"\n",
        "        self.mu = mu\n",
        "        self.sigma = log_sigma.exp()\n",
        "\n",
        "    def sample_epsilon(self) -> Tensor:\n",
        "        \"\"\"`\\eps ~ N(0, I)`\"\"\"\n",
        "        return torch.empty_like(self.mu).normal_()\n",
        "\n",
        "    def sample(self) -> Tensor:\n",
        "        \"\"\"sample `z ~ N(z | mu, sigma)` (without gradients)\"\"\"\n",
        "        with torch.no_grad():\n",
        "            return self.rsample()\n",
        "\n",
        "    def rsample(self) -> Tensor:\n",
        "        \"\"\"sample `z ~ N(z | mu, sigma)` (with the reparameterization trick) \"\"\"\n",
        "        # z = mu + sigma * epsilon\n",
        "        return self.mu + self.sigma * self.sample_epsilon()\n",
        "\n",
        "    def log_prob(self, z: Tensor) -> Tensor:\n",
        "        \"\"\"return the log probability: log `p(z)`\"\"\"\n",
        "        # Log probability for Gaussian distribution\n",
        "        # log p(z) = -1/2 * [log(2*pi) + 2*log(sigma) + (z - mu)^2/sigma^2]\n",
        "        return -0.5 * (torch.log(2 * torch.tensor(math.pi)) + 2 * torch.log(self.sigma) +\n",
        "                       torch.pow(z - self.mu, 2) / torch.pow(self.sigma, 2))\n",
        "    \n",
        "    def count_csv_rows(filename):\n",
        "        # If the file is gzip-compressed, decompress it first\n",
        "        if filename.endswith('.gz'):\n",
        "            with gzip.open(filename, 'rt', newline='') as csvfile:\n",
        "                row_count = sum(1 for row in csvfile)\n",
        "        else:\n",
        "            # Specify the correct encoding (e.g., 'utf-8', 'latin-1', etc.)\n",
        "            encoding = 'utf-8'  # Change to the appropriate encoding if needed\n",
        "            with open(filename, 'r', newline='', encoding=encoding) as csvfile:\n",
        "                row_count = sum(1 for row in csvfile)\n",
        "        return row_count"
      ]
    },
    {
      "cell_type": "markdown",
      "metadata": {
        "id": "XbMPs6aIq267",
        "pycharm": {
          "name": "#%% md\n"
        }
      },
      "source": [
        "## Load Data"
      ]
    },
    {
      "cell_type": "code",
      "execution_count": 13,
      "metadata": {
        "colab": {
          "base_uri": "https://localhost:8080/"
        },
        "id": "gKE6MiTPq267",
        "outputId": "a22fa10f-d1fd-473b-bb30-70ddff0601fe",
        "pycharm": {
          "name": "#%%\n"
        }
      },
      "outputs": [
        {
          "data": {
            "text/plain": [
              "(18965, 156958)"
            ]
          },
          "execution_count": 13,
          "metadata": {},
          "output_type": "execute_result"
        }
      ],
      "source": [
        "# Define the file paths\n",
        "archs4_path = \"/dtu-compute/datasets/iso_02456/archs4_gene_expression_norm_transposed.tsv.gz\"\n",
        "gtex_gene_path = \"/dtu-compute/datasets/iso_02456/gtex_gene_expression_norm_transposed.tsv.gz\"\n",
        "gtex_isoform_path = \"/dtu-compute/datasets/iso_02456/gtex_isoform_expression_norm_transposed.tsv.gz\"\n",
        "gtex_anno_path = \"/dtu-compute/datasets/iso_02456/gtex_gene_isoform_annoation.tsv.gz\"\n",
        "gtex_tissue_path = \"/dtu-compute/datasets/iso_02456/gtex_annot.tsv.gz\"\n",
        "\n",
        "num_genes = 18965\n",
        "num_isoforms = 156958\n",
        "\n",
        "num_genes, num_isoforms"
      ]
    },
    {
      "cell_type": "markdown",
      "metadata": {},
      "source": [
        "### Data Loader"
      ]
    },
    {
      "cell_type": "markdown",
      "metadata": {},
      "source": [
        "- Label Encoding: This converts each unique label into a unique integer. If you have a large number of classes, be aware of memory usage.\n",
        "- Inverse Transformation: If you need to get back the original labels from the encoded ones, you can use self.label_encoder.inverse_transform().\n",
        "- Data Types: Labels are converted to torch.long since they are now integers, which is a common practice for categorical labels in classification tasks."
      ]
    },
    {
      "cell_type": "code",
      "execution_count": 18,
      "metadata": {},
      "outputs": [],
      "source": [
        "class GeneExpressionDataset(Dataset):\n",
        "    \"\"\" # Old dataLoader with no TestSet\n",
        "    def __init__(self, filepath, percentage=0.1):\n",
        "        self.data = self.load_data_percentage(filepath, percentage)\n",
        "        # Assuming the first column is the label\n",
        "        self.labels = self.data.iloc[:, 0]\n",
        "        self.genes = self.data.iloc[:, 1:]\n",
        "\n",
        "        # Encode the labels\n",
        "        self.label_encoder = LabelEncoder()\n",
        "        self.encoded_labels = self.label_encoder.fit_transform(self.labels)\n",
        "    \"\"\"\n",
        "\n",
        "    def __init__(self, data, labels):\n",
        "        self.labels = labels\n",
        "        self.genes = data\n",
        "        self.label_encoder = LabelEncoder()\n",
        "        self.encoded_labels = self.label_encoder.fit_transform(self.labels)\n",
        "\n",
        "    def __len__(self):\n",
        "        return len(self.genes)\n",
        "\n",
        "    def __getitem__(self, idx):\n",
        "        if torch.is_tensor(idx):\n",
        "            idx = idx.tolist()\n",
        "\n",
        "        label = self.encoded_labels[idx]\n",
        "        genes = self.genes.iloc[idx]\n",
        "        return torch.tensor(genes.values, dtype=torch.float32), torch.tensor(label, dtype=torch.long)\n",
        "\n",
        "    def get_original_labels(self, encoded_labels):\n",
        "        return self.label_encoder.inverse_transform(encoded_labels)\n",
        "\n",
        "    # Next function is slow because it counts all the rows to calculate the percentage, that is why we added load rows\n",
        "    @staticmethod\n",
        "    def load_data_percentage(filepath, percentage=0.1):\n",
        "        # Load a percentage of the data as shown previously\n",
        "        cols = pd.read_csv(filepath, sep='\\t', compression='gzip', nrows=0).columns\n",
        "        n_total_rows = sum(1 for row in open(filepath, 'rb'))\n",
        "        n_rows_to_load = int(n_total_rows * percentage)\n",
        "        skip_rows = np.random.choice(np.arange(1, n_total_rows), size=n_total_rows - n_rows_to_load, replace=False)\n",
        "        return pd.read_csv(filepath, sep='\\t', compression='gzip', usecols=cols, skiprows=skip_rows)\n",
        "    \n",
        "    @staticmethod\n",
        "    def load_rows(filepath, num_rows):\n",
        "        \"\"\"\n",
        "        Load a specific number of rows from the file.\n",
        "        \"\"\"\n",
        "        return pd.read_csv(filepath, sep='\\t', compression='gzip', nrows=num_rows)\n"
      ]
    },
    {
      "cell_type": "code",
      "execution_count": 16,
      "metadata": {},
      "outputs": [
        {
          "name": "stdout",
          "output_type": "stream",
          "text": [
            "archs4_path num rows: 167885\n"
          ]
        },
        {
          "data": {
            "text/plain": [
              "8.39425"
            ]
          },
          "execution_count": 16,
          "metadata": {},
          "output_type": "execute_result"
        }
      ],
      "source": [
        "# !zcat /dtu-compute/datasets/iso_02456/archs4_gene_expression_norm_transposed.tsv.gz | wc -l\n",
        "print(\"archs4_path num rows: 167885\")\n",
        "percentage_calc = 167885 * 0.00005\n",
        "percentage_calc"
      ]
    },
    {
      "cell_type": "code",
      "execution_count": 28,
      "metadata": {},
      "outputs": [
        {
          "name": "stdout",
          "output_type": "stream",
          "text": [
            "Loading data...\n",
            "Data loaded.\n",
            "Splitting data into training and testing sets...\n",
            "Data split.\n",
            "Creating training and testing datasets...\n",
            "Datasets created.\n",
            "Data loaders created.\n"
          ]
        }
      ],
      "source": [
        "num_rows_to_load = 100  # specify the number of rows you want to load\n",
        "\n",
        "# Print progress\n",
        "print(\"Loading data...\")\n",
        "\n",
        "# Load the entire dataset\n",
        "full_data = GeneExpressionDataset.load_rows(archs4_path, num_rows=num_rows_to_load)\n",
        "# Print progress\n",
        "print(\"Data loaded.\")\n",
        "\n",
        "# Split the data into training and testing sets\n",
        "print(\"Splitting data into training and testing sets...\")\n",
        "train_data, test_data = train_test_split(full_data, test_size=0.2, random_state=42)\n",
        "\n",
        "# Print progress\n",
        "print(\"Data split.\")\n",
        "\n",
        "# Create dataset instances for training and testing\n",
        "print(\"Creating training and testing datasets...\")\n",
        "gene_train_dataset = GeneExpressionDataset(train_data.iloc[:, 1:], train_data.iloc[:, 0])\n",
        "gene_test_dataset = GeneExpressionDataset(test_data.iloc[:, 1:], test_data.iloc[:, 0])\n",
        "\n",
        "# Print progress\n",
        "print(\"Datasets created.\")\n",
        "\n",
        "gene_train_loader = DataLoader(gene_train_dataset, batch_size=64, shuffle=True)\n",
        "gene_test_loader = DataLoader(gene_test_dataset, batch_size=64, shuffle=False)  # Usually, shuffling is not needed for testing\n",
        "\n",
        "# Print progress\n",
        "print(\"Data loaders created.\")"
      ]
    },
    {
      "cell_type": "code",
      "execution_count": 29,
      "metadata": {},
      "outputs": [
        {
          "data": {
            "text/plain": [
              "'\\nnum_rows_to_load = 10  # specify the number of rows you want to load\\n\\n# Load the entire dataset\\n# full_data = GeneExpressionDataset.load_data_percentage(archs4_path, percentage=0.0005)\\nfull_data = GeneExpressionDataset.load_rows(archs4_path, num_rows=num_rows_to_load)\\n\\n\\n# Split the data into training and testing sets\\ntrain_data, test_data = train_test_split(full_data, test_size=0.2, random_state=42)\\n\\n# Create dataset instances for training and testing\\ngene_train_dataset = GeneExpressionDataset(train_data.iloc[:, 1:], train_data.iloc[:, 0])\\ngene_test_dataset = GeneExpressionDataset(test_data.iloc[:, 1:], test_data.iloc[:, 0])\\n\\ngene_train_loader = DataLoader(gene_train_dataset, batch_size=64, shuffle=True)\\ngene_test_loader = DataLoader(gene_test_dataset, batch_size=64, shuffle=False)  # Usually, shuffling is not needed for testing\\n'"
            ]
          },
          "execution_count": 29,
          "metadata": {},
          "output_type": "execute_result"
        }
      ],
      "source": [
        "# Same code without showing progress\n",
        "\"\"\"\n",
        "num_rows_to_load = 10  # specify the number of rows you want to load\n",
        "\n",
        "# Load the entire dataset\n",
        "# full_data = GeneExpressionDataset.load_data_percentage(archs4_path, percentage=0.0005)\n",
        "full_data = GeneExpressionDataset.load_rows(archs4_path, num_rows=num_rows_to_load)\n",
        "\n",
        "\n",
        "# Split the data into training and testing sets\n",
        "train_data, test_data = train_test_split(full_data, test_size=0.2, random_state=42)\n",
        "\n",
        "# Create dataset instances for training and testing\n",
        "gene_train_dataset = GeneExpressionDataset(train_data.iloc[:, 1:], train_data.iloc[:, 0])\n",
        "gene_test_dataset = GeneExpressionDataset(test_data.iloc[:, 1:], test_data.iloc[:, 0])\n",
        "\n",
        "gene_train_loader = DataLoader(gene_train_dataset, batch_size=64, shuffle=True)\n",
        "gene_test_loader = DataLoader(gene_test_dataset, batch_size=64, shuffle=False)  # Usually, shuffling is not needed for testing\n",
        "\"\"\""
      ]
    },
    {
      "cell_type": "code",
      "execution_count": 30,
      "metadata": {},
      "outputs": [
        {
          "data": {
            "text/html": [
              "<div>\n",
              "<style scoped>\n",
              "    .dataframe tbody tr th:only-of-type {\n",
              "        vertical-align: middle;\n",
              "    }\n",
              "\n",
              "    .dataframe tbody tr th {\n",
              "        vertical-align: top;\n",
              "    }\n",
              "\n",
              "    .dataframe thead th {\n",
              "        text-align: right;\n",
              "    }\n",
              "</style>\n",
              "<table border=\"1\" class=\"dataframe\">\n",
              "  <thead>\n",
              "    <tr style=\"text-align: right;\">\n",
              "      <th></th>\n",
              "      <th>sample_id</th>\n",
              "      <th>A1BG</th>\n",
              "      <th>A1CF</th>\n",
              "      <th>A2M</th>\n",
              "      <th>A2ML1</th>\n",
              "      <th>A3GALT2</th>\n",
              "      <th>A4GALT</th>\n",
              "      <th>A4GNT</th>\n",
              "      <th>AAAS</th>\n",
              "      <th>AACS</th>\n",
              "      <th>...</th>\n",
              "      <th>ZWILCH</th>\n",
              "      <th>ZWINT</th>\n",
              "      <th>ZXDA</th>\n",
              "      <th>ZXDB</th>\n",
              "      <th>ZXDC</th>\n",
              "      <th>ZYG11A</th>\n",
              "      <th>ZYG11B</th>\n",
              "      <th>ZYX</th>\n",
              "      <th>ZZEF1</th>\n",
              "      <th>ZZZ3</th>\n",
              "    </tr>\n",
              "  </thead>\n",
              "  <tbody>\n",
              "    <tr>\n",
              "      <th>0</th>\n",
              "      <td>GSM4747249</td>\n",
              "      <td>2.808001</td>\n",
              "      <td>0.146667</td>\n",
              "      <td>1.522200</td>\n",
              "      <td>1.951247</td>\n",
              "      <td>0.000000</td>\n",
              "      <td>0.761953</td>\n",
              "      <td>0.000000</td>\n",
              "      <td>2.180121</td>\n",
              "      <td>3.665097</td>\n",
              "      <td>...</td>\n",
              "      <td>2.573919</td>\n",
              "      <td>1.071359</td>\n",
              "      <td>0.498314</td>\n",
              "      <td>0.000000</td>\n",
              "      <td>0.000000</td>\n",
              "      <td>1.010470</td>\n",
              "      <td>1.089335</td>\n",
              "      <td>7.949528</td>\n",
              "      <td>1.231341</td>\n",
              "      <td>2.523598</td>\n",
              "    </tr>\n",
              "    <tr>\n",
              "      <th>1</th>\n",
              "      <td>GSM4063503</td>\n",
              "      <td>2.392233</td>\n",
              "      <td>0.036178</td>\n",
              "      <td>7.570420</td>\n",
              "      <td>0.699714</td>\n",
              "      <td>0.152128</td>\n",
              "      <td>2.384229</td>\n",
              "      <td>0.000000</td>\n",
              "      <td>3.093951</td>\n",
              "      <td>2.633251</td>\n",
              "      <td>...</td>\n",
              "      <td>1.647097</td>\n",
              "      <td>2.084497</td>\n",
              "      <td>0.074117</td>\n",
              "      <td>0.335072</td>\n",
              "      <td>1.391557</td>\n",
              "      <td>0.141328</td>\n",
              "      <td>1.224800</td>\n",
              "      <td>6.773719</td>\n",
              "      <td>1.199932</td>\n",
              "      <td>2.207346</td>\n",
              "    </tr>\n",
              "    <tr>\n",
              "      <th>2</th>\n",
              "      <td>GSM4631135</td>\n",
              "      <td>4.288390</td>\n",
              "      <td>0.777380</td>\n",
              "      <td>1.597797</td>\n",
              "      <td>1.297746</td>\n",
              "      <td>0.000000</td>\n",
              "      <td>1.765906</td>\n",
              "      <td>0.072869</td>\n",
              "      <td>7.404695</td>\n",
              "      <td>5.880534</td>\n",
              "      <td>...</td>\n",
              "      <td>5.007085</td>\n",
              "      <td>7.096970</td>\n",
              "      <td>1.015069</td>\n",
              "      <td>2.342714</td>\n",
              "      <td>4.492950</td>\n",
              "      <td>1.202727</td>\n",
              "      <td>2.276278</td>\n",
              "      <td>6.418164</td>\n",
              "      <td>4.442671</td>\n",
              "      <td>4.773526</td>\n",
              "    </tr>\n",
              "    <tr>\n",
              "      <th>3</th>\n",
              "      <td>GSM5374404</td>\n",
              "      <td>2.644249</td>\n",
              "      <td>0.092517</td>\n",
              "      <td>0.094436</td>\n",
              "      <td>0.924249</td>\n",
              "      <td>0.000000</td>\n",
              "      <td>0.045038</td>\n",
              "      <td>0.033435</td>\n",
              "      <td>6.204663</td>\n",
              "      <td>3.079830</td>\n",
              "      <td>...</td>\n",
              "      <td>4.087812</td>\n",
              "      <td>6.756117</td>\n",
              "      <td>0.212525</td>\n",
              "      <td>1.424847</td>\n",
              "      <td>3.084751</td>\n",
              "      <td>2.289747</td>\n",
              "      <td>2.489499</td>\n",
              "      <td>6.583049</td>\n",
              "      <td>2.835447</td>\n",
              "      <td>4.189276</td>\n",
              "    </tr>\n",
              "    <tr>\n",
              "      <th>4</th>\n",
              "      <td>GSM4891113</td>\n",
              "      <td>4.136538</td>\n",
              "      <td>0.000000</td>\n",
              "      <td>6.873902</td>\n",
              "      <td>0.000000</td>\n",
              "      <td>0.000000</td>\n",
              "      <td>1.854200</td>\n",
              "      <td>0.000000</td>\n",
              "      <td>4.083567</td>\n",
              "      <td>5.713674</td>\n",
              "      <td>...</td>\n",
              "      <td>2.979250</td>\n",
              "      <td>2.514846</td>\n",
              "      <td>1.253094</td>\n",
              "      <td>1.885699</td>\n",
              "      <td>2.702891</td>\n",
              "      <td>0.089266</td>\n",
              "      <td>2.387202</td>\n",
              "      <td>6.009069</td>\n",
              "      <td>2.705997</td>\n",
              "      <td>3.915401</td>\n",
              "    </tr>\n",
              "    <tr>\n",
              "      <th>...</th>\n",
              "      <td>...</td>\n",
              "      <td>...</td>\n",
              "      <td>...</td>\n",
              "      <td>...</td>\n",
              "      <td>...</td>\n",
              "      <td>...</td>\n",
              "      <td>...</td>\n",
              "      <td>...</td>\n",
              "      <td>...</td>\n",
              "      <td>...</td>\n",
              "      <td>...</td>\n",
              "      <td>...</td>\n",
              "      <td>...</td>\n",
              "      <td>...</td>\n",
              "      <td>...</td>\n",
              "      <td>...</td>\n",
              "      <td>...</td>\n",
              "      <td>...</td>\n",
              "      <td>...</td>\n",
              "      <td>...</td>\n",
              "      <td>...</td>\n",
              "    </tr>\n",
              "    <tr>\n",
              "      <th>95</th>\n",
              "      <td>GSM5414238</td>\n",
              "      <td>4.698381</td>\n",
              "      <td>0.014412</td>\n",
              "      <td>2.462091</td>\n",
              "      <td>0.167941</td>\n",
              "      <td>0.041713</td>\n",
              "      <td>1.480242</td>\n",
              "      <td>0.042189</td>\n",
              "      <td>5.527551</td>\n",
              "      <td>4.346203</td>\n",
              "      <td>...</td>\n",
              "      <td>4.041501</td>\n",
              "      <td>6.520616</td>\n",
              "      <td>0.522344</td>\n",
              "      <td>0.845774</td>\n",
              "      <td>4.393051</td>\n",
              "      <td>0.142150</td>\n",
              "      <td>4.195038</td>\n",
              "      <td>8.360966</td>\n",
              "      <td>3.634406</td>\n",
              "      <td>4.316559</td>\n",
              "    </tr>\n",
              "    <tr>\n",
              "      <th>96</th>\n",
              "      <td>GSM1006724</td>\n",
              "      <td>4.614570</td>\n",
              "      <td>0.027765</td>\n",
              "      <td>0.381444</td>\n",
              "      <td>1.631534</td>\n",
              "      <td>0.000000</td>\n",
              "      <td>4.042504</td>\n",
              "      <td>0.013707</td>\n",
              "      <td>5.707715</td>\n",
              "      <td>4.843921</td>\n",
              "      <td>...</td>\n",
              "      <td>4.149195</td>\n",
              "      <td>5.711844</td>\n",
              "      <td>0.015909</td>\n",
              "      <td>1.409956</td>\n",
              "      <td>2.741713</td>\n",
              "      <td>0.818253</td>\n",
              "      <td>2.447214</td>\n",
              "      <td>6.579629</td>\n",
              "      <td>1.954530</td>\n",
              "      <td>4.575312</td>\n",
              "    </tr>\n",
              "    <tr>\n",
              "      <th>97</th>\n",
              "      <td>GSM4405602</td>\n",
              "      <td>2.953731</td>\n",
              "      <td>0.086203</td>\n",
              "      <td>0.590201</td>\n",
              "      <td>1.235173</td>\n",
              "      <td>0.000000</td>\n",
              "      <td>5.229645</td>\n",
              "      <td>0.000000</td>\n",
              "      <td>5.789086</td>\n",
              "      <td>4.973894</td>\n",
              "      <td>...</td>\n",
              "      <td>4.525857</td>\n",
              "      <td>6.694898</td>\n",
              "      <td>1.864509</td>\n",
              "      <td>2.625801</td>\n",
              "      <td>4.224260</td>\n",
              "      <td>2.346591</td>\n",
              "      <td>3.497114</td>\n",
              "      <td>5.682657</td>\n",
              "      <td>4.673639</td>\n",
              "      <td>5.364676</td>\n",
              "    </tr>\n",
              "    <tr>\n",
              "      <th>98</th>\n",
              "      <td>GSM5253573</td>\n",
              "      <td>1.355728</td>\n",
              "      <td>0.013597</td>\n",
              "      <td>0.087319</td>\n",
              "      <td>1.308704</td>\n",
              "      <td>0.021211</td>\n",
              "      <td>5.778246</td>\n",
              "      <td>0.011157</td>\n",
              "      <td>5.677438</td>\n",
              "      <td>4.513243</td>\n",
              "      <td>...</td>\n",
              "      <td>5.148529</td>\n",
              "      <td>6.775719</td>\n",
              "      <td>1.032700</td>\n",
              "      <td>2.133965</td>\n",
              "      <td>3.452561</td>\n",
              "      <td>0.504941</td>\n",
              "      <td>2.960341</td>\n",
              "      <td>8.052859</td>\n",
              "      <td>3.730829</td>\n",
              "      <td>4.566830</td>\n",
              "    </tr>\n",
              "    <tr>\n",
              "      <th>99</th>\n",
              "      <td>GSM2928287</td>\n",
              "      <td>5.350213</td>\n",
              "      <td>0.122650</td>\n",
              "      <td>1.118582</td>\n",
              "      <td>0.045351</td>\n",
              "      <td>0.000000</td>\n",
              "      <td>3.174800</td>\n",
              "      <td>0.046525</td>\n",
              "      <td>6.540492</td>\n",
              "      <td>5.103766</td>\n",
              "      <td>...</td>\n",
              "      <td>2.558247</td>\n",
              "      <td>6.338691</td>\n",
              "      <td>0.000000</td>\n",
              "      <td>0.898994</td>\n",
              "      <td>2.727112</td>\n",
              "      <td>0.062935</td>\n",
              "      <td>1.804441</td>\n",
              "      <td>5.751878</td>\n",
              "      <td>2.530102</td>\n",
              "      <td>2.368995</td>\n",
              "    </tr>\n",
              "  </tbody>\n",
              "</table>\n",
              "<p>100 rows × 18966 columns</p>\n",
              "</div>"
            ],
            "text/plain": [
              "     sample_id      A1BG      A1CF       A2M     A2ML1   A3GALT2    A4GALT  \\\n",
              "0   GSM4747249  2.808001  0.146667  1.522200  1.951247  0.000000  0.761953   \n",
              "1   GSM4063503  2.392233  0.036178  7.570420  0.699714  0.152128  2.384229   \n",
              "2   GSM4631135  4.288390  0.777380  1.597797  1.297746  0.000000  1.765906   \n",
              "3   GSM5374404  2.644249  0.092517  0.094436  0.924249  0.000000  0.045038   \n",
              "4   GSM4891113  4.136538  0.000000  6.873902  0.000000  0.000000  1.854200   \n",
              "..         ...       ...       ...       ...       ...       ...       ...   \n",
              "95  GSM5414238  4.698381  0.014412  2.462091  0.167941  0.041713  1.480242   \n",
              "96  GSM1006724  4.614570  0.027765  0.381444  1.631534  0.000000  4.042504   \n",
              "97  GSM4405602  2.953731  0.086203  0.590201  1.235173  0.000000  5.229645   \n",
              "98  GSM5253573  1.355728  0.013597  0.087319  1.308704  0.021211  5.778246   \n",
              "99  GSM2928287  5.350213  0.122650  1.118582  0.045351  0.000000  3.174800   \n",
              "\n",
              "       A4GNT      AAAS      AACS  ...    ZWILCH     ZWINT      ZXDA      ZXDB  \\\n",
              "0   0.000000  2.180121  3.665097  ...  2.573919  1.071359  0.498314  0.000000   \n",
              "1   0.000000  3.093951  2.633251  ...  1.647097  2.084497  0.074117  0.335072   \n",
              "2   0.072869  7.404695  5.880534  ...  5.007085  7.096970  1.015069  2.342714   \n",
              "3   0.033435  6.204663  3.079830  ...  4.087812  6.756117  0.212525  1.424847   \n",
              "4   0.000000  4.083567  5.713674  ...  2.979250  2.514846  1.253094  1.885699   \n",
              "..       ...       ...       ...  ...       ...       ...       ...       ...   \n",
              "95  0.042189  5.527551  4.346203  ...  4.041501  6.520616  0.522344  0.845774   \n",
              "96  0.013707  5.707715  4.843921  ...  4.149195  5.711844  0.015909  1.409956   \n",
              "97  0.000000  5.789086  4.973894  ...  4.525857  6.694898  1.864509  2.625801   \n",
              "98  0.011157  5.677438  4.513243  ...  5.148529  6.775719  1.032700  2.133965   \n",
              "99  0.046525  6.540492  5.103766  ...  2.558247  6.338691  0.000000  0.898994   \n",
              "\n",
              "        ZXDC    ZYG11A    ZYG11B       ZYX     ZZEF1      ZZZ3  \n",
              "0   0.000000  1.010470  1.089335  7.949528  1.231341  2.523598  \n",
              "1   1.391557  0.141328  1.224800  6.773719  1.199932  2.207346  \n",
              "2   4.492950  1.202727  2.276278  6.418164  4.442671  4.773526  \n",
              "3   3.084751  2.289747  2.489499  6.583049  2.835447  4.189276  \n",
              "4   2.702891  0.089266  2.387202  6.009069  2.705997  3.915401  \n",
              "..       ...       ...       ...       ...       ...       ...  \n",
              "95  4.393051  0.142150  4.195038  8.360966  3.634406  4.316559  \n",
              "96  2.741713  0.818253  2.447214  6.579629  1.954530  4.575312  \n",
              "97  4.224260  2.346591  3.497114  5.682657  4.673639  5.364676  \n",
              "98  3.452561  0.504941  2.960341  8.052859  3.730829  4.566830  \n",
              "99  2.727112  0.062935  1.804441  5.751878  2.530102  2.368995  \n",
              "\n",
              "[100 rows x 18966 columns]"
            ]
          },
          "execution_count": 30,
          "metadata": {},
          "output_type": "execute_result"
        }
      ],
      "source": [
        "full_data"
      ]
    },
    {
      "cell_type": "code",
      "execution_count": 31,
      "metadata": {},
      "outputs": [
        {
          "data": {
            "text/plain": [
              "(tensor([[3.3364, 0.5522, 3.0384,  ..., 8.6447, 2.3267, 3.0190],\n",
              "         [0.3987, 0.0000, 0.0000,  ..., 3.6347, 0.0800, 1.4817],\n",
              "         [4.6146, 0.0278, 0.3814,  ..., 6.5796, 1.9545, 4.5753],\n",
              "         ...,\n",
              "         [4.2884, 0.7774, 1.5978,  ..., 6.4182, 4.4427, 4.7735],\n",
              "         [3.3725, 0.5448, 2.7445,  ..., 3.9094, 5.0732, 5.1814],\n",
              "         [4.6984, 0.0144, 2.4621,  ..., 8.3610, 3.6344, 4.3166]]),\n",
              " tensor([13, 19,  0,  1, 40,  8, 20, 21, 78, 65, 76, 54, 71, 17, 37, 30, 35, 23,\n",
              "         70, 66, 22, 69, 29, 49, 74, 68, 46,  6, 64, 12,  3, 24, 39, 72, 18, 34,\n",
              "         44,  7, 53,  9, 31, 38, 32, 33, 50, 26, 75, 27, 52, 61, 25, 45, 16, 55,\n",
              "         63, 59,  5, 73, 51, 41, 11, 60, 10, 77]))"
            ]
          },
          "execution_count": 31,
          "metadata": {},
          "output_type": "execute_result"
        }
      ],
      "source": [
        "genes, labels = next(iter(gene_train_loader))\n",
        "genes, labels"
      ]
    },
    {
      "cell_type": "code",
      "execution_count": 32,
      "metadata": {},
      "outputs": [
        {
          "data": {
            "text/plain": [
              "(tensor([[5.4493, 0.0365, 0.2096,  ..., 7.5739, 4.5180, 4.0973],\n",
              "         [7.1080, 0.0918, 1.6600,  ..., 6.5847, 5.1481, 5.2633],\n",
              "         [4.6758, 0.0284, 1.0004,  ..., 7.5260, 2.1841, 3.7404],\n",
              "         ...,\n",
              "         [4.4640, 0.2602, 1.9715,  ..., 7.7082, 4.9292, 7.7482],\n",
              "         [3.8814, 0.1067, 7.6248,  ..., 5.2277, 2.7837, 3.2387],\n",
              "         [7.6272, 0.0890, 0.3212,  ..., 3.1754, 6.0669, 6.6359]]),\n",
              " tensor([10,  3, 13,  8,  5, 11,  7, 14,  6, 15, 12,  2, 17, 19,  9, 16,  4,  1,\n",
              "         18,  0]))"
            ]
          },
          "execution_count": 32,
          "metadata": {},
          "output_type": "execute_result"
        }
      ],
      "source": [
        "test_genes, test_labels = next(iter(gene_test_loader))\n",
        "test_genes, test_labels"
      ]
    },
    {
      "cell_type": "markdown",
      "metadata": {},
      "source": [
        "Get original labels"
      ]
    },
    {
      "cell_type": "code",
      "execution_count": 33,
      "metadata": {},
      "outputs": [
        {
          "data": {
            "text/plain": [
              "array(['GSM2391411', 'GSM2664079', 'GSM1006724', 'GSM1100296',\n",
              "       'GSM3937663', 'GSM2109424', 'GSM2667617', 'GSM2719113',\n",
              "       'GSM5456114', 'GSM4929250', 'GSM5374404', 'GSM4451386',\n",
              "       'GSM5236702', 'GSM2547131', 'GSM3504981', 'GSM3184674',\n",
              "       'GSM3388297', 'GSM2862925', 'GSM5221397', 'GSM5009038',\n",
              "       'GSM2795200', 'GSM5174259', 'GSM3177216', 'GSM4196517',\n",
              "       'GSM5330900', 'GSM5089699', 'GSM4116150', 'GSM2072478',\n",
              "       'GSM4683515', 'GSM2370157', 'GSM1636860', 'GSM2928287',\n",
              "       'GSM3901023', 'GSM5253573', 'GSM2612480', 'GSM3351363',\n",
              "       'GSM4104220', 'GSM2109332', 'GSM4405602', 'GSM2175963',\n",
              "       'GSM3188526', 'GSM3689866', 'GSM3305408', 'GSM3324233',\n",
              "       'GSM4305008', 'GSM3131897', 'GSM5370056', 'GSM3141844',\n",
              "       'GSM4364827', 'GSM4660137', 'GSM3109119', 'GSM4115620',\n",
              "       'GSM2543532', 'GSM4543024', 'GSM4664679', 'GSM4594922',\n",
              "       'GSM2069479', 'GSM5293178', 'GSM4308693', 'GSM3990099',\n",
              "       'GSM2310215', 'GSM4631135', 'GSM2292826', 'GSM5414238'],\n",
              "      dtype=object)"
            ]
          },
          "execution_count": 33,
          "metadata": {},
          "output_type": "execute_result"
        }
      ],
      "source": [
        "# Convert encoded labels back to original string labels\n",
        "original_labels = gene_train_dataset.get_original_labels(labels.numpy())\n",
        "original_labels"
      ]
    },
    {
      "cell_type": "markdown",
      "metadata": {
        "id": "2DuRG3tVq268",
        "pycharm": {
          "name": "#%% md\n"
        }
      },
      "source": [
        "## Building the model\n",
        "When defining the model the latent layer must act as a bottleneck of information, so that we ensure that we find a strong internal representation. We initialize the VAE with 1 hidden layer in the encoder and decoder using relu units as non-linearity."
      ]
    },
    {
      "cell_type": "code",
      "execution_count": 34,
      "metadata": {
        "colab": {
          "base_uri": "https://localhost:8080/"
        },
        "id": "tRRu-aq7q268",
        "outputId": "f769477a-51a5-4325-934a-89edcdb4ff54",
        "pycharm": {
          "name": "#%%\n"
        }
      },
      "outputs": [
        {
          "name": "stdout",
          "output_type": "stream",
          "text": [
            "VariationalAutoencoder(\n",
            "  (encoder): Sequential(\n",
            "    (0): Linear(in_features=18965, out_features=256, bias=True)\n",
            "    (1): ReLU()\n",
            "    (2): Linear(in_features=256, out_features=128, bias=True)\n",
            "    (3): ReLU()\n",
            "    (4): Linear(in_features=128, out_features=200, bias=True)\n",
            "  )\n",
            "  (decoder): Sequential(\n",
            "    (0): Linear(in_features=100, out_features=128, bias=True)\n",
            "    (1): ReLU()\n",
            "    (2): Linear(in_features=128, out_features=256, bias=True)\n",
            "    (3): ReLU()\n",
            "    (4): Linear(in_features=256, out_features=18965, bias=True)\n",
            "  )\n",
            ")\n"
          ]
        }
      ],
      "source": [
        "class VariationalAutoencoder(nn.Module):\n",
        "    \"\"\"A Variational Autoencoder with\n",
        "    * a Bernoulli observation model `p_\\theta(x | z) = B(x | g_\\theta(z))`\n",
        "    * a Gaussian prior `p(z) = N(z | 0, I)`\n",
        "    * a Gaussian posterior `q_\\phi(z|x) = N(z | \\mu(x), \\sigma(x))`\n",
        "    \"\"\"\n",
        "\n",
        "    def __init__(self, input_shape:torch.Size, latent_features:int) -> None:\n",
        "        super(VariationalAutoencoder, self).__init__()\n",
        "\n",
        "        self.input_shape = input_shape\n",
        "        self.latent_features = latent_features\n",
        "        self.observation_features = np.prod(input_shape)\n",
        "\n",
        "\n",
        "        # Inference Network\n",
        "        # Encode the observation `x` into the parameters of the posterior distribution\n",
        "        # `q_\\phi(z|x) = N(z | \\mu(x), \\sigma(x)), \\mu(x),\\log\\sigma(x) = h_\\phi(x)`\n",
        "        self.encoder = nn.Sequential(\n",
        "            nn.Linear(in_features=self.observation_features, out_features=256),\n",
        "            nn.ReLU(),\n",
        "            nn.Linear(in_features=256, out_features=128),\n",
        "            nn.ReLU(),\n",
        "            # A Gaussian is fully characterised by its mean \\mu and variance \\sigma**2\n",
        "            nn.Linear(in_features=128, out_features=2*latent_features) # <- note the 2*latent_features\n",
        "        )\n",
        "\n",
        "        # Generative Model\n",
        "        # Decode the latent sample `z` into the parameters of the observation model\n",
        "        # `p_\\theta(x | z) = \\prod_i B(x_i | g_\\theta(x))`\n",
        "        self.decoder = nn.Sequential(\n",
        "            nn.Linear(in_features=latent_features, out_features=128),\n",
        "            nn.ReLU(),\n",
        "            nn.Linear(in_features=128, out_features=256),\n",
        "            nn.ReLU(),\n",
        "            nn.Linear(in_features=256, out_features=self.observation_features)\n",
        "        )\n",
        "\n",
        "        # define the parameters of the prior, chosen as p(z) = N(0, I)\n",
        "        self.register_buffer('prior_params', torch.zeros(torch.Size([1, 2*latent_features])))\n",
        "\n",
        "    def posterior(self, x:Tensor) -> Distribution:\n",
        "        \"\"\"return the distribution `q(x|x) = N(z | \\mu(x), \\sigma(x))`\"\"\"\n",
        "\n",
        "        # compute the parameters of the posterior\n",
        "        h_x = self.encoder(x)\n",
        "        mu, log_sigma =  h_x.chunk(2, dim=-1)\n",
        "\n",
        "        # return a distribution `q(x|x) = N(z | \\mu(x), \\sigma(x))`\n",
        "        return ReparameterizedDiagonalGaussian(mu, log_sigma)\n",
        "\n",
        "    def prior(self, batch_size:int=1)-> Distribution:\n",
        "        \"\"\"return the distribution `p(z)`\"\"\"\n",
        "        prior_params = self.prior_params.expand(batch_size, *self.prior_params.shape[-1:])\n",
        "        mu, log_sigma = prior_params.chunk(2, dim=-1)\n",
        "\n",
        "        # return the distribution `p(z)`\n",
        "        return ReparameterizedDiagonalGaussian(mu, log_sigma)\n",
        "\n",
        "    def observation_model(self, z:Tensor) -> Distribution:\n",
        "        \"\"\"return the distribution `p(x|z)`\"\"\"\n",
        "        px_logits = self.decoder(z)\n",
        "        px_logits = px_logits.view(-1, *self.input_shape) # reshape the output\n",
        "        return Bernoulli(logits=px_logits, validate_args=False)\n",
        "\n",
        "\n",
        "    def forward(self, x) -> Dict[str, Any]:\n",
        "        \"\"\"compute the posterior q(z|x) (encoder), sample z~q(z|x) and return the distribution p(x|z) (decoder)\"\"\"\n",
        "\n",
        "        # flatten the input\n",
        "        x = x.view(x.size(0), -1)\n",
        "\n",
        "        # define the posterior q(z|x) / encode x into q(z|x)\n",
        "        qz = self.posterior(x)\n",
        "\n",
        "        # define the prior p(z)\n",
        "        pz = self.prior(batch_size=x.size(0))\n",
        "\n",
        "        # sample the posterior using the reparameterization trick: z ~ q(z | x)\n",
        "        z = qz.rsample()\n",
        "\n",
        "        # define the observation model p(x|z) = B(x | g(z))\n",
        "        px = self.observation_model(z)\n",
        "\n",
        "        return {'px': px, 'pz': pz, 'qz': qz, 'z': z}\n",
        "\n",
        "\n",
        "    def sample_from_prior(self, batch_size:int=100):\n",
        "        \"\"\"sample z~p(z) and return p(x|z)\"\"\"\n",
        "\n",
        "        # degine the prior p(z)\n",
        "        pz = self.prior(batch_size=batch_size)\n",
        "\n",
        "        # sample the prior\n",
        "        z = pz.rsample()\n",
        "\n",
        "        # define the observation model p(x|z) = B(x | g(z))\n",
        "        px = self.observation_model(z)\n",
        "\n",
        "        return {'px': px, 'pz': pz, 'z': z}\n",
        "\n",
        "\n",
        "latent_features = 100\n",
        "vae = VariationalAutoencoder(genes[0].shape, latent_features)\n",
        "print(vae)"
      ]
    },
    {
      "cell_type": "markdown",
      "metadata": {
        "id": "oBiGYcCOq268",
        "pycharm": {
          "name": "#%% md\n"
        }
      },
      "source": [
        "## Implement a module for Variational Inference\n",
        "\n",
        "**Exercise 1**: implement `elbo` ($\\mathcal{L}$) and `beta_elbo` ($\\mathcal{L}^\\beta$)"
      ]
    },
    {
      "cell_type": "code",
      "execution_count": 35,
      "metadata": {
        "id": "rDM3tYQsq268",
        "pycharm": {
          "name": "#%%\n"
        }
      },
      "outputs": [],
      "source": [
        "def reduce(x:Tensor) -> Tensor:\n",
        "    \"\"\"for each datapoint: sum over all dimensions\"\"\"\n",
        "    return x.view(x.size(0), -1).sum(dim=1)\n",
        "\n",
        "class VariationalInference(nn.Module):\n",
        "    def __init__(self, beta:float=1.):\n",
        "        super().__init__()\n",
        "        self.beta = beta\n",
        "\n",
        "    def forward(self, model:nn.Module, x:Tensor) -> Tuple[Tensor, Dict]:\n",
        "\n",
        "        # forward pass through the model\n",
        "        outputs = model(x)\n",
        "\n",
        "        # unpack outputs\n",
        "        px, pz, qz, z = [outputs[k] for k in [\"px\", \"pz\", \"qz\", \"z\"]]\n",
        "\n",
        "        # evaluate log probabilities\n",
        "        log_px = reduce(px.log_prob(x))\n",
        "        log_pz = reduce(pz.log_prob(z))\n",
        "        log_qz = reduce(qz.log_prob(z))\n",
        "\n",
        "        # compute the ELBO with and without the beta parameter:\n",
        "        # `L^\\beta = E_q [ log p(x|z) ] - \\beta * D_KL(q(z|x) | p(z))`\n",
        "        # where `D_KL(q(z|x) | p(z)) = log q(z|x) - log p(z)`\n",
        "        kl = log_qz - log_pz\n",
        "        elbo = log_px - kl # <- your code here\n",
        "        beta_elbo = log_px - self.beta * kl # <- your code here\n",
        "\n",
        "        # loss\n",
        "        loss = -beta_elbo.mean()\n",
        "\n",
        "        # prepare the output\n",
        "        with torch.no_grad():\n",
        "            diagnostics = {'elbo': elbo, 'log_px':log_px, 'kl': kl}\n",
        "\n",
        "        return loss, diagnostics, outputs\n"
      ]
    },
    {
      "cell_type": "code",
      "execution_count": 36,
      "metadata": {
        "colab": {
          "base_uri": "https://localhost:8080/"
        },
        "id": "amy31U7Dq269",
        "outputId": "ce16e4b6-c236-4066-a43a-105e82b502b1",
        "pycharm": {
          "name": "#%%\n"
        }
      },
      "outputs": [
        {
          "name": "stdout",
          "output_type": "stream",
          "text": [
            "loss   | mean =  13163.168, shape: []\n",
            "elbo   | mean = -13163.168, shape: [64]\n",
            "log_px | mean = -13152.205, shape: [64]\n",
            "kl     | mean =     10.963, shape: [64]\n"
          ]
        }
      ],
      "source": [
        "vi = VariationalInference(beta=1.0)\n",
        "loss, diagnostics, outputs = vi(vae, genes)\n",
        "print(f\"{'loss':6} | mean = {loss:10.3f}, shape: {list(loss.shape)}\")\n",
        "for key, tensor in diagnostics.items():\n",
        "    print(f\"{key:6} | mean = {tensor.mean():10.3f}, shape: {list(tensor.shape)}\")"
      ]
    },
    {
      "cell_type": "markdown",
      "metadata": {
        "id": "HO5NZoEyq269",
        "pycharm": {
          "name": "#%% md\n"
        }
      },
      "source": [
        "## Training and Evaluation\n",
        "\n",
        "### Initialize the model, evaluator and optimizer"
      ]
    },
    {
      "cell_type": "code",
      "execution_count": 37,
      "metadata": {
        "id": "xzfM_yWWq269",
        "pycharm": {
          "name": "#%%\n"
        }
      },
      "outputs": [],
      "source": [
        "from collections import defaultdict\n",
        "# define the models, evaluator and optimizer\n",
        "\n",
        "# VAE\n",
        "latent_features = 500\n",
        "vae = VariationalAutoencoder(genes[0].shape, latent_features)\n",
        "\n",
        "# Evaluator: Variational Inference\n",
        "beta = 1\n",
        "vi = VariationalInference(beta=beta)\n",
        "\n",
        "# The Adam optimizer works really well with VAEs.\n",
        "optimizer = torch.optim.Adam(vae.parameters(), lr=1e-3)\n",
        "\n",
        "# define dictionary to store the training curves\n",
        "training_data = defaultdict(list)\n",
        "validation_data = defaultdict(list)\n",
        "\n",
        "epoch = 0"
      ]
    },
    {
      "cell_type": "markdown",
      "metadata": {
        "id": "rl-NPl9xSo32"
      },
      "source": [
        "### Training Loop\n",
        "\n",
        "#### Plotting Guide\n",
        "\n",
        "- **1st Row**: Reproducing the figure from the beginning of the Notebook.\n",
        "  - (Left) Data.\n",
        "  - (Middle) Latent space: the large gray disk represents the prior (radius = $2\\sigma$), each point represents a latent sample $\\mathbf{z}$. The smaller ellipses represent the distributions $q_\\phi(\\mathbf{z} | \\mathbf{x})$ (radius = $2\\sigma$). When using $\\geq 2$ latent features, dimensionality reduction is applied using t-SNE, and only samples $\\mathbf{z} \\sim q_\\phi(\\mathbf{z} | \\mathbf{x})$ are displayed.\n",
        "  - (Right) Samples from $p_\\theta(\\mathbf{x} | \\mathbf{z}$).\n",
        "\n",
        "- **2nd Row**: Training curves.\n",
        "\n",
        "- **3rd Row**: Latent samples.\n",
        "  - (Left) Prior samples $\\mathbf{x} \\sim p_\\theta(\\mathbf{x} | \\mathbf{z}), \\mathbf{z} \\sim p(\\mathbf{z})$.\n",
        "  - (Middle) Latent Interpolations. For each row: $\\mathbf{x} \\sim p_\\theta(\\mathbf{x} | t \\cdot \\mathbf{z}_1 + (1-t) \\cdot \\mathbf{z}_2), \\mathbf{z}_1, \\mathbf{z}_2 \\sim p(\\mathbf{z}), t=0 \\dots 1$.\n",
        "  - (Right): Sampling $\\mathbf{z}$ from a grid [-3:3, -3:3] $\\mathbf{x} \\sim p_\\theta(\\mathbf{x} | \\mathbf{z}), \\mathbf{z} \\sim \\text{grid}(-3:3, -3:3)$ (only available for 2D latent space).\n",
        "\n",
        "**NOTE**: This may take a while on CPU.\n"
      ]
    },
    {
      "cell_type": "code",
      "execution_count": 38,
      "metadata": {},
      "outputs": [
        {
          "name": "stdout",
          "output_type": "stream",
          "text": [
            "1.10.2+cu102\n",
            "10.2\n",
            ">> Using device: cpu\n"
          ]
        }
      ],
      "source": [
        "print(torch.__version__)\n",
        "print(torch.version.cuda)\n",
        "\n",
        "device = torch.device(\"cuda:0\" if torch.cuda.is_available() else \"cpu\")\n",
        "print(f\">> Using device: {device}\")"
      ]
    },
    {
      "cell_type": "code",
      "execution_count": 39,
      "metadata": {},
      "outputs": [],
      "source": [
        "train_loader = gene_train_loader\n",
        "test_loader = gene_test_loader"
      ]
    },
    {
      "cell_type": "code",
      "execution_count": 47,
      "metadata": {
        "colab": {
          "base_uri": "https://localhost:8080/",
          "height": 1000
        },
        "id": "E1eeqrcvtnWf",
        "outputId": "91d1a533-5896-4cb8-8c12-ad0d958175f9",
        "pycharm": {
          "name": "#%%\n"
        }
      },
      "outputs": [
        {
          "name": "stdout",
          "output_type": "stream",
          "text": [
            ">> Using device: cpu\n"
          ]
        }
      ],
      "source": [
        "num_epochs = 100\n",
        "\n",
        "device = torch.device(\"cuda:0\" if torch.cuda.is_available() else \"cpu\")\n",
        "print(f\">> Using device: {device}\")\n",
        "\n",
        "# move the model to the device\n",
        "vae = vae.to(device)\n",
        "\n",
        "# training..\n",
        "while epoch < num_epochs:\n",
        "    epoch+= 1\n",
        "    training_epoch_data = defaultdict(list)\n",
        "    vae.train()\n",
        "\n",
        "    # Go through each batch in the training dataset using the loader\n",
        "    # Note that y is not necessarily known as it is here\n",
        "    for x, y in train_loader:\n",
        "        x = x.to(device)\n",
        "\n",
        "        # perform a forward pass through the model and compute the ELBO\n",
        "        loss, diagnostics, outputs = vi(vae, x)\n",
        "\n",
        "        optimizer.zero_grad()\n",
        "        loss.backward()\n",
        "        optimizer.step()\n",
        "\n",
        "        # gather data for the current bach\n",
        "        for k, v in diagnostics.items():\n",
        "            training_epoch_data[k] += [v.mean().item()]\n",
        "\n",
        "\n",
        "    # gather data for the full epoch\n",
        "    for k, v in training_epoch_data.items():\n",
        "        training_data[k] += [np.mean(training_epoch_data[k])]\n",
        "\n",
        "    # Evaluate on a single batch, do not propagate gradients\n",
        "    with torch.no_grad():\n",
        "        vae.eval()\n",
        "\n",
        "        # Just load a single batch from the test loader\n",
        "        x, y = next(iter(test_loader))\n",
        "        x = x.to(device)\n",
        "\n",
        "        # perform a forward pass through the model and compute the ELBO\n",
        "        loss, diagnostics, outputs = vi(vae, x)\n",
        "\n",
        "        # gather data for the validation step\n",
        "        for k, v in diagnostics.items():\n",
        "            validation_data[k] += [v.mean().item()]\n"
      ]
    },
    {
      "cell_type": "markdown",
      "metadata": {},
      "source": [
        "## Evaluate model"
      ]
    },
    {
      "cell_type": "code",
      "execution_count": 48,
      "metadata": {},
      "outputs": [
        {
          "data": {
            "image/png": "[encoded data removed]",
            "text/plain": [
              "<Figure size 864x432 with 2 Axes>"
            ]
          },
          "metadata": {},
          "output_type": "display_data"
        }
      ],
      "source": [
        "# Set up a figure and axis for the plots\n",
        "plt.figure(figsize=(12, 6))\n",
        "\n",
        "# Plot ELBO\n",
        "plt.subplot(1, 2, 1)\n",
        "plt.plot(training_data['elbo'], label='Training ELBO', color='blue')\n",
        "plt.plot(validation_data['elbo'], label='Validation ELBO', color='red')\n",
        "plt.xlabel('Epochs')\n",
        "plt.ylabel('ELBO')\n",
        "plt.title('ELBO over Epochs')\n",
        "plt.legend()\n",
        "\n",
        "# Plot KL Divergence\n",
        "plt.subplot(1, 2, 2)\n",
        "plt.plot(training_data['kl'], label='Training KL Divergence', color='blue')\n",
        "plt.plot(validation_data['kl'], label='Validation KL Divergence', color='red')\n",
        "plt.xlabel('Epochs')\n",
        "plt.ylabel('KL Divergence')\n",
        "plt.title('KL Divergence over Epochs')\n",
        "plt.legend()\n",
        "\n",
        "# Display the plot\n",
        "plt.show()\n"
      ]
    },
    {
      "cell_type": "code",
      "execution_count": 49,
      "metadata": {},
      "outputs": [
        {
          "data": {
            "text/plain": [
              "torch.Size([10, 18965])"
            ]
          },
          "execution_count": 49,
          "metadata": {},
          "output_type": "execute_result"
        }
      ],
      "source": [
        "# Sample from the prior\n",
        "sampled_data = vae.sample_from_prior(batch_size=10)\n",
        "generated_samples = sampled_data['px'].mean  # Assuming Bernoulli distribution\n",
        "\n",
        "generated_samples.shape\n"
      ]
    },
    {
      "cell_type": "code",
      "execution_count": 50,
      "metadata": {},
      "outputs": [
        {
          "name": "stdout",
          "output_type": "stream",
          "text": [
            "Latent space size: 500\n"
          ]
        },
        {
          "data": {
            "image/png": "[encoded data removed]",
            "text/plain": [
              "<Figure size 432x288 with 1 Axes>"
            ]
          },
          "metadata": {},
          "output_type": "display_data"
        }
      ],
      "source": [
        "from sklearn.manifold import TSNE\n",
        "\n",
        "# Sample a batch from your data\n",
        "x, _ = next(iter(test_loader))\n",
        "x = x.to(device)\n",
        "\n",
        "# Forward pass through the VAE\n",
        "outputs = vae(x)\n",
        "z = outputs['z'].cpu().detach().numpy() # z is the latent space\n",
        "print(f\"Latent space size: {z.shape[1]}\")\n",
        "\n",
        "# Use t-SNE for dimensionality reduction\n",
        "z_embedded = TSNE(n_components=2).fit_transform(z)\n",
        "\n",
        "# Plot\n",
        "plt.scatter(z_embedded[:, 0], z_embedded[:, 1])\n",
        "plt.xlabel('Dimension 1')\n",
        "plt.ylabel('Dimension 2')\n",
        "plt.title('Latent Space Visualization')\n",
        "plt.show()\n"
      ]
    },
    {
      "cell_type": "code",
      "execution_count": 51,
      "metadata": {},
      "outputs": [
        {
          "data": {
            "text/plain": [
              "torch.Size([20, 18965])"
            ]
          },
          "execution_count": 51,
          "metadata": {},
          "output_type": "execute_result"
        }
      ],
      "source": [
        "# Forward pass through the VAE\n",
        "reconstructed_data = outputs['px'].mean  # Assuming Bernoulli distribution\n",
        "\n",
        "# Compare original 'x' and 'reconstructed_data' visually or with a metric\n",
        "reconstructed_data.shape"
      ]
    },
    {
      "cell_type": "markdown",
      "metadata": {
        "id": "WNmxAP4ZasMB"
      },
      "source": [
        "Summary:\n",
        "- Subplots using posterior samples:\n",
        " - Latent Samples (Row 1, Column 2)\n",
        " - Reconstruction (Row 1, Column 3)\n",
        "- Subplots using prior samples:\n",
        " - Samples (Row 3, Column 1)\n",
        " - Latent Interpolations (Row 3, Column 2)\n",
        " - Samples from a grid (Row 3, Column 3)"
      ]
    },
    {
      "cell_type": "markdown",
      "metadata": {
        "id": "tQVNsTCBCgQq"
      },
      "source": [
        "Define training function to avoid repeating code:"
      ]
    },
    {
      "cell_type": "code",
      "execution_count": 52,
      "metadata": {
        "id": "jK5oVJgTCfur"
      },
      "outputs": [],
      "source": [
        "def train_vae_model(vae, train_loader, test_loader, optimizer, num_epochs=100, device=\"cpu\", beta=1.0):\n",
        "    \"\"\"\n",
        "    Train the VAE model and evaluate.\n",
        "\n",
        "    Parameters:\n",
        "    - vae: The VAE model to train.\n",
        "    - train_loader: DataLoader for the training data.\n",
        "    - test_loader: DataLoader for the test data.\n",
        "    - optimizer: Optimizer to use for training.\n",
        "    - num_epochs: Number of epochs to train for.\n",
        "    - device: Device to train on. Either \"cpu\" or \"cuda\".\n",
        "\n",
        "    Returns:\n",
        "    - training_data: Dictionary containing training diagnostics.\n",
        "    - validation_data: Dictionary containing validation diagnostics.\n",
        "    \"\"\"\n",
        "\n",
        "    # Initialize the evaluator and data storage for diagnostics\n",
        "    vi = VariationalInference(beta=beta)\n",
        "    training_data = defaultdict(list)\n",
        "    validation_data = defaultdict(list)\n",
        "    epoch = 0\n",
        "\n",
        "    # Move the model to the desired device\n",
        "    vae = vae.to(device)\n",
        "\n",
        "    # Training loop\n",
        "    while epoch < num_epochs:\n",
        "        epoch += 1\n",
        "        training_epoch_data = defaultdict(list)\n",
        "        vae.train()\n",
        "\n",
        "        # Training step\n",
        "        for x, y in train_loader:\n",
        "            x = x.to(device)\n",
        "            loss, diagnostics, outputs = vi(vae, x)\n",
        "\n",
        "            optimizer.zero_grad()\n",
        "            loss.backward()\n",
        "            optimizer.step()\n",
        "\n",
        "            for k, v in diagnostics.items():\n",
        "                training_epoch_data[k] += [v.mean().item()]\n",
        "\n",
        "        for k, v in training_epoch_data.items():\n",
        "            training_data[k] += [np.mean(training_epoch_data[k])]\n",
        "\n",
        "        # Validation step\n",
        "        with torch.no_grad():\n",
        "            vae.eval()\n",
        "            x, y = next(iter(test_loader))\n",
        "            x = x.to(device)\n",
        "            loss, diagnostics, outputs = vi(vae, x)\n",
        "            for k, v in diagnostics.items():\n",
        "                validation_data[k] += [v.mean().item()]\n",
        "\n",
        "        # Reproduce the figure from the begining of the notebook, plot the training curves and show latent samples\n",
        "\n",
        "    ## Plot metrics\n",
        "    # Set up a figure and axis for the plots\n",
        "    plt.figure(figsize=(12, 6))\n",
        "\n",
        "    # Plot ELBO\n",
        "    plt.subplot(1, 2, 1)\n",
        "    plt.plot(training_data['elbo'], label='Training ELBO', color='blue')\n",
        "    plt.plot(validation_data['elbo'], label='Validation ELBO', color='red')\n",
        "    plt.xlabel('Epochs')\n",
        "    plt.ylabel('ELBO')\n",
        "    plt.title('ELBO over Epochs')\n",
        "    plt.legend()\n",
        "\n",
        "    # Plot KL Divergence\n",
        "    plt.subplot(1, 2, 2)\n",
        "    plt.plot(training_data['kl'], label='Training KL Divergence', color='blue')\n",
        "    plt.plot(validation_data['kl'], label='Validation KL Divergence', color='red')\n",
        "    plt.xlabel('Epochs')\n",
        "    plt.ylabel('KL Divergence')\n",
        "    plt.title('KL Divergence over Epochs')\n",
        "    plt.legend()\n",
        "\n",
        "    # Display the plot\n",
        "    plt.show()\n",
        "\n",
        "    return training_data, validation_data\n",
        "\n",
        "latent_features = 500\n",
        "vae = VariationalAutoencoder(genes[0].shape, latent_features)\n",
        "optimizer = torch.optim.Adam(vae.parameters(), lr=1e-3)\n",
        "device = torch.device(\"cuda:0\" if torch.cuda.is_available() else \"cpu\")\n",
        "\n",
        "# training_data, validation_data = train_vae_model(vae, train_loader, test_loader, optimizer, num_epochs=100, device=device, beta=1.0)"
      ]
    },
    {
      "cell_type": "code",
      "execution_count": 53,
      "metadata": {},
      "outputs": [
        {
          "data": {
            "image/png": "[encoded data removed]",
            "text/plain": [
              "<Figure size 864x432 with 2 Axes>"
            ]
          },
          "metadata": {},
          "output_type": "display_data"
        }
      ],
      "source": [
        "training_data, validation_data = train_vae_model(vae, train_loader, test_loader, optimizer, num_epochs=100, device=device, beta=1.0)"
      ]
    },
    {
      "cell_type": "markdown",
      "metadata": {
        "id": "0PWnLMrHq269"
      },
      "source": [
        "# Analyzing the VAE\n",
        "\n",
        "## Mandatory Exercises\n",
        "\n",
        "### Exercise 1.\n",
        "\n",
        "1. Implement the class `ReparameterizedDiagonalGaussian` (`log_prob()` and `rsample()`).\n",
        "2. Import the class `Bernoulli`\n",
        "3. Implement the class `VariationalInference` (computation of the `elbo` and `beta_elbo`).\n",
        "\n",
        "### Exercise 2.\n",
        "\n",
        "**Trainnig and Evaluating a VAE model**\n",
        "\n",
        "1. Why do we use the reparameterization trick?\n",
        "2. What available metric can you use to estimate the marginal likelihood ($p_\\theta(\\mathbf{x})$) ?\n",
        "3. In the above plots, we display numerous model samples. If you had to pick one plot, which one would you pick to evaluate the quality of a VAE (i.e. using posterior samples $\\mathbf{z} \\sim q_\\phi(\\mathbf{z} | \\mathbf{x})$ or prior samples $\\mathbf{z} \\sim p(\\mathbf{z})$) ? Why?.\n",
        "4. How could you exploit the VAE model for classification?\n",
        "\n",
        "**Answers**:\n",
        "1. The reparameterization trick is used to make the variational autoencoder's latent variables differentiable, allowing for backpropagation during the training process.\n",
        "2. Monte-Carlo estimate is computationally challenging due to its high variance and the numerically instability, so we can use ELBO.\n",
        "3.  The choice between the two depends on the primary goal of using the VAE:\n",
        " - If the primary goal is data reconstruction, then evaluating using the posterior samples would be more relevant. The quality and fidelity of reconstructed images would be the focus.\n",
        " - If the primary goal is data generation (e.g., generating new images that resemble the training data distribution), then evaluating using the prior samples would be more appropriate. The diversity, novelty, and quality of generated images would be the focus.\n",
        "\n",
        " However, for a holistic evaluation of a VAE, which aims to both encode and decode data efficiently, I would lean towards the posterior samples. This is because the core functionality of a VAE is its ability to encode data into a latent space and then decode it back. If this reconstruction is poor, then even if it generates reasonable outputs from the prior, it's not effectively serving its dual purpose. So I would pick the reconstruction plot (Row 1, Column 3). However, I personally really like the plot (Row 3, Column 3) to get an idea of the latent space.\n",
        "4. A couple ways to leverage a VAE for classification tasks are:\n",
        " - Latent Space Classification for Dimensionality Reduction: Once the VAE is trained, we can encode the data into the latent space and then train a classifier (like an SVM or neural network) on the latent representations. This dimensionality reduction could help reduce overfitting and model complexity.\n",
        " - Semi-supervised Learning: VAEs can be particularly beneficial in semi-supervised scenarios, where labeled data is limited. The generative aspect of the VAE can leverage unlabeled data to improve the quality of the latent space, which can then aid classification on the small labeled dataset.\n",
        "  \n"
      ]
    },
    {
      "cell_type": "markdown",
      "metadata": {
        "id": "GYQxM0tsdt7W"
      },
      "source": [
        "### Exercise 3.\n",
        "\n",
        "**Experiment with the VAE model.**\n",
        "\n",
        "1. Experiment with the number of layers and activation functions in order to improve the reconstructions and latent representation. What solution did you find the best and why?\n",
        "2. Try to increase the number of digit classes in the training set and analyze the learning curves, latent space and reconstructions. For which classes and why does the VAE fail in reconstructing?  *HINT: Try the combination: `classes=[0, 1, 4, 9]`, to see how well VAE can separate these digits in the latent representation and reconstructions.*\n",
        "3. Increase the number of units in the latent layer. Does it increase the models representational power and how can you see and explain this? How does this affect the quality of the reconstructions?\n",
        "\n",
        "**Answers**:\n",
        "\n",
        "1. We tried going deeper by adding 1 and 2 layers without seeing much difference. However, if we go shallower by removing one layer both the reconstruction and generative results get worse, though we can still recongnize some digits.\n",
        "As for the activation functions we tried LeakyRelu with pretty much the same results, maybe slightly worst. The plots are available at the end of the notebook.\n",
        "2. The VAE struggles reconstructing the digit 9 and while some generated digits look correct, others don't. Again, the results for this and further tests are available in the Annex at the end of the notebook.\n",
        "3. Increasing the number of units in the latent layer to 4 improved the model reconstruction and generation capabilities, where it still has some trouble differentiating between 9 and 4 but it performs better than before. This happens because when we increase the units, the latent space becomes capable of capturing more complex patterns and nuances in the data."
      ]
    },
    {
      "cell_type": "markdown",
      "metadata": {
        "id": "pK2sDSOUdqKS"
      },
      "source": [
        "### Exercise 4.\n",
        "\n",
        "**Analyze the purpose of the KL-term and the $\\beta$ parameter.**\n",
        "\n",
        "1. How does the KL-term, $\\mathcal{D}_{\\operatorname{KL}}\\left(q_\\phi(\\mathbf{z}|\\mathbf{x})\\ |\\ p(\\mathbf{z})\\right)$, work as a regulariser on the distributions over latent variables? *HINT*: When maximising the ELBO, the probability-distance measure is minimised $\\operatorname{KL} \\rightarrow 0$ so that $q(z|x) \\rightarrow p(z) = \\mathcal{N}(z|0,I)$ for all examples, x. At $\\operatorname{KL} = 0$ variations in x stops having an affect on the latent distribution and latent units are all described by the same distribution, $\\mathcal{N}(z|0,I)$, so they produce a noisy output without signal (i.e. $\\mathbf{z}=\\epsilon \\sim \\mathcal{N}(0,I)$) to the decoder.\n",
        "2. Try removing the KL-term (using the $\\beta$ parameter) and analyze what happens during training, in the learning curves, latent representation and reconstructions compared to before removing it.\n",
        "3. What does the loss reduces to? Explain how this can affect a VAE. *HINT*: Compare loss function for AE and VAE, and remember that we can use the pixel-wise binary crossentropy error as the loss in the AEs and for the reconstruction error, $\\log p_\\theta(\\mathbf{x}|\\mathbf{z}) = \\log \\mathcal{B}(\\mathbf{x} | g_\\theta(z))$, in VAEs.\n",
        "4. Experiment with different $\\beta$ values (e.g. [0.1, 10, 50]) and explain how this affects the reconstruction quality and the latent representations. *HINT* what is the tradeoff between reconstruction error ($\\log p_\\theta(\\mathbf{x} | \\mathbf{z})$) and the KL term?\n",
        "\n",
        "**Answers**:\n",
        "\n",
        "1. The KL-term, measures the divergence between two distributions: the approximate posterior and the prior, which is typically a standard normal distribution N(0,I). As the ELBO is maximized, the KL-term aims to be minimized. When it reaches 0, it indicates that the approximate posterior is the same as the prior. This means that the latent variables are not being influenced by the input data x and are essentially just noise sampled from N(0,I). Thus, the KL-term acts as a regularizer by ensuring that the latent representations don't stray too far from a prior belief (which is the standard normal distribution in most VAEs). Without this term, the latent variables might fit too closely to the training data, leading to overfitting.\n",
        "2. By removing the KL-term (setting $\\beta$=0), the VAE doesn't have any regularization on the latent space. This means the model focuses solely on the reconstruction error. We can observe:\n",
        " - The latent representation is probably more overfitted to the training data.\n",
        " - The reconstructions might be sharper initially but could lead to overfitting, where it performs well on training data but poorly on unseen data.\n",
        "\n",
        " Also for this part we experimented errors during the execution, only for beta=0. When we went above 40 epochs, most of the times we got a Cuda error that can be seen in the Annex. Not sure of why this happens and if the student reading this have any idea I would appreciate the feedback.\n",
        "3. Without the KL-term, the VAE loss reduces to just the reconstruction error. In this scenario, the VAE becomes more like a traditional autoencoder (AE). This can lead to overfitting more easily just like an AE.\n",
        "4. We can see the following differences:\n",
        " - A smaller $\\beta$ (e.g., 0.1): Puts less emphasis on the KL-term, leading to better reconstructions but poorer generalization and more complex latent representations.\n",
        " - $\\beta$ =1: This is the standard VAE, which balances reconstruction with regularization from the KL-term.\n",
        " - A larger $\\beta$ (e.g., 10, 50): Puts more emphasis on the KL-term, leading to simpler latent representations but potentially worse reconstructions. But for $\\beta$=50 specifically, both reconstructions and generations are diffuse and bad.\n",
        "\n",
        " The trade-off is that As $\\beta$ increases, the model prioritizes making the approximate posterior close to the prior, often at the expense of reconstruction quality. Conversely, as $\\beta$ decreases, the model prioritizes reconstruction, potentially at the expense of generalization.\n",
        "\n"
      ]
    }
  ],
  "metadata": {
    "accelerator": "GPU",
    "colab": {
      "gpuType": "T4",
      "provenance": []
    },
    "kernelspec": {
      "display_name": "Python 3",
      "name": "python3"
    },
    "language_info": {
      "codemirror_mode": {
        "name": "ipython",
        "version": 3
      },
      "file_extension": ".py",
      "mimetype": "text/x-python",
      "name": "python",
      "nbconvert_exporter": "python",
      "pygments_lexer": "ipython3",
      "version": "3.6.8"
    }
  },
  "nbformat": 4,
  "nbformat_minor": 0
}
