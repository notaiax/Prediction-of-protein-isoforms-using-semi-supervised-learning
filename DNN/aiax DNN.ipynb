{
  "cells": [
    {
      "cell_type": "code",
      "execution_count": 2,
      "metadata": {
        "id": "-LbQC9Wc6dmg"
      },
      "outputs": [],
      "source": [
        "from typing import *\n",
        "import matplotlib\n",
        "import matplotlib.pyplot as plt\n",
        "from IPython.display import Image, display, clear_output\n",
        "import numpy as np\n",
        "import seaborn as sns\n",
        "import pandas as pd\n",
        "sns.set_style(\"whitegrid\")\n",
        "import requests\n",
        "\n",
        "import math\n",
        "import torch\n",
        "from torch import nn, Tensor\n",
        "from torch.nn.functional import softplus\n",
        "from torch.distributions import Distribution\n",
        "\n",
        "\n",
        "from torch.utils.data import Dataset, DataLoader\n",
        "from torch.utils.data.sampler import SubsetRandomSampler\n",
        "from torchvision.datasets import MNIST\n",
        "from torchvision.transforms import ToTensor\n",
        "from functools import reduce\n",
        "from torch.distributions.bernoulli import Bernoulli\n",
        "\n",
        "import gzip\n",
        "from sklearn.preprocessing import LabelEncoder\n",
        "from sklearn.model_selection import train_test_split"
      ]
    },
    {
      "cell_type": "markdown",
      "metadata": {},
      "source": [
        "## Helper functions"
      ]
    },
    {
      "cell_type": "code",
      "execution_count": 3,
      "metadata": {},
      "outputs": [],
      "source": [
        "def load_data_chunk(filename, chunk_size=1000):\n",
        "    \"\"\" Load a chunk of data from a gzipped TSV file. \"\"\"\n",
        "    return pd.read_csv(filename, sep='\\t', compression='gzip', chunksize=chunk_size)\n",
        "\n",
        "def separate_ids_and_data(data):\n",
        "    ids = data.iloc[:, 0]\n",
        "    data = data.iloc[:, 1:]\n",
        "    return ids, data\n",
        "\n",
        "class ReparameterizedDiagonalGaussian(Distribution):\n",
        "    \"\"\"\n",
        "    A distribution `N(y | mu, sigma I)` compatible with the reparameterization trick given `epsilon ~ N(0, 1)`.\n",
        "    \"\"\"\n",
        "    def __init__(self, mu: Tensor, log_sigma:Tensor):\n",
        "        assert mu.shape == log_sigma.shape, f\"Tensors `mu` : {mu.shape} and ` log_sigma` : {log_sigma.shape} must be of the same shape\"\n",
        "        self.mu = mu\n",
        "        self.sigma = log_sigma.exp()\n",
        "\n",
        "    def sample_epsilon(self) -> Tensor:\n",
        "        \"\"\"`\\eps ~ N(0, I)`\"\"\"\n",
        "        return torch.empty_like(self.mu).normal_()\n",
        "\n",
        "    def sample(self) -> Tensor:\n",
        "        \"\"\"sample `z ~ N(z | mu, sigma)` (without gradients)\"\"\"\n",
        "        with torch.no_grad():\n",
        "            return self.rsample()\n",
        "\n",
        "    def rsample(self) -> Tensor:\n",
        "        \"\"\"sample `z ~ N(z | mu, sigma)` (with the reparameterization trick) \"\"\"\n",
        "        # z = mu + sigma * epsilon\n",
        "        return self.mu + self.sigma * self.sample_epsilon()\n",
        "\n",
        "    def log_prob(self, z: Tensor) -> Tensor:\n",
        "        \"\"\"return the log probability: log `p(z)`\"\"\"\n",
        "        # Log probability for Gaussian distribution\n",
        "        # log p(z) = -1/2 * [log(2*pi) + 2*log(sigma) + (z - mu)^2/sigma^2]\n",
        "        return -0.5 * (torch.log(2 * torch.tensor(math.pi)) + 2 * torch.log(self.sigma) +\n",
        "                       torch.pow(z - self.mu, 2) / torch.pow(self.sigma, 2))\n",
        "    \n",
        "    def count_csv_rows(filename):\n",
        "        # If the file is gzip-compressed, decompress it first\n",
        "        if filename.endswith('.gz'):\n",
        "            with gzip.open(filename, 'rt', newline='') as csvfile:\n",
        "                row_count = sum(1 for row in csvfile)\n",
        "        else:\n",
        "            # Specify the correct encoding (e.g., 'utf-8', 'latin-1', etc.)\n",
        "            encoding = 'utf-8'  # Change to the appropriate encoding if needed\n",
        "            with open(filename, 'r', newline='', encoding=encoding) as csvfile:\n",
        "                row_count = sum(1 for row in csvfile)\n",
        "        return row_count"
      ]
    },
    {
      "cell_type": "markdown",
      "metadata": {
        "id": "XbMPs6aIq267",
        "pycharm": {
          "name": "#%% md\n"
        }
      },
      "source": [
        "## Load Data"
      ]
    },
    {
      "cell_type": "code",
      "execution_count": 4,
      "metadata": {
        "colab": {
          "base_uri": "https://localhost:8080/"
        },
        "id": "gKE6MiTPq267",
        "outputId": "a22fa10f-d1fd-473b-bb30-70ddff0601fe",
        "pycharm": {
          "name": "#%%\n"
        }
      },
      "outputs": [
        {
          "data": {
            "text/plain": [
              "(18965, 156958)"
            ]
          },
          "execution_count": 4,
          "metadata": {},
          "output_type": "execute_result"
        }
      ],
      "source": [
        "# Define the file paths\n",
        "archs4_path = \"/dtu-compute/datasets/iso_02456/archs4_gene_expression_norm_transposed.tsv.gz\"\n",
        "gtex_gene_path = \"/dtu-compute/datasets/iso_02456/gtex_gene_expression_norm_transposed.tsv.gz\"\n",
        "gtex_isoform_path = \"/dtu-compute/datasets/iso_02456/gtex_isoform_expression_norm_transposed.tsv.gz\"\n",
        "gtex_anno_path = \"/dtu-compute/datasets/iso_02456/gtex_gene_isoform_annoation.tsv.gz\"\n",
        "gtex_tissue_path = \"/dtu-compute/datasets/iso_02456/gtex_annot.tsv.gz\"\n",
        "\n",
        "num_genes = 18965\n",
        "num_isoforms = 156958\n",
        "\n",
        "num_genes, num_isoforms"
      ]
    },
    {
      "cell_type": "code",
      "execution_count": 5,
      "metadata": {},
      "outputs": [
        {
          "name": "stdout",
          "output_type": "stream",
          "text": [
            "gtex_gene_path num rows: 17357\n"
          ]
        },
        {
          "data": {
            "text/plain": [
              "8.6785"
            ]
          },
          "execution_count": 5,
          "metadata": {},
          "output_type": "execute_result"
        }
      ],
      "source": [
        "# count_csv_rows(gtex_gene_path)\n",
        "print(\"gtex_gene_path num rows: 17357\")\n",
        "percentage_calc = 17357 * 0.0005\n",
        "percentage_calc"
      ]
    },
    {
      "cell_type": "markdown",
      "metadata": {},
      "source": [
        "Using percentage 0.001 should load 17 samples, and 0.01 170. We use 0.005 for 86 samples"
      ]
    },
    {
      "cell_type": "markdown",
      "metadata": {},
      "source": [
        "### Data Loader"
      ]
    },
    {
      "cell_type": "markdown",
      "metadata": {},
      "source": [
        "- Label Encoding: This converts each unique label into a unique integer. If you have a large number of classes, be aware of memory usage.\n",
        "- Inverse Transformation: If you need to get back the original labels from the encoded ones, you can use self.label_encoder.inverse_transform().\n",
        "- Data Types: Labels are converted to torch.long since they are now integers, which is a common practice for categorical labels in classification tasks."
      ]
    },
    {
      "cell_type": "code",
      "execution_count": 6,
      "metadata": {},
      "outputs": [],
      "source": [
        "class GeneExpressionDataset(Dataset):\n",
        "    \"\"\" # Old dataLoader with no TestSet\n",
        "    def __init__(self, filepath, percentage=0.1):\n",
        "        self.data = self.load_data_percentage(filepath, percentage)\n",
        "        # Assuming the first column is the label\n",
        "        self.labels = self.data.iloc[:, 0]\n",
        "        self.genes = self.data.iloc[:, 1:]\n",
        "\n",
        "        # Encode the labels\n",
        "        self.label_encoder = LabelEncoder()\n",
        "        self.encoded_labels = self.label_encoder.fit_transform(self.labels)\n",
        "    \"\"\"\n",
        "\n",
        "    def __init__(self, data, labels):\n",
        "        self.labels = labels\n",
        "        self.genes = data\n",
        "        self.label_encoder = LabelEncoder()\n",
        "        self.encoded_labels = self.label_encoder.fit_transform(self.labels)\n",
        "\n",
        "    def __len__(self):\n",
        "        return len(self.genes)\n",
        "\n",
        "    def __getitem__(self, idx):\n",
        "        if torch.is_tensor(idx):\n",
        "            idx = idx.tolist()\n",
        "\n",
        "        label = self.encoded_labels[idx]\n",
        "        genes = self.genes.iloc[idx]\n",
        "        return torch.tensor(genes.values, dtype=torch.float32), torch.tensor(label, dtype=torch.long)\n",
        "\n",
        "    def get_original_labels(self, encoded_labels):\n",
        "        return self.label_encoder.inverse_transform(encoded_labels)\n",
        "\n",
        "    # Next function is slow because it counts all the rows to calculate the percentage, that is why we added load rows\n",
        "    @staticmethod\n",
        "    def load_data_percentage(filepath, percentage=0.1):\n",
        "        # Load a percentage of the data as shown previously\n",
        "        cols = pd.read_csv(filepath, sep='\\t', compression='gzip', nrows=0).columns\n",
        "        n_total_rows = sum(1 for row in open(filepath, 'rb'))\n",
        "        n_rows_to_load = int(n_total_rows * percentage)\n",
        "        skip_rows = np.random.choice(np.arange(1, n_total_rows), size=n_total_rows - n_rows_to_load, replace=False)\n",
        "        return pd.read_csv(filepath, sep='\\t', compression='gzip', usecols=cols, skiprows=skip_rows)\n",
        "    \n",
        "    @staticmethod\n",
        "    def load_rows(filepath, num_rows):\n",
        "        \"\"\"\n",
        "        Load a specific number of rows from the file.\n",
        "        \"\"\"\n",
        "        return pd.read_csv(filepath, sep='\\t', compression='gzip', nrows=num_rows)"
      ]
    },
    {
      "cell_type": "code",
      "execution_count": 7,
      "metadata": {},
      "outputs": [
        {
          "name": "stdout",
          "output_type": "stream",
          "text": [
            "Loading data...\n",
            "Data loaded.\n",
            "Splitting data into training and testing sets...\n",
            "Data split.\n",
            "Creating training and testing datasets...\n",
            "Datasets created.\n",
            "Data loaders created.\n"
          ]
        }
      ],
      "source": [
        "num_rows_to_load = 100  # specify the number of rows you want to load\n",
        "\n",
        "# Print progress\n",
        "print(\"Loading data...\")\n",
        "\n",
        "# Load the entire dataset\n",
        "full_data = GeneExpressionDataset.load_rows(gtex_gene_path, num_rows=num_rows_to_load)\n",
        "# Print progress\n",
        "print(\"Data loaded.\")\n",
        "\n",
        "# Split the data into training and testing sets\n",
        "print(\"Splitting data into training and testing sets...\")\n",
        "train_data, test_data = train_test_split(full_data, test_size=0.2, random_state=42)\n",
        "\n",
        "# Print progress\n",
        "print(\"Data split.\")\n",
        "\n",
        "# Create dataset instances for training and testing\n",
        "print(\"Creating training and testing datasets...\")\n",
        "gene_train_dataset = GeneExpressionDataset(train_data.iloc[:, 1:], train_data.iloc[:, 0])\n",
        "gene_test_dataset = GeneExpressionDataset(test_data.iloc[:, 1:], test_data.iloc[:, 0])\n",
        "\n",
        "# Print progress\n",
        "print(\"Datasets created.\")\n",
        "\n",
        "gene_train_loader = DataLoader(gene_train_dataset, batch_size=64, shuffle=True)\n",
        "gene_test_loader = DataLoader(gene_test_dataset, batch_size=64, shuffle=False)  # Usually, shuffling is not needed for testing\n",
        "\n",
        "# Print progress\n",
        "print(\"Data loaders created.\")"
      ]
    },
    {
      "cell_type": "code",
      "execution_count": null,
      "metadata": {},
      "outputs": [],
      "source": [
        "# Same code with percentage and without showing progress \n",
        "\"\"\"\n",
        "load_percentage = 0.0005\n",
        "\n",
        "# Load the entire dataset\n",
        "full_data = GeneExpressionDataset.load_data_percentage(gtex_gene_path, percentage=load_percentage)\n",
        "\n",
        "# Split the data into training and testing sets\n",
        "train_data, test_data = train_test_split(full_data, test_size=0.2, random_state=42)\n",
        "\n",
        "# Create dataset instances for training and testing\n",
        "gene_train_dataset = GeneExpressionDataset(train_data.iloc[:, 1:], train_data.iloc[:, 0])\n",
        "gene_test_dataset = GeneExpressionDataset(test_data.iloc[:, 1:], test_data.iloc[:, 0])\n",
        "\n",
        "gene_train_loader = DataLoader(gene_train_dataset, batch_size=64, shuffle=True)\n",
        "gene_test_loader = DataLoader(gene_test_dataset, batch_size=64, shuffle=False)  # Usually, shuffling is not needed for testing\n",
        "\"\"\"\n"
      ]
    },
    {
      "cell_type": "code",
      "execution_count": 8,
      "metadata": {},
      "outputs": [
        {
          "data": {
            "text/html": [
              "<div>\n",
              "<style scoped>\n",
              "    .dataframe tbody tr th:only-of-type {\n",
              "        vertical-align: middle;\n",
              "    }\n",
              "\n",
              "    .dataframe tbody tr th {\n",
              "        vertical-align: top;\n",
              "    }\n",
              "\n",
              "    .dataframe thead th {\n",
              "        text-align: right;\n",
              "    }\n",
              "</style>\n",
              "<table border=\"1\" class=\"dataframe\">\n",
              "  <thead>\n",
              "    <tr style=\"text-align: right;\">\n",
              "      <th></th>\n",
              "      <th>sample_id</th>\n",
              "      <th>TMEM38B</th>\n",
              "      <th>SLC24A3</th>\n",
              "      <th>AXDND1</th>\n",
              "      <th>DUXA</th>\n",
              "      <th>ZCCHC13</th>\n",
              "      <th>FGF18</th>\n",
              "      <th>INPP5D</th>\n",
              "      <th>MAP2K4</th>\n",
              "      <th>BCAR1</th>\n",
              "      <th>...</th>\n",
              "      <th>MARCH10</th>\n",
              "      <th>EVL</th>\n",
              "      <th>CYP1A2</th>\n",
              "      <th>ZNF782</th>\n",
              "      <th>LIMCH1</th>\n",
              "      <th>WDR24</th>\n",
              "      <th>ANGPTL4</th>\n",
              "      <th>UGT2B7</th>\n",
              "      <th>PIPOX</th>\n",
              "      <th>CD1B</th>\n",
              "    </tr>\n",
              "  </thead>\n",
              "  <tbody>\n",
              "    <tr>\n",
              "      <th>0</th>\n",
              "      <td>GTEX-1117F-0226-SM-5GZZ7</td>\n",
              "      <td>3.327687</td>\n",
              "      <td>2.339137</td>\n",
              "      <td>0.084064</td>\n",
              "      <td>0.000000</td>\n",
              "      <td>0.0</td>\n",
              "      <td>0.765535</td>\n",
              "      <td>4.675816</td>\n",
              "      <td>3.768714</td>\n",
              "      <td>5.701826</td>\n",
              "      <td>...</td>\n",
              "      <td>0.545968</td>\n",
              "      <td>6.146289</td>\n",
              "      <td>0.084064</td>\n",
              "      <td>1.778209</td>\n",
              "      <td>4.233428</td>\n",
              "      <td>3.715893</td>\n",
              "      <td>7.896635</td>\n",
              "      <td>0.214125</td>\n",
              "      <td>2.130931</td>\n",
              "      <td>0.000000</td>\n",
              "    </tr>\n",
              "    <tr>\n",
              "      <th>1</th>\n",
              "      <td>GTEX-1117F-0426-SM-5EGHI</td>\n",
              "      <td>4.295723</td>\n",
              "      <td>4.206331</td>\n",
              "      <td>0.000000</td>\n",
              "      <td>0.070389</td>\n",
              "      <td>0.0</td>\n",
              "      <td>0.250962</td>\n",
              "      <td>2.765535</td>\n",
              "      <td>3.214125</td>\n",
              "      <td>5.223423</td>\n",
              "      <td>...</td>\n",
              "      <td>0.378512</td>\n",
              "      <td>4.870365</td>\n",
              "      <td>0.042644</td>\n",
              "      <td>0.669027</td>\n",
              "      <td>4.821200</td>\n",
              "      <td>3.181103</td>\n",
              "      <td>2.931683</td>\n",
              "      <td>0.137504</td>\n",
              "      <td>0.933573</td>\n",
              "      <td>0.000000</td>\n",
              "    </tr>\n",
              "    <tr>\n",
              "      <th>2</th>\n",
              "      <td>GTEX-1117F-0526-SM-5EGHJ</td>\n",
              "      <td>3.860963</td>\n",
              "      <td>2.350497</td>\n",
              "      <td>0.189034</td>\n",
              "      <td>0.000000</td>\n",
              "      <td>0.0</td>\n",
              "      <td>0.871844</td>\n",
              "      <td>4.097611</td>\n",
              "      <td>3.648465</td>\n",
              "      <td>5.529196</td>\n",
              "      <td>...</td>\n",
              "      <td>0.985500</td>\n",
              "      <td>5.103498</td>\n",
              "      <td>0.028569</td>\n",
              "      <td>1.516015</td>\n",
              "      <td>4.176323</td>\n",
              "      <td>3.478972</td>\n",
              "      <td>6.069745</td>\n",
              "      <td>0.056584</td>\n",
              "      <td>2.049631</td>\n",
              "      <td>0.000000</td>\n",
              "    </tr>\n",
              "    <tr>\n",
              "      <th>3</th>\n",
              "      <td>GTEX-1117F-0626-SM-5N9CS</td>\n",
              "      <td>2.957915</td>\n",
              "      <td>2.935460</td>\n",
              "      <td>0.000000</td>\n",
              "      <td>0.084064</td>\n",
              "      <td>0.0</td>\n",
              "      <td>2.049631</td>\n",
              "      <td>4.121015</td>\n",
              "      <td>3.705978</td>\n",
              "      <td>5.959538</td>\n",
              "      <td>...</td>\n",
              "      <td>0.526069</td>\n",
              "      <td>6.604071</td>\n",
              "      <td>0.056584</td>\n",
              "      <td>2.077243</td>\n",
              "      <td>4.639811</td>\n",
              "      <td>3.238787</td>\n",
              "      <td>7.274634</td>\n",
              "      <td>0.097611</td>\n",
              "      <td>1.035624</td>\n",
              "      <td>0.000000</td>\n",
              "    </tr>\n",
              "    <tr>\n",
              "      <th>4</th>\n",
              "      <td>GTEX-1117F-0726-SM-5GIEN</td>\n",
              "      <td>2.555816</td>\n",
              "      <td>0.505891</td>\n",
              "      <td>0.056584</td>\n",
              "      <td>0.000000</td>\n",
              "      <td>0.0</td>\n",
              "      <td>0.443607</td>\n",
              "      <td>3.841973</td>\n",
              "      <td>2.541019</td>\n",
              "      <td>4.856488</td>\n",
              "      <td>...</td>\n",
              "      <td>0.321928</td>\n",
              "      <td>6.026800</td>\n",
              "      <td>0.000000</td>\n",
              "      <td>0.739848</td>\n",
              "      <td>4.388878</td>\n",
              "      <td>2.111031</td>\n",
              "      <td>5.911931</td>\n",
              "      <td>0.000000</td>\n",
              "      <td>0.321928</td>\n",
              "      <td>0.000000</td>\n",
              "    </tr>\n",
              "    <tr>\n",
              "      <th>...</th>\n",
              "      <td>...</td>\n",
              "      <td>...</td>\n",
              "      <td>...</td>\n",
              "      <td>...</td>\n",
              "      <td>...</td>\n",
              "      <td>...</td>\n",
              "      <td>...</td>\n",
              "      <td>...</td>\n",
              "      <td>...</td>\n",
              "      <td>...</td>\n",
              "      <td>...</td>\n",
              "      <td>...</td>\n",
              "      <td>...</td>\n",
              "      <td>...</td>\n",
              "      <td>...</td>\n",
              "      <td>...</td>\n",
              "      <td>...</td>\n",
              "      <td>...</td>\n",
              "      <td>...</td>\n",
              "      <td>...</td>\n",
              "      <td>...</td>\n",
              "    </tr>\n",
              "    <tr>\n",
              "      <th>95</th>\n",
              "      <td>GTEX-1122O-1026-SM-9WYSF</td>\n",
              "      <td>2.100978</td>\n",
              "      <td>2.817623</td>\n",
              "      <td>0.111031</td>\n",
              "      <td>0.000000</td>\n",
              "      <td>0.0</td>\n",
              "      <td>0.176323</td>\n",
              "      <td>3.089159</td>\n",
              "      <td>4.010780</td>\n",
              "      <td>2.347666</td>\n",
              "      <td>...</td>\n",
              "      <td>0.111031</td>\n",
              "      <td>5.928370</td>\n",
              "      <td>0.286881</td>\n",
              "      <td>1.580145</td>\n",
              "      <td>2.929791</td>\n",
              "      <td>3.447579</td>\n",
              "      <td>3.478972</td>\n",
              "      <td>0.000000</td>\n",
              "      <td>0.918386</td>\n",
              "      <td>0.176323</td>\n",
              "    </tr>\n",
              "    <tr>\n",
              "      <th>96</th>\n",
              "      <td>GTEX-1122O-1126-SM-5NQ8X</td>\n",
              "      <td>2.211012</td>\n",
              "      <td>4.875780</td>\n",
              "      <td>0.176323</td>\n",
              "      <td>0.903038</td>\n",
              "      <td>0.0</td>\n",
              "      <td>0.807355</td>\n",
              "      <td>1.981853</td>\n",
              "      <td>3.671293</td>\n",
              "      <td>6.242031</td>\n",
              "      <td>...</td>\n",
              "      <td>0.028569</td>\n",
              "      <td>5.590362</td>\n",
              "      <td>0.000000</td>\n",
              "      <td>1.250962</td>\n",
              "      <td>6.229972</td>\n",
              "      <td>2.807355</td>\n",
              "      <td>4.778734</td>\n",
              "      <td>0.000000</td>\n",
              "      <td>0.933573</td>\n",
              "      <td>0.000000</td>\n",
              "    </tr>\n",
              "    <tr>\n",
              "      <th>97</th>\n",
              "      <td>GTEX-1122O-1226-SM-5H113</td>\n",
              "      <td>2.313246</td>\n",
              "      <td>2.611172</td>\n",
              "      <td>0.411426</td>\n",
              "      <td>0.056584</td>\n",
              "      <td>0.0</td>\n",
              "      <td>0.970854</td>\n",
              "      <td>3.742006</td>\n",
              "      <td>3.605257</td>\n",
              "      <td>4.925050</td>\n",
              "      <td>...</td>\n",
              "      <td>0.000000</td>\n",
              "      <td>6.585413</td>\n",
              "      <td>0.056584</td>\n",
              "      <td>1.438293</td>\n",
              "      <td>4.397803</td>\n",
              "      <td>3.061776</td>\n",
              "      <td>7.072320</td>\n",
              "      <td>0.286881</td>\n",
              "      <td>0.555816</td>\n",
              "      <td>0.084064</td>\n",
              "    </tr>\n",
              "    <tr>\n",
              "      <th>98</th>\n",
              "      <td>GTEX-1122O-1326-SM-5H11F</td>\n",
              "      <td>2.229588</td>\n",
              "      <td>1.835924</td>\n",
              "      <td>0.790772</td>\n",
              "      <td>0.000000</td>\n",
              "      <td>0.0</td>\n",
              "      <td>0.495695</td>\n",
              "      <td>3.462052</td>\n",
              "      <td>3.010780</td>\n",
              "      <td>6.156235</td>\n",
              "      <td>...</td>\n",
              "      <td>0.014355</td>\n",
              "      <td>5.779785</td>\n",
              "      <td>0.000000</td>\n",
              "      <td>1.541019</td>\n",
              "      <td>2.121015</td>\n",
              "      <td>2.761285</td>\n",
              "      <td>3.572890</td>\n",
              "      <td>3.775051</td>\n",
              "      <td>0.903038</td>\n",
              "      <td>0.000000</td>\n",
              "    </tr>\n",
              "    <tr>\n",
              "      <th>99</th>\n",
              "      <td>GTEX-1122O-1426-SM-5H11R</td>\n",
              "      <td>1.996389</td>\n",
              "      <td>3.770829</td>\n",
              "      <td>0.028569</td>\n",
              "      <td>0.000000</td>\n",
              "      <td>0.0</td>\n",
              "      <td>0.356144</td>\n",
              "      <td>2.942984</td>\n",
              "      <td>3.619413</td>\n",
              "      <td>5.008092</td>\n",
              "      <td>...</td>\n",
              "      <td>0.933573</td>\n",
              "      <td>7.338335</td>\n",
              "      <td>0.000000</td>\n",
              "      <td>1.682573</td>\n",
              "      <td>2.922198</td>\n",
              "      <td>3.375735</td>\n",
              "      <td>5.300124</td>\n",
              "      <td>0.000000</td>\n",
              "      <td>2.622930</td>\n",
              "      <td>0.070389</td>\n",
              "    </tr>\n",
              "  </tbody>\n",
              "</table>\n",
              "<p>100 rows × 18966 columns</p>\n",
              "</div>"
            ],
            "text/plain": [
              "                   sample_id   TMEM38B   SLC24A3    AXDND1      DUXA  ZCCHC13  \\\n",
              "0   GTEX-1117F-0226-SM-5GZZ7  3.327687  2.339137  0.084064  0.000000      0.0   \n",
              "1   GTEX-1117F-0426-SM-5EGHI  4.295723  4.206331  0.000000  0.070389      0.0   \n",
              "2   GTEX-1117F-0526-SM-5EGHJ  3.860963  2.350497  0.189034  0.000000      0.0   \n",
              "3   GTEX-1117F-0626-SM-5N9CS  2.957915  2.935460  0.000000  0.084064      0.0   \n",
              "4   GTEX-1117F-0726-SM-5GIEN  2.555816  0.505891  0.056584  0.000000      0.0   \n",
              "..                       ...       ...       ...       ...       ...      ...   \n",
              "95  GTEX-1122O-1026-SM-9WYSF  2.100978  2.817623  0.111031  0.000000      0.0   \n",
              "96  GTEX-1122O-1126-SM-5NQ8X  2.211012  4.875780  0.176323  0.903038      0.0   \n",
              "97  GTEX-1122O-1226-SM-5H113  2.313246  2.611172  0.411426  0.056584      0.0   \n",
              "98  GTEX-1122O-1326-SM-5H11F  2.229588  1.835924  0.790772  0.000000      0.0   \n",
              "99  GTEX-1122O-1426-SM-5H11R  1.996389  3.770829  0.028569  0.000000      0.0   \n",
              "\n",
              "       FGF18    INPP5D    MAP2K4     BCAR1  ...   MARCH10       EVL    CYP1A2  \\\n",
              "0   0.765535  4.675816  3.768714  5.701826  ...  0.545968  6.146289  0.084064   \n",
              "1   0.250962  2.765535  3.214125  5.223423  ...  0.378512  4.870365  0.042644   \n",
              "2   0.871844  4.097611  3.648465  5.529196  ...  0.985500  5.103498  0.028569   \n",
              "3   2.049631  4.121015  3.705978  5.959538  ...  0.526069  6.604071  0.056584   \n",
              "4   0.443607  3.841973  2.541019  4.856488  ...  0.321928  6.026800  0.000000   \n",
              "..       ...       ...       ...       ...  ...       ...       ...       ...   \n",
              "95  0.176323  3.089159  4.010780  2.347666  ...  0.111031  5.928370  0.286881   \n",
              "96  0.807355  1.981853  3.671293  6.242031  ...  0.028569  5.590362  0.000000   \n",
              "97  0.970854  3.742006  3.605257  4.925050  ...  0.000000  6.585413  0.056584   \n",
              "98  0.495695  3.462052  3.010780  6.156235  ...  0.014355  5.779785  0.000000   \n",
              "99  0.356144  2.942984  3.619413  5.008092  ...  0.933573  7.338335  0.000000   \n",
              "\n",
              "      ZNF782    LIMCH1     WDR24   ANGPTL4    UGT2B7     PIPOX      CD1B  \n",
              "0   1.778209  4.233428  3.715893  7.896635  0.214125  2.130931  0.000000  \n",
              "1   0.669027  4.821200  3.181103  2.931683  0.137504  0.933573  0.000000  \n",
              "2   1.516015  4.176323  3.478972  6.069745  0.056584  2.049631  0.000000  \n",
              "3   2.077243  4.639811  3.238787  7.274634  0.097611  1.035624  0.000000  \n",
              "4   0.739848  4.388878  2.111031  5.911931  0.000000  0.321928  0.000000  \n",
              "..       ...       ...       ...       ...       ...       ...       ...  \n",
              "95  1.580145  2.929791  3.447579  3.478972  0.000000  0.918386  0.176323  \n",
              "96  1.250962  6.229972  2.807355  4.778734  0.000000  0.933573  0.000000  \n",
              "97  1.438293  4.397803  3.061776  7.072320  0.286881  0.555816  0.084064  \n",
              "98  1.541019  2.121015  2.761285  3.572890  3.775051  0.903038  0.000000  \n",
              "99  1.682573  2.922198  3.375735  5.300124  0.000000  2.622930  0.070389  \n",
              "\n",
              "[100 rows x 18966 columns]"
            ]
          },
          "execution_count": 8,
          "metadata": {},
          "output_type": "execute_result"
        }
      ],
      "source": [
        "full_data"
      ]
    },
    {
      "cell_type": "code",
      "execution_count": 9,
      "metadata": {},
      "outputs": [
        {
          "data": {
            "text/plain": [
              "(tensor([[1.8156, 2.4673, 0.4222,  ..., 0.6508, 0.5261, 0.0000],\n",
              "         [3.4581, 1.9449, 0.7824,  ..., 0.0426, 0.9411, 0.0000],\n",
              "         [3.0126, 0.7991, 0.3334,  ..., 0.0000, 0.3561, 0.0000],\n",
              "         ...,\n",
              "         [2.9203, 5.9378, 0.0000,  ..., 0.1763, 1.0841, 0.0000],\n",
              "         [4.7479, 1.3103, 5.1010,  ..., 0.1890, 1.6508, 0.0000],\n",
              "         [2.1276, 0.5558, 0.0000,  ..., 0.0000, 0.1243, 0.0000]]),\n",
              " tensor([33, 52, 28, 26, 14, 11, 17, 72,  6, 48, 66, 19, 30, 51, 71,  0, 74, 59,\n",
              "         57,  2, 69, 41, 31, 42, 64, 62, 12, 49, 55, 32,  3, 25, 10,  5, 60, 16,\n",
              "         15, 45, 27, 40, 61, 67, 43, 63,  9, 56, 29, 77, 39,  8, 34, 78, 79, 23,\n",
              "         53, 58, 37, 18, 54, 46, 75,  4, 21, 36]))"
            ]
          },
          "execution_count": 9,
          "metadata": {},
          "output_type": "execute_result"
        }
      ],
      "source": [
        "genes, labels = next(iter(gene_train_loader))\n",
        "genes, labels"
      ]
    },
    {
      "cell_type": "code",
      "execution_count": 10,
      "metadata": {},
      "outputs": [
        {
          "data": {
            "text/plain": [
              "(tensor([[3.3060, 0.2141, 0.0976,  ..., 0.3674, 0.9260, 0.0000],\n",
              "         [2.4033, 3.5981, 0.1110,  ..., 0.1243, 1.8679, 0.0000],\n",
              "         [1.0426, 0.2265, 0.2630,  ..., 1.3896, 0.3103, 0.0000],\n",
              "         ...,\n",
              "         [2.5945, 2.5534, 0.4436,  ..., 0.5059, 0.7312, 0.1890],\n",
              "         [2.5509, 1.1890, 0.3785,  ..., 0.0286, 0.6508, 0.0000],\n",
              "         [1.5656, 2.7887, 0.2750,  ..., 0.0286, 0.7908, 0.2869]]),\n",
              " tensor([18, 12, 13, 11, 10,  9,  5, 17,  2,  0,  4,  6, 14,  8, 19,  1, 15, 16,\n",
              "          3,  7]))"
            ]
          },
          "execution_count": 10,
          "metadata": {},
          "output_type": "execute_result"
        }
      ],
      "source": [
        "test_genes, test_labels = next(iter(gene_test_loader))\n",
        "test_genes, test_labels"
      ]
    },
    {
      "cell_type": "markdown",
      "metadata": {},
      "source": [
        "Get original labels"
      ]
    },
    {
      "cell_type": "code",
      "execution_count": 11,
      "metadata": {},
      "outputs": [
        {
          "data": {
            "text/plain": [
              "array(['GTEX-111FC-2526-SM-5GZXU', 'GTEX-111YS-0726-SM-5GZY8',\n",
              "       'GTEX-111FC-0826-SM-5GZWO', 'GTEX-111FC-0526-SM-5GZZ8',\n",
              "       'GTEX-111CU-0826-SM-5EGIJ', 'GTEX-111CU-0426-SM-5GZY1',\n",
              "       'GTEX-111CU-1226-SM-5EGIN', 'GTEX-1122O-0726-SM-5GIEV',\n",
              "       'GTEX-1117F-2826-SM-5GZXL', 'GTEX-111YS-0326-SM-5GZZ3',\n",
              "       'GTEX-1122O-0008-SM-5QGR2', 'GTEX-111CU-1426-SM-5GZYP',\n",
              "       'GTEX-111FC-1326-SM-5N9D9', 'GTEX-111YS-0626-SM-5GZXV',\n",
              "       'GTEX-1122O-0626-SM-5N9B9', 'GTEX-1117F-0426-SM-5EGHI',\n",
              "       'GTEX-1122O-0926-SM-9YFLC', 'GTEX-111YS-1626-SM-5GZZ9',\n",
              "       'GTEX-111YS-1326-SM-5EGGK', 'GTEX-1117F-0626-SM-5N9CS',\n",
              "       'GTEX-1122O-0326-SM-5H124', 'GTEX-111VG-2326-SM-5N9BK',\n",
              "       'GTEX-111FC-1926-SM-5GZYC', 'GTEX-111VG-2426-SM-5GZXD',\n",
              "       'GTEX-111YS-2426-SM-5GZZQ', 'GTEX-111YS-2126-SM-5EGGM',\n",
              "       'GTEX-111CU-0526-SM-5EGHK', 'GTEX-111YS-0426-SM-5987O',\n",
              "       'GTEX-111YS-1026-SM-5GZYE', 'GTEX-111FC-2026-SM-5GZYO',\n",
              "       'GTEX-1117F-1326-SM-5EGHH', 'GTEX-111FC-0426-SM-5N9CV',\n",
              "       'GTEX-111CU-0326-SM-5GZXO', 'GTEX-1117F-2526-SM-5GZY6',\n",
              "       'GTEX-111YS-1726-SM-5GIED', 'GTEX-111CU-1026-SM-5EGIL',\n",
              "       'GTEX-111CU-0926-SM-5EGIK', 'GTEX-111YS-0006-SM-5NQBE',\n",
              "       'GTEX-111FC-0626-SM-5N9CU', 'GTEX-111VG-1926-SM-5GIDO',\n",
              "       'GTEX-111YS-2026-SM-5EGGL', 'GTEX-1122O-0126-SM-5GICA',\n",
              "       'GTEX-111VG-2526-SM-5GZXP', 'GTEX-111YS-2326-SM-5987L',\n",
              "       'GTEX-111CU-0226-SM-5GZXC', 'GTEX-111YS-1126-SM-5GZYQ',\n",
              "       'GTEX-111FC-1026-SM-5GZX1', 'GTEX-1122O-1226-SM-5H113',\n",
              "       'GTEX-111VG-1626-SM-5EGIO', 'GTEX-1117F-3226-SM-5N9CT',\n",
              "       'GTEX-111FC-3326-SM-5GZYV', 'GTEX-1122O-1326-SM-5H11F',\n",
              "       'GTEX-1122O-1426-SM-5H11R', 'GTEX-111CU-2026-SM-5GZZC',\n",
              "       'GTEX-111YS-0826-SM-5GZYK', 'GTEX-111YS-1426-SM-5GID8',\n",
              "       'GTEX-111VG-0526-SM-5N9BW', 'GTEX-111CU-1326-SM-5NQ8L',\n",
              "       'GTEX-111YS-0926-SM-5EGGI', 'GTEX-111YS-0008-SM-5Q5BH',\n",
              "       'GTEX-1122O-1026-SM-9WYSF', 'GTEX-1117F-2426-SM-5EGGH',\n",
              "       'GTEX-111CU-1726-SM-5EGHM', 'GTEX-111VG-0326-SM-5GZX7'],\n",
              "      dtype=object)"
            ]
          },
          "execution_count": 11,
          "metadata": {},
          "output_type": "execute_result"
        }
      ],
      "source": [
        "# Convert encoded labels back to original string labels\n",
        "original_labels = gene_train_dataset.get_original_labels(labels.numpy())\n",
        "original_labels"
      ]
    },
    {
      "cell_type": "markdown",
      "metadata": {},
      "source": [
        "# Todo: Add code to load VAE or latent features outputed from the VAE for gtex_gene_path"
      ]
    },
    {
      "cell_type": "markdown",
      "metadata": {
        "id": "2DuRG3tVq268",
        "pycharm": {
          "name": "#%% md\n"
        }
      },
      "source": [
        "## Building the model\n",
        "When defining the model the latent layer must act as a bottleneck of information, so that we ensure that we find a strong internal representation. We initialize the VAE with 1 hidden layer in the encoder and decoder using relu units as non-linearity."
      ]
    },
    {
      "cell_type": "markdown",
      "metadata": {
        "id": "HO5NZoEyq269",
        "pycharm": {
          "name": "#%% md\n"
        }
      },
      "source": [
        "## Training and Evaluation\n",
        "\n",
        "### Initialize the model, evaluator and optimizer"
      ]
    },
    {
      "cell_type": "code",
      "execution_count": 12,
      "metadata": {},
      "outputs": [
        {
          "name": "stdout",
          "output_type": "stream",
          "text": [
            "1.10.2+cu102\n",
            "10.2\n",
            ">> Using device: cpu\n"
          ]
        }
      ],
      "source": [
        "print(torch.__version__)\n",
        "print(torch.version.cuda)\n",
        "\n",
        "device = torch.device(\"cuda:0\" if torch.cuda.is_available() else \"cpu\")\n",
        "print(f\">> Using device: {device}\")"
      ]
    },
    {
      "cell_type": "code",
      "execution_count": 13,
      "metadata": {},
      "outputs": [],
      "source": [
        "train_loader = gene_train_loader\n",
        "test_loader = gene_test_loader"
      ]
    },
    {
      "cell_type": "markdown",
      "metadata": {},
      "source": [
        "## Evaluate model"
      ]
    }
  ],
  "metadata": {
    "accelerator": "GPU",
    "colab": {
      "gpuType": "T4",
      "provenance": []
    },
    "kernelspec": {
      "display_name": "Python 3",
      "name": "python3"
    },
    "language_info": {
      "codemirror_mode": {
        "name": "ipython",
        "version": 3
      },
      "file_extension": ".py",
      "mimetype": "text/x-python",
      "name": "python",
      "nbconvert_exporter": "python",
      "pygments_lexer": "ipython3",
      "version": "3.6.8"
    }
  },
  "nbformat": 4,
  "nbformat_minor": 0
}
