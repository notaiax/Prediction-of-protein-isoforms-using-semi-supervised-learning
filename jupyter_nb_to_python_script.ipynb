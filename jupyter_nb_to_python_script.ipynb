{
 "cells": [
  {
   "cell_type": "code",
   "execution_count": 2,
   "metadata": {},
   "outputs": [],
   "source": [
    "import nbformat\n",
    "from nbconvert import PythonExporter\n",
    "\n",
    "\n",
    "def convert_notebook(notebook_path, output_path):\n",
    "    with open(notebook_path) as fh:\n",
    "        nb = nbformat.read(fh, as_version=4)\n",
    "        exporter = PythonExporter()\n",
    "        source, meta = exporter.from_notebook_node(nb)\n",
    "        with open(output_path, 'w+') as fh:\n",
    "            fh.writelines(source)\n",
    "\n",
    "nb_path = 'VAE/aiax VAE (script cleaned code)'\n",
    "python_path = 'VAE/aiax VAE'\n",
    "\n",
    "convert_notebook(nb_path + '.ipynb', python_path + '.py')\n"
   ]
  }
 ],
 "metadata": {
  "kernelspec": {
   "display_name": "venv_iso",
   "language": "python",
   "name": "python3"
  },
  "language_info": {
   "codemirror_mode": {
    "name": "ipython",
    "version": 3
   },
   "file_extension": ".py",
   "mimetype": "text/x-python",
   "name": "python",
   "nbconvert_exporter": "python",
   "pygments_lexer": "ipython3",
   "version": "3.6.8"
  }
 },
 "nbformat": 4,
 "nbformat_minor": 2
}
