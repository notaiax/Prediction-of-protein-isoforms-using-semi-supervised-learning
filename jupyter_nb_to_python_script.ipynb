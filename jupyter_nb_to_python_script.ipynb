{
 "cells": [
  {
   "cell_type": "code",
   "execution_count": null,
   "metadata": {},
   "outputs": [],
   "source": [
    "import nbformat\n",
    "from nbconvert import PythonExporter\n",
    "\n",
    "\n",
    "def convert_notebook(notebook_path, output_path):\n",
    "    with open(notebook_path) as fh:\n",
    "        nb = nbformat.read(fh, as_version=4)\n",
    "        exporter = PythonExporter()\n",
    "        source, meta = exporter.from_notebook_node(nb)\n",
    "        with open(output_path, 'w+') as fh:\n",
    "            fh.writelines(source)\n",
    "\n",
    "file_path = 'VAE/aiax VAE'\n",
    "\n",
    "convert_notebook(file_path + '.ipynb', file_path + '.py')\n"
   ]
  },
  {
   "cell_type": "code",
   "execution_count": 1,
   "metadata": {},
   "outputs": [
    {
     "name": "stdout",
     "output_type": "stream",
     "text": [
      "Collecting nbconvert\n",
      "  Using cached https://files.pythonhosted.org/packages/13/2f/acbe7006548f3914456ee47f97a2033b1b2f3daf921b12ac94105d87c163/nbconvert-6.0.7-py3-none-any.whl\n",
      "Collecting mistune<2,>=0.8.1 (from nbconvert)\n",
      "  Using cached https://files.pythonhosted.org/packages/09/ec/4b43dae793655b7d8a25f76119624350b4d65eb663459eb9603d7f1f0345/mistune-0.8.4-py2.py3-none-any.whl\n",
      "Requirement already satisfied: entrypoints>=0.2.2 in ./venv_iso/lib/python3.6/site-packages (from nbconvert)\n",
      "Collecting jinja2>=2.4 (from nbconvert)\n",
      "  Using cached https://files.pythonhosted.org/packages/20/9a/e5d9ec41927401e41aea8af6d16e78b5e612bca4699d417f646a9610a076/Jinja2-3.0.3-py3-none-any.whl\n",
      "Collecting bleach (from nbconvert)\n",
      "  Using cached https://files.pythonhosted.org/packages/64/cc/74d634e1e5659742973a23bb441404c53a7bedb6cd3962109ca5efb703e8/bleach-4.1.0-py2.py3-none-any.whl\n",
      "Collecting testpath (from nbconvert)\n",
      "  Using cached https://files.pythonhosted.org/packages/86/43/1ebfb29c2ca1df2bdb33dbcb2b526b77ee96873ba7b9e25650ddd4ae7156/testpath-0.6.0-py3-none-any.whl\n",
      "Collecting pandocfilters>=1.4.1 (from nbconvert)\n",
      "  Using cached https://files.pythonhosted.org/packages/5e/a8/878258cffd53202a6cc1903c226cf09e58ae3df6b09f8ddfa98033286637/pandocfilters-1.5.0-py2.py3-none-any.whl\n",
      "Requirement already satisfied: jupyter-core in ./venv_iso/lib/python3.6/site-packages (from nbconvert)\n",
      "Collecting jupyterlab-pygments (from nbconvert)\n",
      "  Using cached https://files.pythonhosted.org/packages/a8/6f/c34288766797193b512c6508f5994b830fb06134fdc4ca8214daba0aa443/jupyterlab_pygments-0.1.2-py2.py3-none-any.whl\n",
      "Collecting nbformat>=4.4 (from nbconvert)\n",
      "  Using cached https://files.pythonhosted.org/packages/e7/c7/dd50978c637a7af8234909277c4e7ec1b71310c13fb3135f3c8f5b6e045f/nbformat-5.1.3-py3-none-any.whl\n",
      "Collecting nbclient<0.6.0,>=0.5.0 (from nbconvert)\n",
      "  Using cached https://files.pythonhosted.org/packages/27/70/69c3561f43ea305da4b360820e67b57244c5308faf1fa890bc444e7cf842/nbclient-0.5.9-py3-none-any.whl\n",
      "Requirement already satisfied: pygments>=2.4.1 in ./venv_iso/lib/python3.6/site-packages (from nbconvert)\n",
      "Requirement already satisfied: traitlets>=4.2 in ./venv_iso/lib/python3.6/site-packages (from nbconvert)\n",
      "Collecting defusedxml (from nbconvert)\n",
      "  Using cached https://files.pythonhosted.org/packages/07/6c/aa3f2f849e01cb6a001cd8554a88d4c77c5c1a31c95bdf1cf9301e6d9ef4/defusedxml-0.7.1-py2.py3-none-any.whl\n",
      "Collecting MarkupSafe>=2.0 (from jinja2>=2.4->nbconvert)\n",
      "  Using cached https://files.pythonhosted.org/packages/fc/d6/57f9a97e56447a1e340f8574836d3b636e2c14de304943836bd645fa9c7e/MarkupSafe-2.0.1-cp36-cp36m-manylinux1_x86_64.whl\n",
      "Collecting webencodings (from bleach->nbconvert)\n",
      "  Using cached https://files.pythonhosted.org/packages/f4/24/2a3e3df732393fed8b3ebf2ec078f05546de641fe1b667ee316ec1dcf3b7/webencodings-0.5.1-py2.py3-none-any.whl\n",
      "Requirement already satisfied: six>=1.9.0 in ./venv_iso/lib/python3.6/site-packages (from bleach->nbconvert)\n",
      "Collecting packaging (from bleach->nbconvert)\n",
      "  Using cached https://files.pythonhosted.org/packages/05/8e/8de486cbd03baba4deef4142bd643a3e7bbe954a784dc1bb17142572d127/packaging-21.3-py3-none-any.whl\n",
      "Collecting jsonschema!=2.5.0,>=2.4 (from nbformat>=4.4->nbconvert)\n",
      "  Using cached https://files.pythonhosted.org/packages/e0/d9/05587ac378b9fd2c352c6f024f13240168365bd753a7e8007522b7025267/jsonschema-4.0.0-py3-none-any.whl\n",
      "Requirement already satisfied: ipython-genutils in ./venv_iso/lib/python3.6/site-packages (from nbformat>=4.4->nbconvert)\n",
      "Collecting async-generator; python_version < \"3.7\" (from nbclient<0.6.0,>=0.5.0->nbconvert)\n",
      "  Using cached https://files.pythonhosted.org/packages/71/52/39d20e03abd0ac9159c162ec24b93fbcaa111e8400308f2465432495ca2b/async_generator-1.10-py3-none-any.whl\n",
      "Requirement already satisfied: jupyter-client>=6.1.5 in ./venv_iso/lib/python3.6/site-packages (from nbclient<0.6.0,>=0.5.0->nbconvert)\n",
      "Requirement already satisfied: nest-asyncio in ./venv_iso/lib/python3.6/site-packages (from nbclient<0.6.0,>=0.5.0->nbconvert)\n",
      "Requirement already satisfied: decorator in ./venv_iso/lib/python3.6/site-packages (from traitlets>=4.2->nbconvert)\n",
      "Requirement already satisfied: pyparsing!=3.0.5,>=2.0.2 in ./venv_iso/lib/python3.6/site-packages (from packaging->bleach->nbconvert)\n",
      "Collecting pyrsistent!=0.17.0,!=0.17.1,!=0.17.2,>=0.14.0 (from jsonschema!=2.5.0,>=2.4->nbformat>=4.4->nbconvert)\n",
      "  Using cached https://files.pythonhosted.org/packages/6c/19/1af501f6f388a40ede6d0185ba481bdb18ffc99deab0dd0d092b173bc0f4/pyrsistent-0.18.0-cp36-cp36m-manylinux1_x86_64.whl\n",
      "Collecting importlib-metadata; python_version < \"3.8\" (from jsonschema!=2.5.0,>=2.4->nbformat>=4.4->nbconvert)\n",
      "  Using cached https://files.pythonhosted.org/packages/a0/a1/b153a0a4caf7a7e3f15c2cd56c7702e2cf3d89b1b359d1f1c5e59d68f4ce/importlib_metadata-4.8.3-py3-none-any.whl\n",
      "Collecting attrs>=17.4.0 (from jsonschema!=2.5.0,>=2.4->nbformat>=4.4->nbconvert)\n",
      "  Using cached https://files.pythonhosted.org/packages/fb/6e/6f83bf616d2becdf333a1640f1d463fef3150e2e926b7010cb0f81c95e88/attrs-22.2.0-py3-none-any.whl\n",
      "Requirement already satisfied: pyzmq>=13 in ./venv_iso/lib/python3.6/site-packages (from jupyter-client>=6.1.5->nbclient<0.6.0,>=0.5.0->nbconvert)\n",
      "Requirement already satisfied: python-dateutil>=2.1 in ./venv_iso/lib/python3.6/site-packages (from jupyter-client>=6.1.5->nbclient<0.6.0,>=0.5.0->nbconvert)\n",
      "Requirement already satisfied: tornado>=4.1 in ./venv_iso/lib/python3.6/site-packages (from jupyter-client>=6.1.5->nbclient<0.6.0,>=0.5.0->nbconvert)\n",
      "Requirement already satisfied: zipp>=0.5 in ./venv_iso/lib/python3.6/site-packages (from importlib-metadata; python_version < \"3.8\"->jsonschema!=2.5.0,>=2.4->nbformat>=4.4->nbconvert)\n",
      "Requirement already satisfied: typing-extensions>=3.6.4; python_version < \"3.8\" in ./venv_iso/lib/python3.6/site-packages (from importlib-metadata; python_version < \"3.8\"->jsonschema!=2.5.0,>=2.4->nbformat>=4.4->nbconvert)\n",
      "Installing collected packages: mistune, MarkupSafe, jinja2, webencodings, packaging, bleach, testpath, pandocfilters, jupyterlab-pygments, pyrsistent, importlib-metadata, attrs, jsonschema, nbformat, async-generator, nbclient, defusedxml, nbconvert\n",
      "Successfully installed MarkupSafe-2.0.1 async-generator-1.10 attrs-22.2.0 bleach-4.1.0 defusedxml-0.7.1 importlib-metadata-4.8.3 jinja2-3.0.3 jsonschema-4.0.0 jupyterlab-pygments-0.1.2 mistune-0.8.4 nbclient-0.5.9 nbconvert-6.0.7 nbformat-5.1.3 packaging-21.3 pandocfilters-1.5.0 pyrsistent-0.18.0 testpath-0.6.0 webencodings-0.5.1\n",
      "\u001b[33mYou are using pip version 9.0.1, however version 23.3.1 is available.\n",
      "You should consider upgrading via the 'pip install --upgrade pip' command.\u001b[0m\n"
     ]
    }
   ],
   "source": [
    "!python3 -m pip install nbconvert"
   ]
  }
 ],
 "metadata": {
  "kernelspec": {
   "display_name": "venv_iso",
   "language": "python",
   "name": "python3"
  },
  "language_info": {
   "codemirror_mode": {
    "name": "ipython",
    "version": 3
   },
   "file_extension": ".py",
   "mimetype": "text/x-python",
   "name": "python",
   "nbconvert_exporter": "python",
   "pygments_lexer": "ipython3",
   "version": "3.6.8"
  }
 },
 "nbformat": 4,
 "nbformat_minor": 2
}
